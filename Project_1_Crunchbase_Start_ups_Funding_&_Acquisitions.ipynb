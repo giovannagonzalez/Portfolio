{
  "nbformat": 4,
  "nbformat_minor": 0,
  "metadata": {
    "colab": {
      "provenance": [],
      "machine_shape": "hm"
    },
    "kernelspec": {
      "name": "python3",
      "display_name": "Python 3"
    },
    "language_info": {
      "name": "python"
    }
  },
  "cells": [
    {
      "cell_type": "markdown",
      "source": [
        "<div align=\"center\">\n",
        "\n",
        "# **Predictive analytics report - Start-ups: Funding and Acquisitions**\n",
        "\n",
        "\n",
        "---\n",
        "</div>"
      ],
      "metadata": {
        "id": "3niHnvYfGJ_L"
      }
    },
    {
      "cell_type": "markdown",
      "source": [
        "# Section #1. Problem Definition, Data & Objectives"
      ],
      "metadata": {
        "id": "AF7RpoVaGQy8"
      }
    },
    {
      "cell_type": "markdown",
      "source": [
        "\n",
        "**Problem definition:**\n",
        "Crunchbase is a reference to take financial informed decisions regarding finding investment opportunities and connecting with investors. With all the available information, ***how can we know which startup would be best to invest? and how can we know the likehood of our startup to succeed?*** \n",
        "\n",
        "\n",
        "**Data:**\n",
        "Crunchbase data contains crowdsourced information on a large number of startups including who invested in them and how much. Data includes Companies across the world that have raised money, Investors (individual and institutional) that have invested in those\n",
        "companies, Funding rounds of investment, and records of all acquisitions of these startups.\n",
        "\n",
        "\n",
        "**Objectives:**\n",
        "Build a model to predict possible success of a startup, i.e., operating. \n",
        "\n",
        "Current status are:\n",
        "- Operating\n",
        "- Acquired\n",
        "- Closed\n",
        "- IPO (Initial Public Offering)"
      ],
      "metadata": {
        "id": "W3MG60SO4tZI"
      }
    },
    {
      "cell_type": "markdown",
      "source": [
        "# Section #2. Data Preprocessing & Transformation"
      ],
      "metadata": {
        "id": "dFr7p0b2Gic7"
      }
    },
    {
      "cell_type": "markdown",
      "source": [
        "**Data Preprocessing**\n",
        "\n",
        "Our chosen data source have a total of file files: \"Companies\", \"Acquisitions\", \"Investments\", \"Additions\", \"Rounds\" \n",
        "\n",
        "\n",
        "As a general rule, we identified and selected the following common features: *company_name, company_list, company_country_code, investor_name, investor_country_code,founding_round_type, funded_at, raised_amount_used, acquirer_name, acquirer_category_list, acquirer_country_code*\n",
        "\n",
        "\n",
        "\n",
        "**Data cleaning**\n",
        "- Labelling.\n",
        "- Converted nulls to zeroes for continuous features.\n",
        "- Split for names - permalinks.\n",
        "- Joined (outer) companies with investors to cross with status.\n",
        "- Re-categorized companies for single-record categories.\n",
        "- Virtually dropped unused features.\n",
        "\n",
        "\n"
      ],
      "metadata": {
        "id": "fF9nfYjH8KS_"
      }
    },
    {
      "cell_type": "markdown",
      "source": [
        "# Section #3. Proposed Approach/Tools\n",
        "**Approach:**\n",
        "- Study the business problem behind the data.\n",
        "- Establish objectives and requirements.\n",
        "- Data cleaning.\n",
        "- Data visualization.\n",
        "- Develop predictive models.\n",
        "- Analyze performance of models.\n",
        "- Recommendations and insights.\n",
        "\n",
        "---\n",
        "\n",
        "**Tools**\n",
        "- Tableau (Data Visualization).\n",
        "- Google Colab.\n",
        "- Python + Libraries.\n",
        "\n",
        "---\n",
        "\n",
        "**Methods**\n",
        "- Random Forest.\n",
        "- K Nearest Neighbour.\n",
        "- Artificial Neural Network\n",
        "\n",
        "---\n",
        "\n",
        "**Tasks**\n",
        "\n",
        "\n",
        "1. Business understanding of every feature.\n",
        "2. Define the target feature. \n",
        "3. Consider data availability.\n",
        "4. Study data quality.\n",
        "5. Clean and organize data.\n",
        "6. Generate visualizations for understanding.\n",
        "7. Process data for modelling.\n",
        "8. Modelling.\n",
        "9. Verify accuracy.\n",
        "10. Conclusions and recommendations."
      ],
      "metadata": {
        "id": "zejIpjqG-7SM"
      }
    },
    {
      "cell_type": "markdown",
      "source": [
        "# Section #4: Project Outcome\n",
        "\n",
        "---\n",
        "\n"
      ],
      "metadata": {
        "id": "hRfwhmtkHZP5"
      }
    },
    {
      "cell_type": "markdown",
      "source": [
        "## Main data import - %Run me first%"
      ],
      "metadata": {
        "id": "Z9Ztgs1JLKL5"
      }
    },
    {
      "cell_type": "code",
      "execution_count": null,
      "metadata": {
        "id": "wYvF3SxUBidb",
        "colab": {
          "base_uri": "https://localhost:8080/",
          "height": 337
        },
        "outputId": "c0b99cc7-569f-4ca9-c9c8-800fba678cb0"
      },
      "outputs": [
        {
          "output_type": "execute_result",
          "data": {
            "text/plain": [
              "               permalink                    name  \\\n",
              "0                  -fame                   #fame   \n",
              "1               -qounter                :Qounter   \n",
              "2  -the-one-of-them-inc-  (THE) ONE of THEM,Inc.   \n",
              "3                0-6-com                 0-6.com   \n",
              "4       004-technologies        004 Technologies   \n",
              "\n",
              "                                            category  category_list  \\\n",
              "0                                              Media             21   \n",
              "1  Application Platforms|Real Time|Social Network...             21   \n",
              "2                                  Apps|Games|Mobile             21   \n",
              "3                                        Curated Web              6   \n",
              "4                                           Software              1   \n",
              "\n",
              "   funding_total_usd  status    status1  country_code country  funding_rounds  \\\n",
              "0         10000000.0       4  operating             4     IND               1   \n",
              "1           700000.0       4  operating             1     USA               2   \n",
              "2          3406878.0       4  operating            11     NaN               1   \n",
              "3          2000000.0       4  operating             5     CHN               1   \n",
              "4                0.0       4  operating             1     USA               1   \n",
              "\n",
              "     year  \n",
              "0     NaN  \n",
              "1  2014.0  \n",
              "2     NaN  \n",
              "3  2007.0  \n",
              "4  2010.0  "
            ],
            "text/html": [
              "\n",
              "  <div id=\"df-58b48fa4-df49-4b38-a5e8-894fb36dd0f2\">\n",
              "    <div class=\"colab-df-container\">\n",
              "      <div>\n",
              "<style scoped>\n",
              "    .dataframe tbody tr th:only-of-type {\n",
              "        vertical-align: middle;\n",
              "    }\n",
              "\n",
              "    .dataframe tbody tr th {\n",
              "        vertical-align: top;\n",
              "    }\n",
              "\n",
              "    .dataframe thead th {\n",
              "        text-align: right;\n",
              "    }\n",
              "</style>\n",
              "<table border=\"1\" class=\"dataframe\">\n",
              "  <thead>\n",
              "    <tr style=\"text-align: right;\">\n",
              "      <th></th>\n",
              "      <th>permalink</th>\n",
              "      <th>name</th>\n",
              "      <th>category</th>\n",
              "      <th>category_list</th>\n",
              "      <th>funding_total_usd</th>\n",
              "      <th>status</th>\n",
              "      <th>status1</th>\n",
              "      <th>country_code</th>\n",
              "      <th>country</th>\n",
              "      <th>funding_rounds</th>\n",
              "      <th>year</th>\n",
              "    </tr>\n",
              "  </thead>\n",
              "  <tbody>\n",
              "    <tr>\n",
              "      <th>0</th>\n",
              "      <td>-fame</td>\n",
              "      <td>#fame</td>\n",
              "      <td>Media</td>\n",
              "      <td>21</td>\n",
              "      <td>10000000.0</td>\n",
              "      <td>4</td>\n",
              "      <td>operating</td>\n",
              "      <td>4</td>\n",
              "      <td>IND</td>\n",
              "      <td>1</td>\n",
              "      <td>NaN</td>\n",
              "    </tr>\n",
              "    <tr>\n",
              "      <th>1</th>\n",
              "      <td>-qounter</td>\n",
              "      <td>:Qounter</td>\n",
              "      <td>Application Platforms|Real Time|Social Network...</td>\n",
              "      <td>21</td>\n",
              "      <td>700000.0</td>\n",
              "      <td>4</td>\n",
              "      <td>operating</td>\n",
              "      <td>1</td>\n",
              "      <td>USA</td>\n",
              "      <td>2</td>\n",
              "      <td>2014.0</td>\n",
              "    </tr>\n",
              "    <tr>\n",
              "      <th>2</th>\n",
              "      <td>-the-one-of-them-inc-</td>\n",
              "      <td>(THE) ONE of THEM,Inc.</td>\n",
              "      <td>Apps|Games|Mobile</td>\n",
              "      <td>21</td>\n",
              "      <td>3406878.0</td>\n",
              "      <td>4</td>\n",
              "      <td>operating</td>\n",
              "      <td>11</td>\n",
              "      <td>NaN</td>\n",
              "      <td>1</td>\n",
              "      <td>NaN</td>\n",
              "    </tr>\n",
              "    <tr>\n",
              "      <th>3</th>\n",
              "      <td>0-6-com</td>\n",
              "      <td>0-6.com</td>\n",
              "      <td>Curated Web</td>\n",
              "      <td>6</td>\n",
              "      <td>2000000.0</td>\n",
              "      <td>4</td>\n",
              "      <td>operating</td>\n",
              "      <td>5</td>\n",
              "      <td>CHN</td>\n",
              "      <td>1</td>\n",
              "      <td>2007.0</td>\n",
              "    </tr>\n",
              "    <tr>\n",
              "      <th>4</th>\n",
              "      <td>004-technologies</td>\n",
              "      <td>004 Technologies</td>\n",
              "      <td>Software</td>\n",
              "      <td>1</td>\n",
              "      <td>0.0</td>\n",
              "      <td>4</td>\n",
              "      <td>operating</td>\n",
              "      <td>1</td>\n",
              "      <td>USA</td>\n",
              "      <td>1</td>\n",
              "      <td>2010.0</td>\n",
              "    </tr>\n",
              "  </tbody>\n",
              "</table>\n",
              "</div>\n",
              "      <button class=\"colab-df-convert\" onclick=\"convertToInteractive('df-58b48fa4-df49-4b38-a5e8-894fb36dd0f2')\"\n",
              "              title=\"Convert this dataframe to an interactive table.\"\n",
              "              style=\"display:none;\">\n",
              "        \n",
              "  <svg xmlns=\"http://www.w3.org/2000/svg\" height=\"24px\"viewBox=\"0 0 24 24\"\n",
              "       width=\"24px\">\n",
              "    <path d=\"M0 0h24v24H0V0z\" fill=\"none\"/>\n",
              "    <path d=\"M18.56 5.44l.94 2.06.94-2.06 2.06-.94-2.06-.94-.94-2.06-.94 2.06-2.06.94zm-11 1L8.5 8.5l.94-2.06 2.06-.94-2.06-.94L8.5 2.5l-.94 2.06-2.06.94zm10 10l.94 2.06.94-2.06 2.06-.94-2.06-.94-.94-2.06-.94 2.06-2.06.94z\"/><path d=\"M17.41 7.96l-1.37-1.37c-.4-.4-.92-.59-1.43-.59-.52 0-1.04.2-1.43.59L10.3 9.45l-7.72 7.72c-.78.78-.78 2.05 0 2.83L4 21.41c.39.39.9.59 1.41.59.51 0 1.02-.2 1.41-.59l7.78-7.78 2.81-2.81c.8-.78.8-2.07 0-2.86zM5.41 20L4 18.59l7.72-7.72 1.47 1.35L5.41 20z\"/>\n",
              "  </svg>\n",
              "      </button>\n",
              "      \n",
              "  <style>\n",
              "    .colab-df-container {\n",
              "      display:flex;\n",
              "      flex-wrap:wrap;\n",
              "      gap: 12px;\n",
              "    }\n",
              "\n",
              "    .colab-df-convert {\n",
              "      background-color: #E8F0FE;\n",
              "      border: none;\n",
              "      border-radius: 50%;\n",
              "      cursor: pointer;\n",
              "      display: none;\n",
              "      fill: #1967D2;\n",
              "      height: 32px;\n",
              "      padding: 0 0 0 0;\n",
              "      width: 32px;\n",
              "    }\n",
              "\n",
              "    .colab-df-convert:hover {\n",
              "      background-color: #E2EBFA;\n",
              "      box-shadow: 0px 1px 2px rgba(60, 64, 67, 0.3), 0px 1px 3px 1px rgba(60, 64, 67, 0.15);\n",
              "      fill: #174EA6;\n",
              "    }\n",
              "\n",
              "    [theme=dark] .colab-df-convert {\n",
              "      background-color: #3B4455;\n",
              "      fill: #D2E3FC;\n",
              "    }\n",
              "\n",
              "    [theme=dark] .colab-df-convert:hover {\n",
              "      background-color: #434B5C;\n",
              "      box-shadow: 0px 1px 3px 1px rgba(0, 0, 0, 0.15);\n",
              "      filter: drop-shadow(0px 1px 2px rgba(0, 0, 0, 0.3));\n",
              "      fill: #FFFFFF;\n",
              "    }\n",
              "  </style>\n",
              "\n",
              "      <script>\n",
              "        const buttonEl =\n",
              "          document.querySelector('#df-58b48fa4-df49-4b38-a5e8-894fb36dd0f2 button.colab-df-convert');\n",
              "        buttonEl.style.display =\n",
              "          google.colab.kernel.accessAllowed ? 'block' : 'none';\n",
              "\n",
              "        async function convertToInteractive(key) {\n",
              "          const element = document.querySelector('#df-58b48fa4-df49-4b38-a5e8-894fb36dd0f2');\n",
              "          const dataTable =\n",
              "            await google.colab.kernel.invokeFunction('convertToInteractive',\n",
              "                                                     [key], {});\n",
              "          if (!dataTable) return;\n",
              "\n",
              "          const docLinkHtml = 'Like what you see? Visit the ' +\n",
              "            '<a target=\"_blank\" href=https://colab.research.google.com/notebooks/data_table.ipynb>data table notebook</a>'\n",
              "            + ' to learn more about interactive tables.';\n",
              "          element.innerHTML = '';\n",
              "          dataTable['output_type'] = 'display_data';\n",
              "          await google.colab.output.renderOutput(dataTable, element);\n",
              "          const docLink = document.createElement('div');\n",
              "          docLink.innerHTML = docLinkHtml;\n",
              "          element.appendChild(docLink);\n",
              "        }\n",
              "      </script>\n",
              "    </div>\n",
              "  </div>\n",
              "  "
            ]
          },
          "metadata": {},
          "execution_count": 90
        }
      ],
      "source": [
        "# Main data import\n",
        "import pandas as pd\n",
        "import seaborn as sns\n",
        "import matplotlib.pyplot as plt\n",
        "\n",
        "#Loading data from online repository\n",
        "acq = pd.read_csv('http://web.mangata.blog/652data/acquisitions.csv')\n",
        "additions = pd.read_csv('http://web.mangata.blog/652data/additions.csv')\n",
        "companies = pd.read_csv('http://web.mangata.blog/652data/companies.csv')\n",
        "investments = pd.read_csv('http://web.mangata.blog/652data/investments.csv')\n",
        "rounds = pd.read_csv('http://web.mangata.blog/652data/rounds.csv')\n",
        "comp_conv = pd.read_csv('http://web.mangata.blog/652data/companiesconverted.csv')\n",
        "#Disable warning\n",
        "import warnings\n",
        "warnings.filterwarnings(\"ignore\")\n",
        "#Selecting only relevant features\n",
        "cleaned_companies= comp_conv[[\"permalink\",\"name\",\"category\",\"category_list\",\"funding_total_usd\",\"status\", \"status1\", \"country_code\", \"country\",\"funding_rounds\", \"year\"]]\n",
        "\n",
        "#Cleaning permalinks column to use for joins\n",
        "cleaned_companies.permalink = companies.permalink.str.split('/').str.get(-1)\n",
        "\n",
        "#Fixing data quality: zero values have a - character\n",
        "cleaned_companies['funding_total_usd'] = cleaned_companies['funding_total_usd'].str.replace('-','0').astype(float)\n",
        "\n",
        "cleaned_companies.head()"
      ]
    },
    {
      "cell_type": "markdown",
      "source": [
        "## Data correction"
      ],
      "metadata": {
        "id": "QNzDCDCALVsn"
      }
    },
    {
      "cell_type": "markdown",
      "source": [
        "We analized each file and created statistics and visualizations to determine the data quality and possible corrections. "
      ],
      "metadata": {
        "id": "cMF8uo3PP18N"
      }
    },
    {
      "cell_type": "code",
      "source": [
        "\n",
        "print(cleaned_companies.info())\n",
        "print('Shape of dataframe:', cleaned_companies.shape)\n",
        "cleaned_companies.head()"
      ],
      "metadata": {
        "colab": {
          "base_uri": "https://localhost:8080/",
          "height": 694
        },
        "id": "BFriyRyz5dXx",
        "outputId": "ded5a9aa-d22c-46e4-e3e2-699877a6b90d"
      },
      "execution_count": null,
      "outputs": [
        {
          "output_type": "stream",
          "name": "stdout",
          "text": [
            "<class 'pandas.core.frame.DataFrame'>\n",
            "RangeIndex: 66368 entries, 0 to 66367\n",
            "Data columns (total 11 columns):\n",
            " #   Column             Non-Null Count  Dtype  \n",
            "---  ------             --------------  -----  \n",
            " 0   permalink          66368 non-null  object \n",
            " 1   name               66367 non-null  object \n",
            " 2   category           63220 non-null  object \n",
            " 3   category_list      66368 non-null  int64  \n",
            " 4   funding_total_usd  66368 non-null  float64\n",
            " 5   status             66368 non-null  int64  \n",
            " 6   status1            66368 non-null  object \n",
            " 7   country_code       66368 non-null  int64  \n",
            " 8   country            59410 non-null  object \n",
            " 9   funding_rounds     66368 non-null  int64  \n",
            " 10  year               51039 non-null  float64\n",
            "dtypes: float64(2), int64(4), object(5)\n",
            "memory usage: 5.6+ MB\n",
            "None\n",
            "Shape of dataframe: (66368, 11)\n"
          ]
        },
        {
          "output_type": "execute_result",
          "data": {
            "text/plain": [
              "               permalink                    name  \\\n",
              "0                  -fame                   #fame   \n",
              "1               -qounter                :Qounter   \n",
              "2  -the-one-of-them-inc-  (THE) ONE of THEM,Inc.   \n",
              "3                0-6-com                 0-6.com   \n",
              "4       004-technologies        004 Technologies   \n",
              "\n",
              "                                            category  category_list  \\\n",
              "0                                              Media             21   \n",
              "1  Application Platforms|Real Time|Social Network...             21   \n",
              "2                                  Apps|Games|Mobile             21   \n",
              "3                                        Curated Web              6   \n",
              "4                                           Software              1   \n",
              "\n",
              "   funding_total_usd  status    status1  country_code country  funding_rounds  \\\n",
              "0         10000000.0       4  operating             4     IND               1   \n",
              "1           700000.0       4  operating             1     USA               2   \n",
              "2          3406878.0       4  operating            11     NaN               1   \n",
              "3          2000000.0       4  operating             5     CHN               1   \n",
              "4                0.0       4  operating             1     USA               1   \n",
              "\n",
              "     year  \n",
              "0     NaN  \n",
              "1  2014.0  \n",
              "2     NaN  \n",
              "3  2007.0  \n",
              "4  2010.0  "
            ],
            "text/html": [
              "\n",
              "  <div id=\"df-e4ab6760-8e10-4929-8cad-4a2e48502a2d\">\n",
              "    <div class=\"colab-df-container\">\n",
              "      <div>\n",
              "<style scoped>\n",
              "    .dataframe tbody tr th:only-of-type {\n",
              "        vertical-align: middle;\n",
              "    }\n",
              "\n",
              "    .dataframe tbody tr th {\n",
              "        vertical-align: top;\n",
              "    }\n",
              "\n",
              "    .dataframe thead th {\n",
              "        text-align: right;\n",
              "    }\n",
              "</style>\n",
              "<table border=\"1\" class=\"dataframe\">\n",
              "  <thead>\n",
              "    <tr style=\"text-align: right;\">\n",
              "      <th></th>\n",
              "      <th>permalink</th>\n",
              "      <th>name</th>\n",
              "      <th>category</th>\n",
              "      <th>category_list</th>\n",
              "      <th>funding_total_usd</th>\n",
              "      <th>status</th>\n",
              "      <th>status1</th>\n",
              "      <th>country_code</th>\n",
              "      <th>country</th>\n",
              "      <th>funding_rounds</th>\n",
              "      <th>year</th>\n",
              "    </tr>\n",
              "  </thead>\n",
              "  <tbody>\n",
              "    <tr>\n",
              "      <th>0</th>\n",
              "      <td>-fame</td>\n",
              "      <td>#fame</td>\n",
              "      <td>Media</td>\n",
              "      <td>21</td>\n",
              "      <td>10000000.0</td>\n",
              "      <td>4</td>\n",
              "      <td>operating</td>\n",
              "      <td>4</td>\n",
              "      <td>IND</td>\n",
              "      <td>1</td>\n",
              "      <td>NaN</td>\n",
              "    </tr>\n",
              "    <tr>\n",
              "      <th>1</th>\n",
              "      <td>-qounter</td>\n",
              "      <td>:Qounter</td>\n",
              "      <td>Application Platforms|Real Time|Social Network...</td>\n",
              "      <td>21</td>\n",
              "      <td>700000.0</td>\n",
              "      <td>4</td>\n",
              "      <td>operating</td>\n",
              "      <td>1</td>\n",
              "      <td>USA</td>\n",
              "      <td>2</td>\n",
              "      <td>2014.0</td>\n",
              "    </tr>\n",
              "    <tr>\n",
              "      <th>2</th>\n",
              "      <td>-the-one-of-them-inc-</td>\n",
              "      <td>(THE) ONE of THEM,Inc.</td>\n",
              "      <td>Apps|Games|Mobile</td>\n",
              "      <td>21</td>\n",
              "      <td>3406878.0</td>\n",
              "      <td>4</td>\n",
              "      <td>operating</td>\n",
              "      <td>11</td>\n",
              "      <td>NaN</td>\n",
              "      <td>1</td>\n",
              "      <td>NaN</td>\n",
              "    </tr>\n",
              "    <tr>\n",
              "      <th>3</th>\n",
              "      <td>0-6-com</td>\n",
              "      <td>0-6.com</td>\n",
              "      <td>Curated Web</td>\n",
              "      <td>6</td>\n",
              "      <td>2000000.0</td>\n",
              "      <td>4</td>\n",
              "      <td>operating</td>\n",
              "      <td>5</td>\n",
              "      <td>CHN</td>\n",
              "      <td>1</td>\n",
              "      <td>2007.0</td>\n",
              "    </tr>\n",
              "    <tr>\n",
              "      <th>4</th>\n",
              "      <td>004-technologies</td>\n",
              "      <td>004 Technologies</td>\n",
              "      <td>Software</td>\n",
              "      <td>1</td>\n",
              "      <td>0.0</td>\n",
              "      <td>4</td>\n",
              "      <td>operating</td>\n",
              "      <td>1</td>\n",
              "      <td>USA</td>\n",
              "      <td>1</td>\n",
              "      <td>2010.0</td>\n",
              "    </tr>\n",
              "  </tbody>\n",
              "</table>\n",
              "</div>\n",
              "      <button class=\"colab-df-convert\" onclick=\"convertToInteractive('df-e4ab6760-8e10-4929-8cad-4a2e48502a2d')\"\n",
              "              title=\"Convert this dataframe to an interactive table.\"\n",
              "              style=\"display:none;\">\n",
              "        \n",
              "  <svg xmlns=\"http://www.w3.org/2000/svg\" height=\"24px\"viewBox=\"0 0 24 24\"\n",
              "       width=\"24px\">\n",
              "    <path d=\"M0 0h24v24H0V0z\" fill=\"none\"/>\n",
              "    <path d=\"M18.56 5.44l.94 2.06.94-2.06 2.06-.94-2.06-.94-.94-2.06-.94 2.06-2.06.94zm-11 1L8.5 8.5l.94-2.06 2.06-.94-2.06-.94L8.5 2.5l-.94 2.06-2.06.94zm10 10l.94 2.06.94-2.06 2.06-.94-2.06-.94-.94-2.06-.94 2.06-2.06.94z\"/><path d=\"M17.41 7.96l-1.37-1.37c-.4-.4-.92-.59-1.43-.59-.52 0-1.04.2-1.43.59L10.3 9.45l-7.72 7.72c-.78.78-.78 2.05 0 2.83L4 21.41c.39.39.9.59 1.41.59.51 0 1.02-.2 1.41-.59l7.78-7.78 2.81-2.81c.8-.78.8-2.07 0-2.86zM5.41 20L4 18.59l7.72-7.72 1.47 1.35L5.41 20z\"/>\n",
              "  </svg>\n",
              "      </button>\n",
              "      \n",
              "  <style>\n",
              "    .colab-df-container {\n",
              "      display:flex;\n",
              "      flex-wrap:wrap;\n",
              "      gap: 12px;\n",
              "    }\n",
              "\n",
              "    .colab-df-convert {\n",
              "      background-color: #E8F0FE;\n",
              "      border: none;\n",
              "      border-radius: 50%;\n",
              "      cursor: pointer;\n",
              "      display: none;\n",
              "      fill: #1967D2;\n",
              "      height: 32px;\n",
              "      padding: 0 0 0 0;\n",
              "      width: 32px;\n",
              "    }\n",
              "\n",
              "    .colab-df-convert:hover {\n",
              "      background-color: #E2EBFA;\n",
              "      box-shadow: 0px 1px 2px rgba(60, 64, 67, 0.3), 0px 1px 3px 1px rgba(60, 64, 67, 0.15);\n",
              "      fill: #174EA6;\n",
              "    }\n",
              "\n",
              "    [theme=dark] .colab-df-convert {\n",
              "      background-color: #3B4455;\n",
              "      fill: #D2E3FC;\n",
              "    }\n",
              "\n",
              "    [theme=dark] .colab-df-convert:hover {\n",
              "      background-color: #434B5C;\n",
              "      box-shadow: 0px 1px 3px 1px rgba(0, 0, 0, 0.15);\n",
              "      filter: drop-shadow(0px 1px 2px rgba(0, 0, 0, 0.3));\n",
              "      fill: #FFFFFF;\n",
              "    }\n",
              "  </style>\n",
              "\n",
              "      <script>\n",
              "        const buttonEl =\n",
              "          document.querySelector('#df-e4ab6760-8e10-4929-8cad-4a2e48502a2d button.colab-df-convert');\n",
              "        buttonEl.style.display =\n",
              "          google.colab.kernel.accessAllowed ? 'block' : 'none';\n",
              "\n",
              "        async function convertToInteractive(key) {\n",
              "          const element = document.querySelector('#df-e4ab6760-8e10-4929-8cad-4a2e48502a2d');\n",
              "          const dataTable =\n",
              "            await google.colab.kernel.invokeFunction('convertToInteractive',\n",
              "                                                     [key], {});\n",
              "          if (!dataTable) return;\n",
              "\n",
              "          const docLinkHtml = 'Like what you see? Visit the ' +\n",
              "            '<a target=\"_blank\" href=https://colab.research.google.com/notebooks/data_table.ipynb>data table notebook</a>'\n",
              "            + ' to learn more about interactive tables.';\n",
              "          element.innerHTML = '';\n",
              "          dataTable['output_type'] = 'display_data';\n",
              "          await google.colab.output.renderOutput(dataTable, element);\n",
              "          const docLink = document.createElement('div');\n",
              "          docLink.innerHTML = docLinkHtml;\n",
              "          element.appendChild(docLink);\n",
              "        }\n",
              "      </script>\n",
              "    </div>\n",
              "  </div>\n",
              "  "
            ]
          },
          "metadata": {},
          "execution_count": 91
        }
      ]
    },
    {
      "cell_type": "code",
      "source": [
        "cleaned_companies.isnull().sum()"
      ],
      "metadata": {
        "colab": {
          "base_uri": "https://localhost:8080/"
        },
        "id": "9nlB7xwsbNfe",
        "outputId": "032165c2-c14b-4465-bcfa-2bbc88906e09"
      },
      "execution_count": null,
      "outputs": [
        {
          "output_type": "execute_result",
          "data": {
            "text/plain": [
              "permalink                0\n",
              "name                     1\n",
              "category              3148\n",
              "category_list            0\n",
              "funding_total_usd        0\n",
              "status                   0\n",
              "status1                  0\n",
              "country_code             0\n",
              "country               6958\n",
              "funding_rounds           0\n",
              "year                 15329\n",
              "dtype: int64"
            ]
          },
          "metadata": {},
          "execution_count": 92
        }
      ]
    },
    {
      "cell_type": "code",
      "source": [
        "cleaned_companies['category_list'].fillna(0)"
      ],
      "metadata": {
        "colab": {
          "base_uri": "https://localhost:8080/"
        },
        "id": "1EwR2snIahMM",
        "outputId": "47a4b2ff-96c7-4be7-da58-e83213e3c392"
      },
      "execution_count": null,
      "outputs": [
        {
          "output_type": "execute_result",
          "data": {
            "text/plain": [
              "0        21\n",
              "1        21\n",
              "2        21\n",
              "3         6\n",
              "4         1\n",
              "         ..\n",
              "66363    10\n",
              "66364    21\n",
              "66365    21\n",
              "66366    21\n",
              "66367    21\n",
              "Name: category_list, Length: 66368, dtype: int64"
            ]
          },
          "metadata": {},
          "execution_count": 93
        }
      ]
    },
    {
      "cell_type": "code",
      "source": [
        "cleaned_companies['country_code'].fillna(0)"
      ],
      "metadata": {
        "colab": {
          "base_uri": "https://localhost:8080/"
        },
        "id": "ub24nhlIa2Rg",
        "outputId": "57a0ee07-5d17-4156-e1ac-c8667a982e54"
      },
      "execution_count": null,
      "outputs": [
        {
          "output_type": "execute_result",
          "data": {
            "text/plain": [
              "0         4\n",
              "1         1\n",
              "2        11\n",
              "3         5\n",
              "4         1\n",
              "         ..\n",
              "66363     5\n",
              "66364    11\n",
              "66365    11\n",
              "66366     1\n",
              "66367    11\n",
              "Name: country_code, Length: 66368, dtype: int64"
            ]
          },
          "metadata": {},
          "execution_count": 94
        }
      ]
    },
    {
      "cell_type": "code",
      "source": [
        "cleaned_companies['year'].fillna(0)"
      ],
      "metadata": {
        "id": "Q-7nz8Cgbkm4",
        "colab": {
          "base_uri": "https://localhost:8080/"
        },
        "outputId": "0871e8f0-e43f-45a6-c10e-3bb4d0652a13"
      },
      "execution_count": null,
      "outputs": [
        {
          "output_type": "execute_result",
          "data": {
            "text/plain": [
              "0           0.0\n",
              "1        2014.0\n",
              "2           0.0\n",
              "3        2007.0\n",
              "4        2010.0\n",
              "          ...  \n",
              "66363       0.0\n",
              "66364    2012.0\n",
              "66365    2011.0\n",
              "66366    2014.0\n",
              "66367       0.0\n",
              "Name: year, Length: 66368, dtype: float64"
            ]
          },
          "metadata": {},
          "execution_count": 95
        }
      ]
    },
    {
      "cell_type": "code",
      "source": [
        "cleaned_companies.isnull().values.any()"
      ],
      "metadata": {
        "colab": {
          "base_uri": "https://localhost:8080/"
        },
        "id": "AGx16YyEKIj-",
        "outputId": "7664f4e7-9b18-4892-92b8-73feaab0bd36"
      },
      "execution_count": null,
      "outputs": [
        {
          "output_type": "execute_result",
          "data": {
            "text/plain": [
              "True"
            ]
          },
          "metadata": {},
          "execution_count": 96
        }
      ]
    },
    {
      "cell_type": "code",
      "source": [
        "cleaned_companies.head()"
      ],
      "metadata": {
        "colab": {
          "base_uri": "https://localhost:8080/",
          "height": 337
        },
        "id": "ptKOv4EKa9Uz",
        "outputId": "66d25199-f20c-473c-d970-c61da205f7d0"
      },
      "execution_count": null,
      "outputs": [
        {
          "output_type": "execute_result",
          "data": {
            "text/plain": [
              "               permalink                    name  \\\n",
              "0                  -fame                   #fame   \n",
              "1               -qounter                :Qounter   \n",
              "2  -the-one-of-them-inc-  (THE) ONE of THEM,Inc.   \n",
              "3                0-6-com                 0-6.com   \n",
              "4       004-technologies        004 Technologies   \n",
              "\n",
              "                                            category  category_list  \\\n",
              "0                                              Media             21   \n",
              "1  Application Platforms|Real Time|Social Network...             21   \n",
              "2                                  Apps|Games|Mobile             21   \n",
              "3                                        Curated Web              6   \n",
              "4                                           Software              1   \n",
              "\n",
              "   funding_total_usd  status    status1  country_code country  funding_rounds  \\\n",
              "0         10000000.0       4  operating             4     IND               1   \n",
              "1           700000.0       4  operating             1     USA               2   \n",
              "2          3406878.0       4  operating            11     NaN               1   \n",
              "3          2000000.0       4  operating             5     CHN               1   \n",
              "4                0.0       4  operating             1     USA               1   \n",
              "\n",
              "     year  \n",
              "0     NaN  \n",
              "1  2014.0  \n",
              "2     NaN  \n",
              "3  2007.0  \n",
              "4  2010.0  "
            ],
            "text/html": [
              "\n",
              "  <div id=\"df-bb6a4a60-8a57-458e-a482-648fe86bc7d2\">\n",
              "    <div class=\"colab-df-container\">\n",
              "      <div>\n",
              "<style scoped>\n",
              "    .dataframe tbody tr th:only-of-type {\n",
              "        vertical-align: middle;\n",
              "    }\n",
              "\n",
              "    .dataframe tbody tr th {\n",
              "        vertical-align: top;\n",
              "    }\n",
              "\n",
              "    .dataframe thead th {\n",
              "        text-align: right;\n",
              "    }\n",
              "</style>\n",
              "<table border=\"1\" class=\"dataframe\">\n",
              "  <thead>\n",
              "    <tr style=\"text-align: right;\">\n",
              "      <th></th>\n",
              "      <th>permalink</th>\n",
              "      <th>name</th>\n",
              "      <th>category</th>\n",
              "      <th>category_list</th>\n",
              "      <th>funding_total_usd</th>\n",
              "      <th>status</th>\n",
              "      <th>status1</th>\n",
              "      <th>country_code</th>\n",
              "      <th>country</th>\n",
              "      <th>funding_rounds</th>\n",
              "      <th>year</th>\n",
              "    </tr>\n",
              "  </thead>\n",
              "  <tbody>\n",
              "    <tr>\n",
              "      <th>0</th>\n",
              "      <td>-fame</td>\n",
              "      <td>#fame</td>\n",
              "      <td>Media</td>\n",
              "      <td>21</td>\n",
              "      <td>10000000.0</td>\n",
              "      <td>4</td>\n",
              "      <td>operating</td>\n",
              "      <td>4</td>\n",
              "      <td>IND</td>\n",
              "      <td>1</td>\n",
              "      <td>NaN</td>\n",
              "    </tr>\n",
              "    <tr>\n",
              "      <th>1</th>\n",
              "      <td>-qounter</td>\n",
              "      <td>:Qounter</td>\n",
              "      <td>Application Platforms|Real Time|Social Network...</td>\n",
              "      <td>21</td>\n",
              "      <td>700000.0</td>\n",
              "      <td>4</td>\n",
              "      <td>operating</td>\n",
              "      <td>1</td>\n",
              "      <td>USA</td>\n",
              "      <td>2</td>\n",
              "      <td>2014.0</td>\n",
              "    </tr>\n",
              "    <tr>\n",
              "      <th>2</th>\n",
              "      <td>-the-one-of-them-inc-</td>\n",
              "      <td>(THE) ONE of THEM,Inc.</td>\n",
              "      <td>Apps|Games|Mobile</td>\n",
              "      <td>21</td>\n",
              "      <td>3406878.0</td>\n",
              "      <td>4</td>\n",
              "      <td>operating</td>\n",
              "      <td>11</td>\n",
              "      <td>NaN</td>\n",
              "      <td>1</td>\n",
              "      <td>NaN</td>\n",
              "    </tr>\n",
              "    <tr>\n",
              "      <th>3</th>\n",
              "      <td>0-6-com</td>\n",
              "      <td>0-6.com</td>\n",
              "      <td>Curated Web</td>\n",
              "      <td>6</td>\n",
              "      <td>2000000.0</td>\n",
              "      <td>4</td>\n",
              "      <td>operating</td>\n",
              "      <td>5</td>\n",
              "      <td>CHN</td>\n",
              "      <td>1</td>\n",
              "      <td>2007.0</td>\n",
              "    </tr>\n",
              "    <tr>\n",
              "      <th>4</th>\n",
              "      <td>004-technologies</td>\n",
              "      <td>004 Technologies</td>\n",
              "      <td>Software</td>\n",
              "      <td>1</td>\n",
              "      <td>0.0</td>\n",
              "      <td>4</td>\n",
              "      <td>operating</td>\n",
              "      <td>1</td>\n",
              "      <td>USA</td>\n",
              "      <td>1</td>\n",
              "      <td>2010.0</td>\n",
              "    </tr>\n",
              "  </tbody>\n",
              "</table>\n",
              "</div>\n",
              "      <button class=\"colab-df-convert\" onclick=\"convertToInteractive('df-bb6a4a60-8a57-458e-a482-648fe86bc7d2')\"\n",
              "              title=\"Convert this dataframe to an interactive table.\"\n",
              "              style=\"display:none;\">\n",
              "        \n",
              "  <svg xmlns=\"http://www.w3.org/2000/svg\" height=\"24px\"viewBox=\"0 0 24 24\"\n",
              "       width=\"24px\">\n",
              "    <path d=\"M0 0h24v24H0V0z\" fill=\"none\"/>\n",
              "    <path d=\"M18.56 5.44l.94 2.06.94-2.06 2.06-.94-2.06-.94-.94-2.06-.94 2.06-2.06.94zm-11 1L8.5 8.5l.94-2.06 2.06-.94-2.06-.94L8.5 2.5l-.94 2.06-2.06.94zm10 10l.94 2.06.94-2.06 2.06-.94-2.06-.94-.94-2.06-.94 2.06-2.06.94z\"/><path d=\"M17.41 7.96l-1.37-1.37c-.4-.4-.92-.59-1.43-.59-.52 0-1.04.2-1.43.59L10.3 9.45l-7.72 7.72c-.78.78-.78 2.05 0 2.83L4 21.41c.39.39.9.59 1.41.59.51 0 1.02-.2 1.41-.59l7.78-7.78 2.81-2.81c.8-.78.8-2.07 0-2.86zM5.41 20L4 18.59l7.72-7.72 1.47 1.35L5.41 20z\"/>\n",
              "  </svg>\n",
              "      </button>\n",
              "      \n",
              "  <style>\n",
              "    .colab-df-container {\n",
              "      display:flex;\n",
              "      flex-wrap:wrap;\n",
              "      gap: 12px;\n",
              "    }\n",
              "\n",
              "    .colab-df-convert {\n",
              "      background-color: #E8F0FE;\n",
              "      border: none;\n",
              "      border-radius: 50%;\n",
              "      cursor: pointer;\n",
              "      display: none;\n",
              "      fill: #1967D2;\n",
              "      height: 32px;\n",
              "      padding: 0 0 0 0;\n",
              "      width: 32px;\n",
              "    }\n",
              "\n",
              "    .colab-df-convert:hover {\n",
              "      background-color: #E2EBFA;\n",
              "      box-shadow: 0px 1px 2px rgba(60, 64, 67, 0.3), 0px 1px 3px 1px rgba(60, 64, 67, 0.15);\n",
              "      fill: #174EA6;\n",
              "    }\n",
              "\n",
              "    [theme=dark] .colab-df-convert {\n",
              "      background-color: #3B4455;\n",
              "      fill: #D2E3FC;\n",
              "    }\n",
              "\n",
              "    [theme=dark] .colab-df-convert:hover {\n",
              "      background-color: #434B5C;\n",
              "      box-shadow: 0px 1px 3px 1px rgba(0, 0, 0, 0.15);\n",
              "      filter: drop-shadow(0px 1px 2px rgba(0, 0, 0, 0.3));\n",
              "      fill: #FFFFFF;\n",
              "    }\n",
              "  </style>\n",
              "\n",
              "      <script>\n",
              "        const buttonEl =\n",
              "          document.querySelector('#df-bb6a4a60-8a57-458e-a482-648fe86bc7d2 button.colab-df-convert');\n",
              "        buttonEl.style.display =\n",
              "          google.colab.kernel.accessAllowed ? 'block' : 'none';\n",
              "\n",
              "        async function convertToInteractive(key) {\n",
              "          const element = document.querySelector('#df-bb6a4a60-8a57-458e-a482-648fe86bc7d2');\n",
              "          const dataTable =\n",
              "            await google.colab.kernel.invokeFunction('convertToInteractive',\n",
              "                                                     [key], {});\n",
              "          if (!dataTable) return;\n",
              "\n",
              "          const docLinkHtml = 'Like what you see? Visit the ' +\n",
              "            '<a target=\"_blank\" href=https://colab.research.google.com/notebooks/data_table.ipynb>data table notebook</a>'\n",
              "            + ' to learn more about interactive tables.';\n",
              "          element.innerHTML = '';\n",
              "          dataTable['output_type'] = 'display_data';\n",
              "          await google.colab.output.renderOutput(dataTable, element);\n",
              "          const docLink = document.createElement('div');\n",
              "          docLink.innerHTML = docLinkHtml;\n",
              "          element.appendChild(docLink);\n",
              "        }\n",
              "      </script>\n",
              "    </div>\n",
              "  </div>\n",
              "  "
            ]
          },
          "metadata": {},
          "execution_count": 97
        }
      ]
    },
    {
      "cell_type": "markdown",
      "source": [
        "Focus on the top 20 categories only. We wanted to evaluate the top 20 against working with the full data set. The end result was practically the same, since most of the records had common categories, and the special categories tipically had 1 record.\n",
        "\n",
        "\n",
        "For the final work we added a \"corrected\" file including the data corrections, to make the process faster and clearer. However, original files are also availables.\n",
        "\n",
        "\n",
        "\n"
      ],
      "metadata": {
        "id": "9XKOsBLjbXqA"
      }
    },
    {
      "cell_type": "code",
      "source": [
        "c1=cleaned_companies.sort_values(['category_list'],ascending=True)\n",
        "c1.head()"
      ],
      "metadata": {
        "colab": {
          "base_uri": "https://localhost:8080/",
          "height": 285
        },
        "id": "9rTuuta6balB",
        "outputId": "2f42a46d-832b-451f-8aaa-e261e5a58b9d"
      },
      "execution_count": null,
      "outputs": [
        {
          "output_type": "execute_result",
          "data": {
            "text/plain": [
              "                    permalink                name  category  category_list  \\\n",
              "58765  towercare-technologies            DonorPro  Software              1   \n",
              "12148                 codasip             Codasip  Software              1   \n",
              "53810      sphera-corporation  Sphera Corporation  Software              1   \n",
              "53807           spf-solutions       SPF Solutions  Software              1   \n",
              "27503            infinisource        Infinisource  Software              1   \n",
              "\n",
              "       funding_total_usd  status    status1  country_code country  \\\n",
              "58765           425101.0       4  operating             1     USA   \n",
              "12148          2800000.0       2     closed             1     USA   \n",
              "53810          7000000.0       1   acquired            11     NaN   \n",
              "53807           130000.0       4  operating             1     USA   \n",
              "27503                0.0       4  operating             1     USA   \n",
              "\n",
              "       funding_rounds    year  \n",
              "58765               1  2002.0  \n",
              "12148               1     NaN  \n",
              "53810               2     NaN  \n",
              "53807               2  2013.0  \n",
              "27503               1     NaN  "
            ],
            "text/html": [
              "\n",
              "  <div id=\"df-5bc7d4b2-f2b5-4c69-bca0-a09aac483a7b\">\n",
              "    <div class=\"colab-df-container\">\n",
              "      <div>\n",
              "<style scoped>\n",
              "    .dataframe tbody tr th:only-of-type {\n",
              "        vertical-align: middle;\n",
              "    }\n",
              "\n",
              "    .dataframe tbody tr th {\n",
              "        vertical-align: top;\n",
              "    }\n",
              "\n",
              "    .dataframe thead th {\n",
              "        text-align: right;\n",
              "    }\n",
              "</style>\n",
              "<table border=\"1\" class=\"dataframe\">\n",
              "  <thead>\n",
              "    <tr style=\"text-align: right;\">\n",
              "      <th></th>\n",
              "      <th>permalink</th>\n",
              "      <th>name</th>\n",
              "      <th>category</th>\n",
              "      <th>category_list</th>\n",
              "      <th>funding_total_usd</th>\n",
              "      <th>status</th>\n",
              "      <th>status1</th>\n",
              "      <th>country_code</th>\n",
              "      <th>country</th>\n",
              "      <th>funding_rounds</th>\n",
              "      <th>year</th>\n",
              "    </tr>\n",
              "  </thead>\n",
              "  <tbody>\n",
              "    <tr>\n",
              "      <th>58765</th>\n",
              "      <td>towercare-technologies</td>\n",
              "      <td>DonorPro</td>\n",
              "      <td>Software</td>\n",
              "      <td>1</td>\n",
              "      <td>425101.0</td>\n",
              "      <td>4</td>\n",
              "      <td>operating</td>\n",
              "      <td>1</td>\n",
              "      <td>USA</td>\n",
              "      <td>1</td>\n",
              "      <td>2002.0</td>\n",
              "    </tr>\n",
              "    <tr>\n",
              "      <th>12148</th>\n",
              "      <td>codasip</td>\n",
              "      <td>Codasip</td>\n",
              "      <td>Software</td>\n",
              "      <td>1</td>\n",
              "      <td>2800000.0</td>\n",
              "      <td>2</td>\n",
              "      <td>closed</td>\n",
              "      <td>1</td>\n",
              "      <td>USA</td>\n",
              "      <td>1</td>\n",
              "      <td>NaN</td>\n",
              "    </tr>\n",
              "    <tr>\n",
              "      <th>53810</th>\n",
              "      <td>sphera-corporation</td>\n",
              "      <td>Sphera Corporation</td>\n",
              "      <td>Software</td>\n",
              "      <td>1</td>\n",
              "      <td>7000000.0</td>\n",
              "      <td>1</td>\n",
              "      <td>acquired</td>\n",
              "      <td>11</td>\n",
              "      <td>NaN</td>\n",
              "      <td>2</td>\n",
              "      <td>NaN</td>\n",
              "    </tr>\n",
              "    <tr>\n",
              "      <th>53807</th>\n",
              "      <td>spf-solutions</td>\n",
              "      <td>SPF Solutions</td>\n",
              "      <td>Software</td>\n",
              "      <td>1</td>\n",
              "      <td>130000.0</td>\n",
              "      <td>4</td>\n",
              "      <td>operating</td>\n",
              "      <td>1</td>\n",
              "      <td>USA</td>\n",
              "      <td>2</td>\n",
              "      <td>2013.0</td>\n",
              "    </tr>\n",
              "    <tr>\n",
              "      <th>27503</th>\n",
              "      <td>infinisource</td>\n",
              "      <td>Infinisource</td>\n",
              "      <td>Software</td>\n",
              "      <td>1</td>\n",
              "      <td>0.0</td>\n",
              "      <td>4</td>\n",
              "      <td>operating</td>\n",
              "      <td>1</td>\n",
              "      <td>USA</td>\n",
              "      <td>1</td>\n",
              "      <td>NaN</td>\n",
              "    </tr>\n",
              "  </tbody>\n",
              "</table>\n",
              "</div>\n",
              "      <button class=\"colab-df-convert\" onclick=\"convertToInteractive('df-5bc7d4b2-f2b5-4c69-bca0-a09aac483a7b')\"\n",
              "              title=\"Convert this dataframe to an interactive table.\"\n",
              "              style=\"display:none;\">\n",
              "        \n",
              "  <svg xmlns=\"http://www.w3.org/2000/svg\" height=\"24px\"viewBox=\"0 0 24 24\"\n",
              "       width=\"24px\">\n",
              "    <path d=\"M0 0h24v24H0V0z\" fill=\"none\"/>\n",
              "    <path d=\"M18.56 5.44l.94 2.06.94-2.06 2.06-.94-2.06-.94-.94-2.06-.94 2.06-2.06.94zm-11 1L8.5 8.5l.94-2.06 2.06-.94-2.06-.94L8.5 2.5l-.94 2.06-2.06.94zm10 10l.94 2.06.94-2.06 2.06-.94-2.06-.94-.94-2.06-.94 2.06-2.06.94z\"/><path d=\"M17.41 7.96l-1.37-1.37c-.4-.4-.92-.59-1.43-.59-.52 0-1.04.2-1.43.59L10.3 9.45l-7.72 7.72c-.78.78-.78 2.05 0 2.83L4 21.41c.39.39.9.59 1.41.59.51 0 1.02-.2 1.41-.59l7.78-7.78 2.81-2.81c.8-.78.8-2.07 0-2.86zM5.41 20L4 18.59l7.72-7.72 1.47 1.35L5.41 20z\"/>\n",
              "  </svg>\n",
              "      </button>\n",
              "      \n",
              "  <style>\n",
              "    .colab-df-container {\n",
              "      display:flex;\n",
              "      flex-wrap:wrap;\n",
              "      gap: 12px;\n",
              "    }\n",
              "\n",
              "    .colab-df-convert {\n",
              "      background-color: #E8F0FE;\n",
              "      border: none;\n",
              "      border-radius: 50%;\n",
              "      cursor: pointer;\n",
              "      display: none;\n",
              "      fill: #1967D2;\n",
              "      height: 32px;\n",
              "      padding: 0 0 0 0;\n",
              "      width: 32px;\n",
              "    }\n",
              "\n",
              "    .colab-df-convert:hover {\n",
              "      background-color: #E2EBFA;\n",
              "      box-shadow: 0px 1px 2px rgba(60, 64, 67, 0.3), 0px 1px 3px 1px rgba(60, 64, 67, 0.15);\n",
              "      fill: #174EA6;\n",
              "    }\n",
              "\n",
              "    [theme=dark] .colab-df-convert {\n",
              "      background-color: #3B4455;\n",
              "      fill: #D2E3FC;\n",
              "    }\n",
              "\n",
              "    [theme=dark] .colab-df-convert:hover {\n",
              "      background-color: #434B5C;\n",
              "      box-shadow: 0px 1px 3px 1px rgba(0, 0, 0, 0.15);\n",
              "      filter: drop-shadow(0px 1px 2px rgba(0, 0, 0, 0.3));\n",
              "      fill: #FFFFFF;\n",
              "    }\n",
              "  </style>\n",
              "\n",
              "      <script>\n",
              "        const buttonEl =\n",
              "          document.querySelector('#df-5bc7d4b2-f2b5-4c69-bca0-a09aac483a7b button.colab-df-convert');\n",
              "        buttonEl.style.display =\n",
              "          google.colab.kernel.accessAllowed ? 'block' : 'none';\n",
              "\n",
              "        async function convertToInteractive(key) {\n",
              "          const element = document.querySelector('#df-5bc7d4b2-f2b5-4c69-bca0-a09aac483a7b');\n",
              "          const dataTable =\n",
              "            await google.colab.kernel.invokeFunction('convertToInteractive',\n",
              "                                                     [key], {});\n",
              "          if (!dataTable) return;\n",
              "\n",
              "          const docLinkHtml = 'Like what you see? Visit the ' +\n",
              "            '<a target=\"_blank\" href=https://colab.research.google.com/notebooks/data_table.ipynb>data table notebook</a>'\n",
              "            + ' to learn more about interactive tables.';\n",
              "          element.innerHTML = '';\n",
              "          dataTable['output_type'] = 'display_data';\n",
              "          await google.colab.output.renderOutput(dataTable, element);\n",
              "          const docLink = document.createElement('div');\n",
              "          docLink.innerHTML = docLinkHtml;\n",
              "          element.appendChild(docLink);\n",
              "        }\n",
              "      </script>\n",
              "    </div>\n",
              "  </div>\n",
              "  "
            ]
          },
          "metadata": {},
          "execution_count": 98
        }
      ]
    },
    {
      "cell_type": "code",
      "source": [
        "c1 = c1[c1.category_list != 21]\n",
        "c1.head()"
      ],
      "metadata": {
        "colab": {
          "base_uri": "https://localhost:8080/",
          "height": 285
        },
        "id": "q0c8hL1teVbW",
        "outputId": "b0dd9fad-221a-4fa6-a490-89083aca5625"
      },
      "execution_count": null,
      "outputs": [
        {
          "output_type": "execute_result",
          "data": {
            "text/plain": [
              "                    permalink                name  category  category_list  \\\n",
              "58765  towercare-technologies            DonorPro  Software              1   \n",
              "12148                 codasip             Codasip  Software              1   \n",
              "53810      sphera-corporation  Sphera Corporation  Software              1   \n",
              "53807           spf-solutions       SPF Solutions  Software              1   \n",
              "27503            infinisource        Infinisource  Software              1   \n",
              "\n",
              "       funding_total_usd  status    status1  country_code country  \\\n",
              "58765           425101.0       4  operating             1     USA   \n",
              "12148          2800000.0       2     closed             1     USA   \n",
              "53810          7000000.0       1   acquired            11     NaN   \n",
              "53807           130000.0       4  operating             1     USA   \n",
              "27503                0.0       4  operating             1     USA   \n",
              "\n",
              "       funding_rounds    year  \n",
              "58765               1  2002.0  \n",
              "12148               1     NaN  \n",
              "53810               2     NaN  \n",
              "53807               2  2013.0  \n",
              "27503               1     NaN  "
            ],
            "text/html": [
              "\n",
              "  <div id=\"df-d3f67cbd-fb12-4d4a-a251-0482c75d78c9\">\n",
              "    <div class=\"colab-df-container\">\n",
              "      <div>\n",
              "<style scoped>\n",
              "    .dataframe tbody tr th:only-of-type {\n",
              "        vertical-align: middle;\n",
              "    }\n",
              "\n",
              "    .dataframe tbody tr th {\n",
              "        vertical-align: top;\n",
              "    }\n",
              "\n",
              "    .dataframe thead th {\n",
              "        text-align: right;\n",
              "    }\n",
              "</style>\n",
              "<table border=\"1\" class=\"dataframe\">\n",
              "  <thead>\n",
              "    <tr style=\"text-align: right;\">\n",
              "      <th></th>\n",
              "      <th>permalink</th>\n",
              "      <th>name</th>\n",
              "      <th>category</th>\n",
              "      <th>category_list</th>\n",
              "      <th>funding_total_usd</th>\n",
              "      <th>status</th>\n",
              "      <th>status1</th>\n",
              "      <th>country_code</th>\n",
              "      <th>country</th>\n",
              "      <th>funding_rounds</th>\n",
              "      <th>year</th>\n",
              "    </tr>\n",
              "  </thead>\n",
              "  <tbody>\n",
              "    <tr>\n",
              "      <th>58765</th>\n",
              "      <td>towercare-technologies</td>\n",
              "      <td>DonorPro</td>\n",
              "      <td>Software</td>\n",
              "      <td>1</td>\n",
              "      <td>425101.0</td>\n",
              "      <td>4</td>\n",
              "      <td>operating</td>\n",
              "      <td>1</td>\n",
              "      <td>USA</td>\n",
              "      <td>1</td>\n",
              "      <td>2002.0</td>\n",
              "    </tr>\n",
              "    <tr>\n",
              "      <th>12148</th>\n",
              "      <td>codasip</td>\n",
              "      <td>Codasip</td>\n",
              "      <td>Software</td>\n",
              "      <td>1</td>\n",
              "      <td>2800000.0</td>\n",
              "      <td>2</td>\n",
              "      <td>closed</td>\n",
              "      <td>1</td>\n",
              "      <td>USA</td>\n",
              "      <td>1</td>\n",
              "      <td>NaN</td>\n",
              "    </tr>\n",
              "    <tr>\n",
              "      <th>53810</th>\n",
              "      <td>sphera-corporation</td>\n",
              "      <td>Sphera Corporation</td>\n",
              "      <td>Software</td>\n",
              "      <td>1</td>\n",
              "      <td>7000000.0</td>\n",
              "      <td>1</td>\n",
              "      <td>acquired</td>\n",
              "      <td>11</td>\n",
              "      <td>NaN</td>\n",
              "      <td>2</td>\n",
              "      <td>NaN</td>\n",
              "    </tr>\n",
              "    <tr>\n",
              "      <th>53807</th>\n",
              "      <td>spf-solutions</td>\n",
              "      <td>SPF Solutions</td>\n",
              "      <td>Software</td>\n",
              "      <td>1</td>\n",
              "      <td>130000.0</td>\n",
              "      <td>4</td>\n",
              "      <td>operating</td>\n",
              "      <td>1</td>\n",
              "      <td>USA</td>\n",
              "      <td>2</td>\n",
              "      <td>2013.0</td>\n",
              "    </tr>\n",
              "    <tr>\n",
              "      <th>27503</th>\n",
              "      <td>infinisource</td>\n",
              "      <td>Infinisource</td>\n",
              "      <td>Software</td>\n",
              "      <td>1</td>\n",
              "      <td>0.0</td>\n",
              "      <td>4</td>\n",
              "      <td>operating</td>\n",
              "      <td>1</td>\n",
              "      <td>USA</td>\n",
              "      <td>1</td>\n",
              "      <td>NaN</td>\n",
              "    </tr>\n",
              "  </tbody>\n",
              "</table>\n",
              "</div>\n",
              "      <button class=\"colab-df-convert\" onclick=\"convertToInteractive('df-d3f67cbd-fb12-4d4a-a251-0482c75d78c9')\"\n",
              "              title=\"Convert this dataframe to an interactive table.\"\n",
              "              style=\"display:none;\">\n",
              "        \n",
              "  <svg xmlns=\"http://www.w3.org/2000/svg\" height=\"24px\"viewBox=\"0 0 24 24\"\n",
              "       width=\"24px\">\n",
              "    <path d=\"M0 0h24v24H0V0z\" fill=\"none\"/>\n",
              "    <path d=\"M18.56 5.44l.94 2.06.94-2.06 2.06-.94-2.06-.94-.94-2.06-.94 2.06-2.06.94zm-11 1L8.5 8.5l.94-2.06 2.06-.94-2.06-.94L8.5 2.5l-.94 2.06-2.06.94zm10 10l.94 2.06.94-2.06 2.06-.94-2.06-.94-.94-2.06-.94 2.06-2.06.94z\"/><path d=\"M17.41 7.96l-1.37-1.37c-.4-.4-.92-.59-1.43-.59-.52 0-1.04.2-1.43.59L10.3 9.45l-7.72 7.72c-.78.78-.78 2.05 0 2.83L4 21.41c.39.39.9.59 1.41.59.51 0 1.02-.2 1.41-.59l7.78-7.78 2.81-2.81c.8-.78.8-2.07 0-2.86zM5.41 20L4 18.59l7.72-7.72 1.47 1.35L5.41 20z\"/>\n",
              "  </svg>\n",
              "      </button>\n",
              "      \n",
              "  <style>\n",
              "    .colab-df-container {\n",
              "      display:flex;\n",
              "      flex-wrap:wrap;\n",
              "      gap: 12px;\n",
              "    }\n",
              "\n",
              "    .colab-df-convert {\n",
              "      background-color: #E8F0FE;\n",
              "      border: none;\n",
              "      border-radius: 50%;\n",
              "      cursor: pointer;\n",
              "      display: none;\n",
              "      fill: #1967D2;\n",
              "      height: 32px;\n",
              "      padding: 0 0 0 0;\n",
              "      width: 32px;\n",
              "    }\n",
              "\n",
              "    .colab-df-convert:hover {\n",
              "      background-color: #E2EBFA;\n",
              "      box-shadow: 0px 1px 2px rgba(60, 64, 67, 0.3), 0px 1px 3px 1px rgba(60, 64, 67, 0.15);\n",
              "      fill: #174EA6;\n",
              "    }\n",
              "\n",
              "    [theme=dark] .colab-df-convert {\n",
              "      background-color: #3B4455;\n",
              "      fill: #D2E3FC;\n",
              "    }\n",
              "\n",
              "    [theme=dark] .colab-df-convert:hover {\n",
              "      background-color: #434B5C;\n",
              "      box-shadow: 0px 1px 3px 1px rgba(0, 0, 0, 0.15);\n",
              "      filter: drop-shadow(0px 1px 2px rgba(0, 0, 0, 0.3));\n",
              "      fill: #FFFFFF;\n",
              "    }\n",
              "  </style>\n",
              "\n",
              "      <script>\n",
              "        const buttonEl =\n",
              "          document.querySelector('#df-d3f67cbd-fb12-4d4a-a251-0482c75d78c9 button.colab-df-convert');\n",
              "        buttonEl.style.display =\n",
              "          google.colab.kernel.accessAllowed ? 'block' : 'none';\n",
              "\n",
              "        async function convertToInteractive(key) {\n",
              "          const element = document.querySelector('#df-d3f67cbd-fb12-4d4a-a251-0482c75d78c9');\n",
              "          const dataTable =\n",
              "            await google.colab.kernel.invokeFunction('convertToInteractive',\n",
              "                                                     [key], {});\n",
              "          if (!dataTable) return;\n",
              "\n",
              "          const docLinkHtml = 'Like what you see? Visit the ' +\n",
              "            '<a target=\"_blank\" href=https://colab.research.google.com/notebooks/data_table.ipynb>data table notebook</a>'\n",
              "            + ' to learn more about interactive tables.';\n",
              "          element.innerHTML = '';\n",
              "          dataTable['output_type'] = 'display_data';\n",
              "          await google.colab.output.renderOutput(dataTable, element);\n",
              "          const docLink = document.createElement('div');\n",
              "          docLink.innerHTML = docLinkHtml;\n",
              "          element.appendChild(docLink);\n",
              "        }\n",
              "      </script>\n",
              "    </div>\n",
              "  </div>\n",
              "  "
            ]
          },
          "metadata": {},
          "execution_count": 99
        }
      ]
    },
    {
      "cell_type": "markdown",
      "source": [
        "## Visualizations"
      ],
      "metadata": {
        "id": "KK6flY4oSpLI"
      }
    },
    {
      "cell_type": "markdown",
      "source": [
        "We worked in some visualizations first to understand the data distribution and quality.\n",
        "\n"
      ],
      "metadata": {
        "id": "oXQNqqVXQHxJ"
      }
    },
    {
      "cell_type": "code",
      "source": [
        "\n",
        "sns.distplot (acq.price_amount, 50)"
      ],
      "metadata": {
        "id": "l-PZHh2YwfnS",
        "colab": {
          "base_uri": "https://localhost:8080/",
          "height": 309
        },
        "outputId": "95369821-8e46-42fc-bf4a-d3eb6847d7a0"
      },
      "execution_count": null,
      "outputs": [
        {
          "output_type": "execute_result",
          "data": {
            "text/plain": [
              "<matplotlib.axes._subplots.AxesSubplot at 0x7f27ce805a10>"
            ]
          },
          "metadata": {},
          "execution_count": 100
        },
        {
          "output_type": "display_data",
          "data": {
            "text/plain": [
              "<Figure size 432x288 with 1 Axes>"
            ],
            "image/png": "[encoded data removed]"
          },
          "metadata": {
            "needs_background": "light"
          }
        }
      ]
    },
    {
      "cell_type": "code",
      "source": [
        "#Simple plot to understand countries and funding amounts\n",
        "\n",
        "result = cleaned_companies.groupby([\"country_code\"])['funding_total_usd'].median().reset_index().sort_values('funding_total_usd',ascending = False)[:8]\n",
        "norm = plt.Normalize(cleaned_companies[\"funding_total_usd\"].values.min(), cleaned_companies[\"funding_total_usd\"].values.max())\n",
        "colors = plt.cm.Reds(norm(cleaned_companies[\"funding_total_usd\"])) \n",
        "plt.figure(figsize=(10,5))\n",
        "sns.barplot(x='country_code', y=\"funding_total_usd\", data=result, palette='pastel',  order=result['country_code'])\n",
        "\n",
        "plt.ylabel('funding_total_usd', fontsize=14)\n",
        "plt.xlabel('country_code', fontsize=14)\n",
        "plt.xticks(rotation='vertical')\n",
        "\n",
        "plt.show()"
      ],
      "metadata": {
        "colab": {
          "base_uri": "https://localhost:8080/",
          "height": 351
        },
        "id": "9VDAaPrNq94L",
        "outputId": "7e5d40cf-c8e5-45dc-f5d4-2f6c102f3e52"
      },
      "execution_count": null,
      "outputs": [
        {
          "output_type": "display_data",
          "data": {
            "text/plain": [
              "<Figure size 720x360 with 1 Axes>"
            ],
            "image/png": "[encoded data removed]"
          },
          "metadata": {
            "needs_background": "light"
          }
        }
      ]
    },
    {
      "cell_type": "code",
      "source": [
        "print(result)"
      ],
      "metadata": {
        "colab": {
          "base_uri": "https://localhost:8080/"
        },
        "id": "4sBHIk_17kDY",
        "outputId": "986a6a88-3480-460f-806f-f85eb26153b6"
      },
      "execution_count": null,
      "outputs": [
        {
          "output_type": "stream",
          "name": "stdout",
          "text": [
            "   country_code  funding_total_usd\n",
            "4             5          5252740.5\n",
            "7             8          2200000.0\n",
            "5             6          1750000.0\n",
            "0             1          1575000.0\n",
            "2             3          1000000.0\n",
            "1             2           883012.5\n",
            "9            10           700000.0\n",
            "8             9           450000.0\n"
          ]
        }
      ]
    },
    {
      "cell_type": "code",
      "source": [
        "acq.isnull().sum()\n",
        "\n",
        "\n"
      ],
      "metadata": {
        "id": "jncSTqOTvYw2",
        "colab": {
          "base_uri": "https://localhost:8080/"
        },
        "outputId": "8640a131-1cee-40b9-8359-63222f1e187f"
      },
      "execution_count": null,
      "outputs": [
        {
          "output_type": "execute_result",
          "data": {
            "text/plain": [
              "company_permalink             0\n",
              "company_name                  0\n",
              "company_category_list      4983\n",
              "company_country_code       4668\n",
              "company_state_code         4948\n",
              "company_region             4910\n",
              "company_city               4910\n",
              "acquirer_permalink            0\n",
              "acquirer_name                 0\n",
              "acquirer_category_list     2388\n",
              "acquirer_country_code      1170\n",
              "acquirer_state_code        1435\n",
              "acquirer_region            1359\n",
              "acquirer_city              1359\n",
              "acquired_at                  12\n",
              "acquired_month               14\n",
              "price_amount              13956\n",
              "price_currency_code           6\n",
              "dtype: int64"
            ]
          },
          "metadata": {},
          "execution_count": 112
        }
      ]
    },
    {
      "cell_type": "code",
      "source": [
        "acq['company_category_list'].value_counts()\n"
      ],
      "metadata": {
        "id": "lfqxyAtTwfVE",
        "colab": {
          "base_uri": "https://localhost:8080/"
        },
        "outputId": "21abfe06-4117-4cb0-f082-e9709fcb9c6f"
      },
      "execution_count": null,
      "outputs": [
        {
          "output_type": "execute_result",
          "data": {
            "text/plain": [
              "Software                                            1459\n",
              "Curated Web                                          580\n",
              "Biotechnology                                        546\n",
              "Enterprise Software                                  398\n",
              "Mobile                                               317\n",
              "                                                    ... \n",
              "SaaS|Sales and Marketing|Software                      1\n",
              "Application Platforms|Service Providers|Services       1\n",
              "Consulting|Design|User Experience Design               1\n",
              "FreetoPlay Gaming|Games|MMO Games                      1\n",
              "CA                                                     1\n",
              "Name: company_category_list, Length: 5930, dtype: int64"
            ]
          },
          "metadata": {},
          "execution_count": 114
        }
      ]
    },
    {
      "cell_type": "code",
      "source": [
        "acq['acquirer_name'].value_counts()\n"
      ],
      "metadata": {
        "id": "SYeviRbO06Ii",
        "colab": {
          "base_uri": "https://localhost:8080/"
        },
        "outputId": "9eee5acc-aa1b-4dc4-e291-911831c4324f"
      },
      "execution_count": null,
      "outputs": [
        {
          "output_type": "execute_result",
          "data": {
            "text/plain": [
              "Cisco                                    193\n",
              "Google                                   176\n",
              "Microsoft                                161\n",
              "IBM (International Business Machines)    138\n",
              "Yahoo!                                   118\n",
              "                                        ... \n",
              "Prime Active Capital                       1\n",
              "Wilcon                                     1\n",
              "Eco Green Auto Clean                       1\n",
              "Iotum                                      1\n",
              "2000                                       1\n",
              "Name: acquirer_name, Length: 9475, dtype: int64"
            ]
          },
          "metadata": {},
          "execution_count": 115
        }
      ]
    },
    {
      "cell_type": "code",
      "source": [
        "cleaned_companies.info()"
      ],
      "metadata": {
        "colab": {
          "base_uri": "https://localhost:8080/"
        },
        "id": "-6J4sAqeothb",
        "outputId": "99006e4f-b920-4023-e231-3b154f23dea3"
      },
      "execution_count": null,
      "outputs": [
        {
          "output_type": "stream",
          "name": "stdout",
          "text": [
            "<class 'pandas.core.frame.DataFrame'>\n",
            "RangeIndex: 66368 entries, 0 to 66367\n",
            "Data columns (total 11 columns):\n",
            " #   Column             Non-Null Count  Dtype  \n",
            "---  ------             --------------  -----  \n",
            " 0   permalink          66368 non-null  object \n",
            " 1   name               66367 non-null  object \n",
            " 2   category           63220 non-null  object \n",
            " 3   category_list      66368 non-null  int64  \n",
            " 4   funding_total_usd  66368 non-null  float64\n",
            " 5   status             66368 non-null  int64  \n",
            " 6   status1            66368 non-null  object \n",
            " 7   country_code       66368 non-null  int64  \n",
            " 8   country            59410 non-null  object \n",
            " 9   funding_rounds     66368 non-null  int64  \n",
            " 10  year               51039 non-null  float64\n",
            "dtypes: float64(2), int64(4), object(5)\n",
            "memory usage: 5.6+ MB\n"
          ]
        }
      ]
    },
    {
      "cell_type": "code",
      "source": [
        "cleaned_companies.head()"
      ],
      "metadata": {
        "colab": {
          "base_uri": "https://localhost:8080/",
          "height": 337
        },
        "id": "NpoCgE_IpmxV",
        "outputId": "fcd370bc-ae20-4fdf-ef4a-6d38e02e4998"
      },
      "execution_count": null,
      "outputs": [
        {
          "output_type": "execute_result",
          "data": {
            "text/plain": [
              "               permalink                    name  \\\n",
              "0                  -fame                   #fame   \n",
              "1               -qounter                :Qounter   \n",
              "2  -the-one-of-them-inc-  (THE) ONE of THEM,Inc.   \n",
              "3                0-6-com                 0-6.com   \n",
              "4       004-technologies        004 Technologies   \n",
              "\n",
              "                                            category  category_list  \\\n",
              "0                                              Media             21   \n",
              "1  Application Platforms|Real Time|Social Network...             21   \n",
              "2                                  Apps|Games|Mobile             21   \n",
              "3                                        Curated Web              6   \n",
              "4                                           Software              1   \n",
              "\n",
              "   funding_total_usd  status    status1  country_code country  funding_rounds  \\\n",
              "0         10000000.0       4  operating             4     IND               1   \n",
              "1           700000.0       4  operating             1     USA               2   \n",
              "2          3406878.0       4  operating            11     NaN               1   \n",
              "3          2000000.0       4  operating             5     CHN               1   \n",
              "4                0.0       4  operating             1     USA               1   \n",
              "\n",
              "     year  \n",
              "0     NaN  \n",
              "1  2014.0  \n",
              "2     NaN  \n",
              "3  2007.0  \n",
              "4  2010.0  "
            ],
            "text/html": [
              "\n",
              "  <div id=\"df-f39e93ea-2468-44fa-b7cf-271f55ad6026\">\n",
              "    <div class=\"colab-df-container\">\n",
              "      <div>\n",
              "<style scoped>\n",
              "    .dataframe tbody tr th:only-of-type {\n",
              "        vertical-align: middle;\n",
              "    }\n",
              "\n",
              "    .dataframe tbody tr th {\n",
              "        vertical-align: top;\n",
              "    }\n",
              "\n",
              "    .dataframe thead th {\n",
              "        text-align: right;\n",
              "    }\n",
              "</style>\n",
              "<table border=\"1\" class=\"dataframe\">\n",
              "  <thead>\n",
              "    <tr style=\"text-align: right;\">\n",
              "      <th></th>\n",
              "      <th>permalink</th>\n",
              "      <th>name</th>\n",
              "      <th>category</th>\n",
              "      <th>category_list</th>\n",
              "      <th>funding_total_usd</th>\n",
              "      <th>status</th>\n",
              "      <th>status1</th>\n",
              "      <th>country_code</th>\n",
              "      <th>country</th>\n",
              "      <th>funding_rounds</th>\n",
              "      <th>year</th>\n",
              "    </tr>\n",
              "  </thead>\n",
              "  <tbody>\n",
              "    <tr>\n",
              "      <th>0</th>\n",
              "      <td>-fame</td>\n",
              "      <td>#fame</td>\n",
              "      <td>Media</td>\n",
              "      <td>21</td>\n",
              "      <td>10000000.0</td>\n",
              "      <td>4</td>\n",
              "      <td>operating</td>\n",
              "      <td>4</td>\n",
              "      <td>IND</td>\n",
              "      <td>1</td>\n",
              "      <td>NaN</td>\n",
              "    </tr>\n",
              "    <tr>\n",
              "      <th>1</th>\n",
              "      <td>-qounter</td>\n",
              "      <td>:Qounter</td>\n",
              "      <td>Application Platforms|Real Time|Social Network...</td>\n",
              "      <td>21</td>\n",
              "      <td>700000.0</td>\n",
              "      <td>4</td>\n",
              "      <td>operating</td>\n",
              "      <td>1</td>\n",
              "      <td>USA</td>\n",
              "      <td>2</td>\n",
              "      <td>2014.0</td>\n",
              "    </tr>\n",
              "    <tr>\n",
              "      <th>2</th>\n",
              "      <td>-the-one-of-them-inc-</td>\n",
              "      <td>(THE) ONE of THEM,Inc.</td>\n",
              "      <td>Apps|Games|Mobile</td>\n",
              "      <td>21</td>\n",
              "      <td>3406878.0</td>\n",
              "      <td>4</td>\n",
              "      <td>operating</td>\n",
              "      <td>11</td>\n",
              "      <td>NaN</td>\n",
              "      <td>1</td>\n",
              "      <td>NaN</td>\n",
              "    </tr>\n",
              "    <tr>\n",
              "      <th>3</th>\n",
              "      <td>0-6-com</td>\n",
              "      <td>0-6.com</td>\n",
              "      <td>Curated Web</td>\n",
              "      <td>6</td>\n",
              "      <td>2000000.0</td>\n",
              "      <td>4</td>\n",
              "      <td>operating</td>\n",
              "      <td>5</td>\n",
              "      <td>CHN</td>\n",
              "      <td>1</td>\n",
              "      <td>2007.0</td>\n",
              "    </tr>\n",
              "    <tr>\n",
              "      <th>4</th>\n",
              "      <td>004-technologies</td>\n",
              "      <td>004 Technologies</td>\n",
              "      <td>Software</td>\n",
              "      <td>1</td>\n",
              "      <td>0.0</td>\n",
              "      <td>4</td>\n",
              "      <td>operating</td>\n",
              "      <td>1</td>\n",
              "      <td>USA</td>\n",
              "      <td>1</td>\n",
              "      <td>2010.0</td>\n",
              "    </tr>\n",
              "  </tbody>\n",
              "</table>\n",
              "</div>\n",
              "      <button class=\"colab-df-convert\" onclick=\"convertToInteractive('df-f39e93ea-2468-44fa-b7cf-271f55ad6026')\"\n",
              "              title=\"Convert this dataframe to an interactive table.\"\n",
              "              style=\"display:none;\">\n",
              "        \n",
              "  <svg xmlns=\"http://www.w3.org/2000/svg\" height=\"24px\"viewBox=\"0 0 24 24\"\n",
              "       width=\"24px\">\n",
              "    <path d=\"M0 0h24v24H0V0z\" fill=\"none\"/>\n",
              "    <path d=\"M18.56 5.44l.94 2.06.94-2.06 2.06-.94-2.06-.94-.94-2.06-.94 2.06-2.06.94zm-11 1L8.5 8.5l.94-2.06 2.06-.94-2.06-.94L8.5 2.5l-.94 2.06-2.06.94zm10 10l.94 2.06.94-2.06 2.06-.94-2.06-.94-.94-2.06-.94 2.06-2.06.94z\"/><path d=\"M17.41 7.96l-1.37-1.37c-.4-.4-.92-.59-1.43-.59-.52 0-1.04.2-1.43.59L10.3 9.45l-7.72 7.72c-.78.78-.78 2.05 0 2.83L4 21.41c.39.39.9.59 1.41.59.51 0 1.02-.2 1.41-.59l7.78-7.78 2.81-2.81c.8-.78.8-2.07 0-2.86zM5.41 20L4 18.59l7.72-7.72 1.47 1.35L5.41 20z\"/>\n",
              "  </svg>\n",
              "      </button>\n",
              "      \n",
              "  <style>\n",
              "    .colab-df-container {\n",
              "      display:flex;\n",
              "      flex-wrap:wrap;\n",
              "      gap: 12px;\n",
              "    }\n",
              "\n",
              "    .colab-df-convert {\n",
              "      background-color: #E8F0FE;\n",
              "      border: none;\n",
              "      border-radius: 50%;\n",
              "      cursor: pointer;\n",
              "      display: none;\n",
              "      fill: #1967D2;\n",
              "      height: 32px;\n",
              "      padding: 0 0 0 0;\n",
              "      width: 32px;\n",
              "    }\n",
              "\n",
              "    .colab-df-convert:hover {\n",
              "      background-color: #E2EBFA;\n",
              "      box-shadow: 0px 1px 2px rgba(60, 64, 67, 0.3), 0px 1px 3px 1px rgba(60, 64, 67, 0.15);\n",
              "      fill: #174EA6;\n",
              "    }\n",
              "\n",
              "    [theme=dark] .colab-df-convert {\n",
              "      background-color: #3B4455;\n",
              "      fill: #D2E3FC;\n",
              "    }\n",
              "\n",
              "    [theme=dark] .colab-df-convert:hover {\n",
              "      background-color: #434B5C;\n",
              "      box-shadow: 0px 1px 3px 1px rgba(0, 0, 0, 0.15);\n",
              "      filter: drop-shadow(0px 1px 2px rgba(0, 0, 0, 0.3));\n",
              "      fill: #FFFFFF;\n",
              "    }\n",
              "  </style>\n",
              "\n",
              "      <script>\n",
              "        const buttonEl =\n",
              "          document.querySelector('#df-f39e93ea-2468-44fa-b7cf-271f55ad6026 button.colab-df-convert');\n",
              "        buttonEl.style.display =\n",
              "          google.colab.kernel.accessAllowed ? 'block' : 'none';\n",
              "\n",
              "        async function convertToInteractive(key) {\n",
              "          const element = document.querySelector('#df-f39e93ea-2468-44fa-b7cf-271f55ad6026');\n",
              "          const dataTable =\n",
              "            await google.colab.kernel.invokeFunction('convertToInteractive',\n",
              "                                                     [key], {});\n",
              "          if (!dataTable) return;\n",
              "\n",
              "          const docLinkHtml = 'Like what you see? Visit the ' +\n",
              "            '<a target=\"_blank\" href=https://colab.research.google.com/notebooks/data_table.ipynb>data table notebook</a>'\n",
              "            + ' to learn more about interactive tables.';\n",
              "          element.innerHTML = '';\n",
              "          dataTable['output_type'] = 'display_data';\n",
              "          await google.colab.output.renderOutput(dataTable, element);\n",
              "          const docLink = document.createElement('div');\n",
              "          docLink.innerHTML = docLinkHtml;\n",
              "          element.appendChild(docLink);\n",
              "        }\n",
              "      </script>\n",
              "    </div>\n",
              "  </div>\n",
              "  "
            ]
          },
          "metadata": {},
          "execution_count": 118
        }
      ]
    },
    {
      "cell_type": "markdown",
      "source": [
        "##  Merging companies with investors"
      ],
      "metadata": {
        "id": "30f-23JzKaca"
      }
    },
    {
      "cell_type": "markdown",
      "source": [
        "We explored the option of merging the main file \"companies\" with the secondary \"investors\". The information acquired was valuable, however it escaped our main scope, so we used it in an informational way only."
      ],
      "metadata": {
        "id": "gZaxnTMu_ux3"
      }
    },
    {
      "cell_type": "code",
      "source": [
        "\n",
        "cleaned_investments = investments[[\"company_permalink\",\"company_name\",\"investor_permalink\",\"investor_name\",\"company_category_list\",\"company_country_code\",\"investor_country_code\",\"raised_amount_usd\"]]\n",
        "cleaned_investments.company_permalink = cleaned_investments.company_permalink.str.split('/').str.get(-1)\n",
        "\n",
        "cleaned_investments.head()\n"
      ],
      "metadata": {
        "colab": {
          "base_uri": "https://localhost:8080/",
          "height": 339
        },
        "id": "EM5KuzXpKgv5",
        "outputId": "b99c9715-9eb2-471f-d2ab-4495741a0bfd"
      },
      "execution_count": null,
      "outputs": [
        {
          "output_type": "execute_result",
          "data": {
            "text/plain": [
              "    company_permalink        company_name  \\\n",
              "0             0-6-com             0-6.com   \n",
              "1    004-technologies    004 Technologies   \n",
              "2  01games-technology  01Games Technology   \n",
              "3              0xdata              H2O.ai   \n",
              "4              0xdata              H2O.ai   \n",
              "\n",
              "                     investor_permalink           investor_name  \\\n",
              "0     /organization/dt-capital-partners     DT Capital Partners   \n",
              "1       /organization/venturecapital-de   VCDE Venture Partners   \n",
              "2     /organization/cyberport-hong-kong     Cyberport Hong Kong   \n",
              "3             /organization/capital-one             Capital One   \n",
              "4  /organization/nexus-venture-partners  Nexus Venture Partners   \n",
              "\n",
              "  company_category_list company_country_code investor_country_code  \\\n",
              "0           Curated Web                  CHN                   CHN   \n",
              "1              Software                  USA                   DEU   \n",
              "2                 Games                  HKG                   HKG   \n",
              "3             Analytics                  USA                   USA   \n",
              "4             Analytics                  USA                   USA   \n",
              "\n",
              "   raised_amount_usd  \n",
              "0          2000000.0  \n",
              "1                NaN  \n",
              "2            41250.0  \n",
              "3         20000000.0  \n",
              "4          3000000.0  "
            ],
            "text/html": [
              "\n",
              "  <div id=\"df-a9217c53-0013-438c-aabc-ac3817d2af10\">\n",
              "    <div class=\"colab-df-container\">\n",
              "      <div>\n",
              "<style scoped>\n",
              "    .dataframe tbody tr th:only-of-type {\n",
              "        vertical-align: middle;\n",
              "    }\n",
              "\n",
              "    .dataframe tbody tr th {\n",
              "        vertical-align: top;\n",
              "    }\n",
              "\n",
              "    .dataframe thead th {\n",
              "        text-align: right;\n",
              "    }\n",
              "</style>\n",
              "<table border=\"1\" class=\"dataframe\">\n",
              "  <thead>\n",
              "    <tr style=\"text-align: right;\">\n",
              "      <th></th>\n",
              "      <th>company_permalink</th>\n",
              "      <th>company_name</th>\n",
              "      <th>investor_permalink</th>\n",
              "      <th>investor_name</th>\n",
              "      <th>company_category_list</th>\n",
              "      <th>company_country_code</th>\n",
              "      <th>investor_country_code</th>\n",
              "      <th>raised_amount_usd</th>\n",
              "    </tr>\n",
              "  </thead>\n",
              "  <tbody>\n",
              "    <tr>\n",
              "      <th>0</th>\n",
              "      <td>0-6-com</td>\n",
              "      <td>0-6.com</td>\n",
              "      <td>/organization/dt-capital-partners</td>\n",
              "      <td>DT Capital Partners</td>\n",
              "      <td>Curated Web</td>\n",
              "      <td>CHN</td>\n",
              "      <td>CHN</td>\n",
              "      <td>2000000.0</td>\n",
              "    </tr>\n",
              "    <tr>\n",
              "      <th>1</th>\n",
              "      <td>004-technologies</td>\n",
              "      <td>004 Technologies</td>\n",
              "      <td>/organization/venturecapital-de</td>\n",
              "      <td>VCDE Venture Partners</td>\n",
              "      <td>Software</td>\n",
              "      <td>USA</td>\n",
              "      <td>DEU</td>\n",
              "      <td>NaN</td>\n",
              "    </tr>\n",
              "    <tr>\n",
              "      <th>2</th>\n",
              "      <td>01games-technology</td>\n",
              "      <td>01Games Technology</td>\n",
              "      <td>/organization/cyberport-hong-kong</td>\n",
              "      <td>Cyberport Hong Kong</td>\n",
              "      <td>Games</td>\n",
              "      <td>HKG</td>\n",
              "      <td>HKG</td>\n",
              "      <td>41250.0</td>\n",
              "    </tr>\n",
              "    <tr>\n",
              "      <th>3</th>\n",
              "      <td>0xdata</td>\n",
              "      <td>H2O.ai</td>\n",
              "      <td>/organization/capital-one</td>\n",
              "      <td>Capital One</td>\n",
              "      <td>Analytics</td>\n",
              "      <td>USA</td>\n",
              "      <td>USA</td>\n",
              "      <td>20000000.0</td>\n",
              "    </tr>\n",
              "    <tr>\n",
              "      <th>4</th>\n",
              "      <td>0xdata</td>\n",
              "      <td>H2O.ai</td>\n",
              "      <td>/organization/nexus-venture-partners</td>\n",
              "      <td>Nexus Venture Partners</td>\n",
              "      <td>Analytics</td>\n",
              "      <td>USA</td>\n",
              "      <td>USA</td>\n",
              "      <td>3000000.0</td>\n",
              "    </tr>\n",
              "  </tbody>\n",
              "</table>\n",
              "</div>\n",
              "      <button class=\"colab-df-convert\" onclick=\"convertToInteractive('df-a9217c53-0013-438c-aabc-ac3817d2af10')\"\n",
              "              title=\"Convert this dataframe to an interactive table.\"\n",
              "              style=\"display:none;\">\n",
              "        \n",
              "  <svg xmlns=\"http://www.w3.org/2000/svg\" height=\"24px\"viewBox=\"0 0 24 24\"\n",
              "       width=\"24px\">\n",
              "    <path d=\"M0 0h24v24H0V0z\" fill=\"none\"/>\n",
              "    <path d=\"M18.56 5.44l.94 2.06.94-2.06 2.06-.94-2.06-.94-.94-2.06-.94 2.06-2.06.94zm-11 1L8.5 8.5l.94-2.06 2.06-.94-2.06-.94L8.5 2.5l-.94 2.06-2.06.94zm10 10l.94 2.06.94-2.06 2.06-.94-2.06-.94-.94-2.06-.94 2.06-2.06.94z\"/><path d=\"M17.41 7.96l-1.37-1.37c-.4-.4-.92-.59-1.43-.59-.52 0-1.04.2-1.43.59L10.3 9.45l-7.72 7.72c-.78.78-.78 2.05 0 2.83L4 21.41c.39.39.9.59 1.41.59.51 0 1.02-.2 1.41-.59l7.78-7.78 2.81-2.81c.8-.78.8-2.07 0-2.86zM5.41 20L4 18.59l7.72-7.72 1.47 1.35L5.41 20z\"/>\n",
              "  </svg>\n",
              "      </button>\n",
              "      \n",
              "  <style>\n",
              "    .colab-df-container {\n",
              "      display:flex;\n",
              "      flex-wrap:wrap;\n",
              "      gap: 12px;\n",
              "    }\n",
              "\n",
              "    .colab-df-convert {\n",
              "      background-color: #E8F0FE;\n",
              "      border: none;\n",
              "      border-radius: 50%;\n",
              "      cursor: pointer;\n",
              "      display: none;\n",
              "      fill: #1967D2;\n",
              "      height: 32px;\n",
              "      padding: 0 0 0 0;\n",
              "      width: 32px;\n",
              "    }\n",
              "\n",
              "    .colab-df-convert:hover {\n",
              "      background-color: #E2EBFA;\n",
              "      box-shadow: 0px 1px 2px rgba(60, 64, 67, 0.3), 0px 1px 3px 1px rgba(60, 64, 67, 0.15);\n",
              "      fill: #174EA6;\n",
              "    }\n",
              "\n",
              "    [theme=dark] .colab-df-convert {\n",
              "      background-color: #3B4455;\n",
              "      fill: #D2E3FC;\n",
              "    }\n",
              "\n",
              "    [theme=dark] .colab-df-convert:hover {\n",
              "      background-color: #434B5C;\n",
              "      box-shadow: 0px 1px 3px 1px rgba(0, 0, 0, 0.15);\n",
              "      filter: drop-shadow(0px 1px 2px rgba(0, 0, 0, 0.3));\n",
              "      fill: #FFFFFF;\n",
              "    }\n",
              "  </style>\n",
              "\n",
              "      <script>\n",
              "        const buttonEl =\n",
              "          document.querySelector('#df-a9217c53-0013-438c-aabc-ac3817d2af10 button.colab-df-convert');\n",
              "        buttonEl.style.display =\n",
              "          google.colab.kernel.accessAllowed ? 'block' : 'none';\n",
              "\n",
              "        async function convertToInteractive(key) {\n",
              "          const element = document.querySelector('#df-a9217c53-0013-438c-aabc-ac3817d2af10');\n",
              "          const dataTable =\n",
              "            await google.colab.kernel.invokeFunction('convertToInteractive',\n",
              "                                                     [key], {});\n",
              "          if (!dataTable) return;\n",
              "\n",
              "          const docLinkHtml = 'Like what you see? Visit the ' +\n",
              "            '<a target=\"_blank\" href=https://colab.research.google.com/notebooks/data_table.ipynb>data table notebook</a>'\n",
              "            + ' to learn more about interactive tables.';\n",
              "          element.innerHTML = '';\n",
              "          dataTable['output_type'] = 'display_data';\n",
              "          await google.colab.output.renderOutput(dataTable, element);\n",
              "          const docLink = document.createElement('div');\n",
              "          docLink.innerHTML = docLinkHtml;\n",
              "          element.appendChild(docLink);\n",
              "        }\n",
              "      </script>\n",
              "    </div>\n",
              "  </div>\n",
              "  "
            ]
          },
          "metadata": {},
          "execution_count": 107
        }
      ]
    },
    {
      "cell_type": "code",
      "source": [
        "print(cleaned_investments.info())\n"
      ],
      "metadata": {
        "colab": {
          "base_uri": "https://localhost:8080/"
        },
        "id": "kTxeMIwblP93",
        "outputId": "f7bd6068-e71e-4b06-fb03-a98b9e877bc5"
      },
      "execution_count": null,
      "outputs": [
        {
          "output_type": "stream",
          "name": "stdout",
          "text": [
            "<class 'pandas.core.frame.DataFrame'>\n",
            "RangeIndex: 168647 entries, 0 to 168646\n",
            "Data columns (total 8 columns):\n",
            " #   Column                 Non-Null Count   Dtype  \n",
            "---  ------                 --------------   -----  \n",
            " 0   company_permalink      168647 non-null  object \n",
            " 1   company_name           168646 non-null  object \n",
            " 2   investor_permalink     168635 non-null  object \n",
            " 3   investor_name          168635 non-null  object \n",
            " 4   company_category_list  165015 non-null  object \n",
            " 5   company_country_code   158126 non-null  object \n",
            " 6   investor_country_code  137708 non-null  object \n",
            " 7   raised_amount_usd      147028 non-null  float64\n",
            "dtypes: float64(1), object(7)\n",
            "memory usage: 10.3+ MB\n",
            "None\n"
          ]
        }
      ]
    },
    {
      "cell_type": "code",
      "source": [
        "print(cleaned_companies.info())"
      ],
      "metadata": {
        "colab": {
          "base_uri": "https://localhost:8080/"
        },
        "id": "fNKVrqNGlSrI",
        "outputId": "5d17fe46-08ad-403d-8f12-fded7cb06813"
      },
      "execution_count": null,
      "outputs": [
        {
          "output_type": "stream",
          "name": "stdout",
          "text": [
            "<class 'pandas.core.frame.DataFrame'>\n",
            "RangeIndex: 66368 entries, 0 to 66367\n",
            "Data columns (total 11 columns):\n",
            " #   Column             Non-Null Count  Dtype  \n",
            "---  ------             --------------  -----  \n",
            " 0   permalink          66368 non-null  object \n",
            " 1   name               66367 non-null  object \n",
            " 2   category           63220 non-null  object \n",
            " 3   category_list      66368 non-null  int64  \n",
            " 4   funding_total_usd  66368 non-null  float64\n",
            " 5   status             66368 non-null  int64  \n",
            " 6   status1            66368 non-null  object \n",
            " 7   country_code       66368 non-null  int64  \n",
            " 8   country            59410 non-null  object \n",
            " 9   funding_rounds     66368 non-null  int64  \n",
            " 10  year               51039 non-null  float64\n",
            "dtypes: float64(2), int64(4), object(5)\n",
            "memory usage: 5.6+ MB\n",
            "None\n"
          ]
        }
      ]
    },
    {
      "cell_type": "code",
      "source": [
        "#Merge by permalink\n",
        "merged_pl = cleaned_companies.merge(cleaned_investments, left_on='permalink',right_on='company_permalink')\n",
        "\n",
        "#Merge by name directly\n",
        "merged_name = cleaned_companies.merge(cleaned_investments, left_on='name', right_on='company_name')\n",
        "\n",
        "#cleaned_companies.info() #66368\n",
        "#cleaned_investments.info() #168647\n",
        "\n",
        "#merged_pl.info() #168646\n",
        "#merged_name.info() #170726\n"
      ],
      "metadata": {
        "id": "9k96VUiNNV9k"
      },
      "execution_count": null,
      "outputs": []
    },
    {
      "cell_type": "code",
      "source": [
        "merged_pl.head()"
      ],
      "metadata": {
        "colab": {
          "base_uri": "https://localhost:8080/",
          "height": 340
        },
        "id": "0TY2z8s5mWGR",
        "outputId": "9a3b6b31-c4a7-4588-da1c-3d7c642a2041"
      },
      "execution_count": null,
      "outputs": [
        {
          "output_type": "execute_result",
          "data": {
            "text/plain": [
              "            permalink              name_x category_list funding_total_usd  \\\n",
              "0             0-6-com             0-6.com   Curated Web           2000000   \n",
              "1    004-technologies    004 Technologies      Software                 -   \n",
              "2  01games-technology  01Games Technology         Games             41250   \n",
              "3              0xdata              H2O.ai     Analytics          33600000   \n",
              "4              0xdata              H2O.ai     Analytics          33600000   \n",
              "\n",
              "      status country_code  funding_rounds              name_y  \\\n",
              "0  operating          CHN               1             0-6.com   \n",
              "1  operating          USA               1    004 Technologies   \n",
              "2  operating          HKG               1  01Games Technology   \n",
              "3  operating          USA               4              H2O.ai   \n",
              "4  operating          USA               4              H2O.ai   \n",
              "\n",
              "                     investor_permalink           investor_name  \\\n",
              "0     /organization/dt-capital-partners     DT Capital Partners   \n",
              "1       /organization/venturecapital-de   VCDE Venture Partners   \n",
              "2     /organization/cyberport-hong-kong     Cyberport Hong Kong   \n",
              "3             /organization/capital-one             Capital One   \n",
              "4  /organization/nexus-venture-partners  Nexus Venture Partners   \n",
              "\n",
              "  company_category_list company_country_code investor_country_code  \\\n",
              "0           Curated Web                  CHN                   CHN   \n",
              "1              Software                  USA                   DEU   \n",
              "2                 Games                  HKG                   HKG   \n",
              "3             Analytics                  USA                   USA   \n",
              "4             Analytics                  USA                   USA   \n",
              "\n",
              "   raised_amount_usd  \n",
              "0          2000000.0  \n",
              "1                NaN  \n",
              "2            41250.0  \n",
              "3         20000000.0  \n",
              "4          3000000.0  "
            ],
            "text/html": [
              "\n",
              "  <div id=\"df-84f3413c-5dfc-447c-a352-f47383326d5c\">\n",
              "    <div class=\"colab-df-container\">\n",
              "      <div>\n",
              "<style scoped>\n",
              "    .dataframe tbody tr th:only-of-type {\n",
              "        vertical-align: middle;\n",
              "    }\n",
              "\n",
              "    .dataframe tbody tr th {\n",
              "        vertical-align: top;\n",
              "    }\n",
              "\n",
              "    .dataframe thead th {\n",
              "        text-align: right;\n",
              "    }\n",
              "</style>\n",
              "<table border=\"1\" class=\"dataframe\">\n",
              "  <thead>\n",
              "    <tr style=\"text-align: right;\">\n",
              "      <th></th>\n",
              "      <th>permalink</th>\n",
              "      <th>name_x</th>\n",
              "      <th>category_list</th>\n",
              "      <th>funding_total_usd</th>\n",
              "      <th>status</th>\n",
              "      <th>country_code</th>\n",
              "      <th>funding_rounds</th>\n",
              "      <th>name_y</th>\n",
              "      <th>investor_permalink</th>\n",
              "      <th>investor_name</th>\n",
              "      <th>company_category_list</th>\n",
              "      <th>company_country_code</th>\n",
              "      <th>investor_country_code</th>\n",
              "      <th>raised_amount_usd</th>\n",
              "    </tr>\n",
              "  </thead>\n",
              "  <tbody>\n",
              "    <tr>\n",
              "      <th>0</th>\n",
              "      <td>0-6-com</td>\n",
              "      <td>0-6.com</td>\n",
              "      <td>Curated Web</td>\n",
              "      <td>2000000</td>\n",
              "      <td>operating</td>\n",
              "      <td>CHN</td>\n",
              "      <td>1</td>\n",
              "      <td>0-6.com</td>\n",
              "      <td>/organization/dt-capital-partners</td>\n",
              "      <td>DT Capital Partners</td>\n",
              "      <td>Curated Web</td>\n",
              "      <td>CHN</td>\n",
              "      <td>CHN</td>\n",
              "      <td>2000000.0</td>\n",
              "    </tr>\n",
              "    <tr>\n",
              "      <th>1</th>\n",
              "      <td>004-technologies</td>\n",
              "      <td>004 Technologies</td>\n",
              "      <td>Software</td>\n",
              "      <td>-</td>\n",
              "      <td>operating</td>\n",
              "      <td>USA</td>\n",
              "      <td>1</td>\n",
              "      <td>004 Technologies</td>\n",
              "      <td>/organization/venturecapital-de</td>\n",
              "      <td>VCDE Venture Partners</td>\n",
              "      <td>Software</td>\n",
              "      <td>USA</td>\n",
              "      <td>DEU</td>\n",
              "      <td>NaN</td>\n",
              "    </tr>\n",
              "    <tr>\n",
              "      <th>2</th>\n",
              "      <td>01games-technology</td>\n",
              "      <td>01Games Technology</td>\n",
              "      <td>Games</td>\n",
              "      <td>41250</td>\n",
              "      <td>operating</td>\n",
              "      <td>HKG</td>\n",
              "      <td>1</td>\n",
              "      <td>01Games Technology</td>\n",
              "      <td>/organization/cyberport-hong-kong</td>\n",
              "      <td>Cyberport Hong Kong</td>\n",
              "      <td>Games</td>\n",
              "      <td>HKG</td>\n",
              "      <td>HKG</td>\n",
              "      <td>41250.0</td>\n",
              "    </tr>\n",
              "    <tr>\n",
              "      <th>3</th>\n",
              "      <td>0xdata</td>\n",
              "      <td>H2O.ai</td>\n",
              "      <td>Analytics</td>\n",
              "      <td>33600000</td>\n",
              "      <td>operating</td>\n",
              "      <td>USA</td>\n",
              "      <td>4</td>\n",
              "      <td>H2O.ai</td>\n",
              "      <td>/organization/capital-one</td>\n",
              "      <td>Capital One</td>\n",
              "      <td>Analytics</td>\n",
              "      <td>USA</td>\n",
              "      <td>USA</td>\n",
              "      <td>20000000.0</td>\n",
              "    </tr>\n",
              "    <tr>\n",
              "      <th>4</th>\n",
              "      <td>0xdata</td>\n",
              "      <td>H2O.ai</td>\n",
              "      <td>Analytics</td>\n",
              "      <td>33600000</td>\n",
              "      <td>operating</td>\n",
              "      <td>USA</td>\n",
              "      <td>4</td>\n",
              "      <td>H2O.ai</td>\n",
              "      <td>/organization/nexus-venture-partners</td>\n",
              "      <td>Nexus Venture Partners</td>\n",
              "      <td>Analytics</td>\n",
              "      <td>USA</td>\n",
              "      <td>USA</td>\n",
              "      <td>3000000.0</td>\n",
              "    </tr>\n",
              "  </tbody>\n",
              "</table>\n",
              "</div>\n",
              "      <button class=\"colab-df-convert\" onclick=\"convertToInteractive('df-84f3413c-5dfc-447c-a352-f47383326d5c')\"\n",
              "              title=\"Convert this dataframe to an interactive table.\"\n",
              "              style=\"display:none;\">\n",
              "        \n",
              "  <svg xmlns=\"http://www.w3.org/2000/svg\" height=\"24px\"viewBox=\"0 0 24 24\"\n",
              "       width=\"24px\">\n",
              "    <path d=\"M0 0h24v24H0V0z\" fill=\"none\"/>\n",
              "    <path d=\"M18.56 5.44l.94 2.06.94-2.06 2.06-.94-2.06-.94-.94-2.06-.94 2.06-2.06.94zm-11 1L8.5 8.5l.94-2.06 2.06-.94-2.06-.94L8.5 2.5l-.94 2.06-2.06.94zm10 10l.94 2.06.94-2.06 2.06-.94-2.06-.94-.94-2.06-.94 2.06-2.06.94z\"/><path d=\"M17.41 7.96l-1.37-1.37c-.4-.4-.92-.59-1.43-.59-.52 0-1.04.2-1.43.59L10.3 9.45l-7.72 7.72c-.78.78-.78 2.05 0 2.83L4 21.41c.39.39.9.59 1.41.59.51 0 1.02-.2 1.41-.59l7.78-7.78 2.81-2.81c.8-.78.8-2.07 0-2.86zM5.41 20L4 18.59l7.72-7.72 1.47 1.35L5.41 20z\"/>\n",
              "  </svg>\n",
              "      </button>\n",
              "      \n",
              "  <style>\n",
              "    .colab-df-container {\n",
              "      display:flex;\n",
              "      flex-wrap:wrap;\n",
              "      gap: 12px;\n",
              "    }\n",
              "\n",
              "    .colab-df-convert {\n",
              "      background-color: #E8F0FE;\n",
              "      border: none;\n",
              "      border-radius: 50%;\n",
              "      cursor: pointer;\n",
              "      display: none;\n",
              "      fill: #1967D2;\n",
              "      height: 32px;\n",
              "      padding: 0 0 0 0;\n",
              "      width: 32px;\n",
              "    }\n",
              "\n",
              "    .colab-df-convert:hover {\n",
              "      background-color: #E2EBFA;\n",
              "      box-shadow: 0px 1px 2px rgba(60, 64, 67, 0.3), 0px 1px 3px 1px rgba(60, 64, 67, 0.15);\n",
              "      fill: #174EA6;\n",
              "    }\n",
              "\n",
              "    [theme=dark] .colab-df-convert {\n",
              "      background-color: #3B4455;\n",
              "      fill: #D2E3FC;\n",
              "    }\n",
              "\n",
              "    [theme=dark] .colab-df-convert:hover {\n",
              "      background-color: #434B5C;\n",
              "      box-shadow: 0px 1px 3px 1px rgba(0, 0, 0, 0.15);\n",
              "      filter: drop-shadow(0px 1px 2px rgba(0, 0, 0, 0.3));\n",
              "      fill: #FFFFFF;\n",
              "    }\n",
              "  </style>\n",
              "\n",
              "      <script>\n",
              "        const buttonEl =\n",
              "          document.querySelector('#df-84f3413c-5dfc-447c-a352-f47383326d5c button.colab-df-convert');\n",
              "        buttonEl.style.display =\n",
              "          google.colab.kernel.accessAllowed ? 'block' : 'none';\n",
              "\n",
              "        async function convertToInteractive(key) {\n",
              "          const element = document.querySelector('#df-84f3413c-5dfc-447c-a352-f47383326d5c');\n",
              "          const dataTable =\n",
              "            await google.colab.kernel.invokeFunction('convertToInteractive',\n",
              "                                                     [key], {});\n",
              "          if (!dataTable) return;\n",
              "\n",
              "          const docLinkHtml = 'Like what you see? Visit the ' +\n",
              "            '<a target=\"_blank\" href=https://colab.research.google.com/notebooks/data_table.ipynb>data table notebook</a>'\n",
              "            + ' to learn more about interactive tables.';\n",
              "          element.innerHTML = '';\n",
              "          dataTable['output_type'] = 'display_data';\n",
              "          await google.colab.output.renderOutput(dataTable, element);\n",
              "          const docLink = document.createElement('div');\n",
              "          docLink.innerHTML = docLinkHtml;\n",
              "          element.appendChild(docLink);\n",
              "        }\n",
              "      </script>\n",
              "    </div>\n",
              "  </div>\n",
              "  "
            ]
          },
          "metadata": {},
          "execution_count": 58
        }
      ]
    },
    {
      "cell_type": "code",
      "source": [
        "print(merged_pl.info()), print(merged_name.info())"
      ],
      "metadata": {
        "colab": {
          "base_uri": "https://localhost:8080/"
        },
        "id": "4PJ38vXYlWQW",
        "outputId": "fbbd3cf0-d5c0-4f58-cf5a-0989e0991b7b"
      },
      "execution_count": null,
      "outputs": [
        {
          "output_type": "stream",
          "name": "stdout",
          "text": [
            "<class 'pandas.core.frame.DataFrame'>\n",
            "Int64Index: 168646 entries, 0 to 168645\n",
            "Data columns (total 19 columns):\n",
            " #   Column                 Non-Null Count   Dtype  \n",
            "---  ------                 --------------   -----  \n",
            " 0   permalink              168646 non-null  object \n",
            " 1   name                   168645 non-null  object \n",
            " 2   category               165014 non-null  object \n",
            " 3   category_list          168646 non-null  int64  \n",
            " 4   funding_total_usd      168646 non-null  float64\n",
            " 5   status                 168646 non-null  int64  \n",
            " 6   status1                168646 non-null  object \n",
            " 7   country_code           168646 non-null  int64  \n",
            " 8   country                158125 non-null  object \n",
            " 9   funding_rounds         168646 non-null  int64  \n",
            " 10  year                   141994 non-null  float64\n",
            " 11  company_permalink      168646 non-null  object \n",
            " 12  company_name           168645 non-null  object \n",
            " 13  investor_permalink     168634 non-null  object \n",
            " 14  investor_name          168634 non-null  object \n",
            " 15  company_category_list  165014 non-null  object \n",
            " 16  company_country_code   158125 non-null  object \n",
            " 17  investor_country_code  137708 non-null  object \n",
            " 18  raised_amount_usd      147027 non-null  float64\n",
            "dtypes: float64(3), int64(4), object(12)\n",
            "memory usage: 25.7+ MB\n",
            "None\n",
            "<class 'pandas.core.frame.DataFrame'>\n",
            "Int64Index: 170726 entries, 0 to 170725\n",
            "Data columns (total 19 columns):\n",
            " #   Column                 Non-Null Count   Dtype  \n",
            "---  ------                 --------------   -----  \n",
            " 0   permalink              170726 non-null  object \n",
            " 1   name                   170725 non-null  object \n",
            " 2   category               166923 non-null  object \n",
            " 3   category_list          170726 non-null  int64  \n",
            " 4   funding_total_usd      170726 non-null  float64\n",
            " 5   status                 170726 non-null  int64  \n",
            " 6   status1                170726 non-null  object \n",
            " 7   country_code           170726 non-null  int64  \n",
            " 8   country                159911 non-null  object \n",
            " 9   funding_rounds         170726 non-null  int64  \n",
            " 10  year                   143535 non-null  float64\n",
            " 11  company_permalink      170726 non-null  object \n",
            " 12  company_name           170725 non-null  object \n",
            " 13  investor_permalink     170712 non-null  object \n",
            " 14  investor_name          170712 non-null  object \n",
            " 15  company_category_list  167030 non-null  object \n",
            " 16  company_country_code   160100 non-null  object \n",
            " 17  investor_country_code  139354 non-null  object \n",
            " 18  raised_amount_usd      148786 non-null  float64\n",
            "dtypes: float64(3), int64(4), object(12)\n",
            "memory usage: 26.1+ MB\n",
            "None\n"
          ]
        },
        {
          "output_type": "execute_result",
          "data": {
            "text/plain": [
              "(None, None)"
            ]
          },
          "metadata": {},
          "execution_count": 111
        }
      ]
    },
    {
      "cell_type": "code",
      "source": [
        "#Decoding features for heatmap\n",
        "\n",
        "cleaned_companies['category_list'].value_counts().nlargest(100).to_frame()"
      ],
      "metadata": {
        "colab": {
          "base_uri": "https://localhost:8080/",
          "height": 708
        },
        "id": "gEdxG9teo5d5",
        "outputId": "4a461bd9-3d2a-4e4f-e0a2-45179faa0e29"
      },
      "execution_count": null,
      "outputs": [
        {
          "output_type": "execute_result",
          "data": {
            "text/plain": [
              "    category_list\n",
              "21          45056\n",
              "1            3995\n",
              "2            3615\n",
              "3            1332\n",
              "4            1177\n",
              "5            1133\n",
              "6            1050\n",
              "7             932\n",
              "8             930\n",
              "9             862\n",
              "10            845\n",
              "11            773\n",
              "12            770\n",
              "13            700\n",
              "14            585\n",
              "15            501\n",
              "16            447\n",
              "17            425\n",
              "18            423\n",
              "19            410\n",
              "20            407"
            ],
            "text/html": [
              "\n",
              "  <div id=\"df-6f5f6e93-8bd0-4e86-a4fe-0bbd4762258a\">\n",
              "    <div class=\"colab-df-container\">\n",
              "      <div>\n",
              "<style scoped>\n",
              "    .dataframe tbody tr th:only-of-type {\n",
              "        vertical-align: middle;\n",
              "    }\n",
              "\n",
              "    .dataframe tbody tr th {\n",
              "        vertical-align: top;\n",
              "    }\n",
              "\n",
              "    .dataframe thead th {\n",
              "        text-align: right;\n",
              "    }\n",
              "</style>\n",
              "<table border=\"1\" class=\"dataframe\">\n",
              "  <thead>\n",
              "    <tr style=\"text-align: right;\">\n",
              "      <th></th>\n",
              "      <th>category_list</th>\n",
              "    </tr>\n",
              "  </thead>\n",
              "  <tbody>\n",
              "    <tr>\n",
              "      <th>21</th>\n",
              "      <td>45056</td>\n",
              "    </tr>\n",
              "    <tr>\n",
              "      <th>1</th>\n",
              "      <td>3995</td>\n",
              "    </tr>\n",
              "    <tr>\n",
              "      <th>2</th>\n",
              "      <td>3615</td>\n",
              "    </tr>\n",
              "    <tr>\n",
              "      <th>3</th>\n",
              "      <td>1332</td>\n",
              "    </tr>\n",
              "    <tr>\n",
              "      <th>4</th>\n",
              "      <td>1177</td>\n",
              "    </tr>\n",
              "    <tr>\n",
              "      <th>5</th>\n",
              "      <td>1133</td>\n",
              "    </tr>\n",
              "    <tr>\n",
              "      <th>6</th>\n",
              "      <td>1050</td>\n",
              "    </tr>\n",
              "    <tr>\n",
              "      <th>7</th>\n",
              "      <td>932</td>\n",
              "    </tr>\n",
              "    <tr>\n",
              "      <th>8</th>\n",
              "      <td>930</td>\n",
              "    </tr>\n",
              "    <tr>\n",
              "      <th>9</th>\n",
              "      <td>862</td>\n",
              "    </tr>\n",
              "    <tr>\n",
              "      <th>10</th>\n",
              "      <td>845</td>\n",
              "    </tr>\n",
              "    <tr>\n",
              "      <th>11</th>\n",
              "      <td>773</td>\n",
              "    </tr>\n",
              "    <tr>\n",
              "      <th>12</th>\n",
              "      <td>770</td>\n",
              "    </tr>\n",
              "    <tr>\n",
              "      <th>13</th>\n",
              "      <td>700</td>\n",
              "    </tr>\n",
              "    <tr>\n",
              "      <th>14</th>\n",
              "      <td>585</td>\n",
              "    </tr>\n",
              "    <tr>\n",
              "      <th>15</th>\n",
              "      <td>501</td>\n",
              "    </tr>\n",
              "    <tr>\n",
              "      <th>16</th>\n",
              "      <td>447</td>\n",
              "    </tr>\n",
              "    <tr>\n",
              "      <th>17</th>\n",
              "      <td>425</td>\n",
              "    </tr>\n",
              "    <tr>\n",
              "      <th>18</th>\n",
              "      <td>423</td>\n",
              "    </tr>\n",
              "    <tr>\n",
              "      <th>19</th>\n",
              "      <td>410</td>\n",
              "    </tr>\n",
              "    <tr>\n",
              "      <th>20</th>\n",
              "      <td>407</td>\n",
              "    </tr>\n",
              "  </tbody>\n",
              "</table>\n",
              "</div>\n",
              "      <button class=\"colab-df-convert\" onclick=\"convertToInteractive('df-6f5f6e93-8bd0-4e86-a4fe-0bbd4762258a')\"\n",
              "              title=\"Convert this dataframe to an interactive table.\"\n",
              "              style=\"display:none;\">\n",
              "        \n",
              "  <svg xmlns=\"http://www.w3.org/2000/svg\" height=\"24px\"viewBox=\"0 0 24 24\"\n",
              "       width=\"24px\">\n",
              "    <path d=\"M0 0h24v24H0V0z\" fill=\"none\"/>\n",
              "    <path d=\"M18.56 5.44l.94 2.06.94-2.06 2.06-.94-2.06-.94-.94-2.06-.94 2.06-2.06.94zm-11 1L8.5 8.5l.94-2.06 2.06-.94-2.06-.94L8.5 2.5l-.94 2.06-2.06.94zm10 10l.94 2.06.94-2.06 2.06-.94-2.06-.94-.94-2.06-.94 2.06-2.06.94z\"/><path d=\"M17.41 7.96l-1.37-1.37c-.4-.4-.92-.59-1.43-.59-.52 0-1.04.2-1.43.59L10.3 9.45l-7.72 7.72c-.78.78-.78 2.05 0 2.83L4 21.41c.39.39.9.59 1.41.59.51 0 1.02-.2 1.41-.59l7.78-7.78 2.81-2.81c.8-.78.8-2.07 0-2.86zM5.41 20L4 18.59l7.72-7.72 1.47 1.35L5.41 20z\"/>\n",
              "  </svg>\n",
              "      </button>\n",
              "      \n",
              "  <style>\n",
              "    .colab-df-container {\n",
              "      display:flex;\n",
              "      flex-wrap:wrap;\n",
              "      gap: 12px;\n",
              "    }\n",
              "\n",
              "    .colab-df-convert {\n",
              "      background-color: #E8F0FE;\n",
              "      border: none;\n",
              "      border-radius: 50%;\n",
              "      cursor: pointer;\n",
              "      display: none;\n",
              "      fill: #1967D2;\n",
              "      height: 32px;\n",
              "      padding: 0 0 0 0;\n",
              "      width: 32px;\n",
              "    }\n",
              "\n",
              "    .colab-df-convert:hover {\n",
              "      background-color: #E2EBFA;\n",
              "      box-shadow: 0px 1px 2px rgba(60, 64, 67, 0.3), 0px 1px 3px 1px rgba(60, 64, 67, 0.15);\n",
              "      fill: #174EA6;\n",
              "    }\n",
              "\n",
              "    [theme=dark] .colab-df-convert {\n",
              "      background-color: #3B4455;\n",
              "      fill: #D2E3FC;\n",
              "    }\n",
              "\n",
              "    [theme=dark] .colab-df-convert:hover {\n",
              "      background-color: #434B5C;\n",
              "      box-shadow: 0px 1px 3px 1px rgba(0, 0, 0, 0.15);\n",
              "      filter: drop-shadow(0px 1px 2px rgba(0, 0, 0, 0.3));\n",
              "      fill: #FFFFFF;\n",
              "    }\n",
              "  </style>\n",
              "\n",
              "      <script>\n",
              "        const buttonEl =\n",
              "          document.querySelector('#df-6f5f6e93-8bd0-4e86-a4fe-0bbd4762258a button.colab-df-convert');\n",
              "        buttonEl.style.display =\n",
              "          google.colab.kernel.accessAllowed ? 'block' : 'none';\n",
              "\n",
              "        async function convertToInteractive(key) {\n",
              "          const element = document.querySelector('#df-6f5f6e93-8bd0-4e86-a4fe-0bbd4762258a');\n",
              "          const dataTable =\n",
              "            await google.colab.kernel.invokeFunction('convertToInteractive',\n",
              "                                                     [key], {});\n",
              "          if (!dataTable) return;\n",
              "\n",
              "          const docLinkHtml = 'Like what you see? Visit the ' +\n",
              "            '<a target=\"_blank\" href=https://colab.research.google.com/notebooks/data_table.ipynb>data table notebook</a>'\n",
              "            + ' to learn more about interactive tables.';\n",
              "          element.innerHTML = '';\n",
              "          dataTable['output_type'] = 'display_data';\n",
              "          await google.colab.output.renderOutput(dataTable, element);\n",
              "          const docLink = document.createElement('div');\n",
              "          docLink.innerHTML = docLinkHtml;\n",
              "          element.appendChild(docLink);\n",
              "        }\n",
              "      </script>\n",
              "    </div>\n",
              "  </div>\n",
              "  "
            ]
          },
          "metadata": {},
          "execution_count": 119
        }
      ]
    },
    {
      "cell_type": "markdown",
      "source": [
        "## Converting categotical values to numerical values"
      ],
      "metadata": {
        "id": "K77mCsHwzLQE"
      }
    },
    {
      "cell_type": "markdown",
      "source": [
        "As our models are going to predict the actual status of a startup, we are facing a regression modelling problem. In order to solve this, categorical values must be converted to numerical values. "
      ],
      "metadata": {
        "id": "ejELcnfl_1-H"
      }
    },
    {
      "cell_type": "markdown",
      "source": [
        "In order to convert categorical feature \"categoy_list\" we ordered the categories in terms or recurrence. We picked the first 20 and convertered to numerical values. \n",
        "Assumptions:\n",
        "- We added an additional 21 value \"others\" that encompases the rest of the categories.\n",
        "- Blanks were converted 0 and included in the category 21"
      ],
      "metadata": {
        "id": "hYqwEXdU0H2F"
      }
    },
    {
      "cell_type": "code",
      "source": [
        "cleaned_companies['category'].value_counts().head(21).plot(kind='bar',figsize=(15,8))\n",
        "plt.title(\"Top 20 Startup Categories\",fontsize=20)\n",
        "plt.xlabel(\"Category\",fontsize=18)\n",
        "plt.ylabel(\"Frequency\",fontsize=18)"
      ],
      "metadata": {
        "colab": {
          "base_uri": "https://localhost:8080/",
          "height": 641
        },
        "id": "wrndB9QFezlX",
        "outputId": "f06cda6c-17a6-4c2a-d694-71d2aa583d4e"
      },
      "execution_count": null,
      "outputs": [
        {
          "output_type": "execute_result",
          "data": {
            "text/plain": [
              "Text(0, 0.5, 'Frequency')"
            ]
          },
          "metadata": {},
          "execution_count": 120
        },
        {
          "output_type": "display_data",
          "data": {
            "text/plain": [
              "<Figure size 1080x576 with 1 Axes>"
            ],
            "image/png": "[encoded data removed]"
          },
          "metadata": {
            "needs_background": "light"
          }
        }
      ]
    },
    {
      "cell_type": "markdown",
      "source": [
        "In order to convert categorical feature \"country_code\" we ordered the categories in terms or recurrence. We picked the first 10 and convertered to numerical values.  Assumptions:\n",
        "\n",
        "We added an additional 11 value \"others\" that encompases the rest of the categories.\n",
        "Blanks were converted 0 and included in the category 11"
      ],
      "metadata": {
        "id": "3eBMz1ncADCa"
      }
    },
    {
      "cell_type": "code",
      "source": [
        "cleaned_companies['country'].value_counts().head(20).plot(kind='bar',figsize=(15,8))\n",
        "plt.title(\"Top 10 Startup Countries\",fontsize=20)\n",
        "plt.xlabel(\"Country\",fontsize=18)\n",
        "plt.ylabel(\"Frequency\",fontsize=18)"
      ],
      "metadata": {
        "colab": {
          "base_uri": "https://localhost:8080/",
          "height": 556
        },
        "id": "VMExEH84ASQw",
        "outputId": "a5a35c05-5fd1-4b97-ab6f-0bbae7b9470c"
      },
      "execution_count": null,
      "outputs": [
        {
          "output_type": "execute_result",
          "data": {
            "text/plain": [
              "Text(0, 0.5, 'Frequency')"
            ]
          },
          "metadata": {},
          "execution_count": 121
        },
        {
          "output_type": "display_data",
          "data": {
            "text/plain": [
              "<Figure size 1080x576 with 1 Axes>"
            ],
            "image/png": "[encoded data removed]"
          },
          "metadata": {
            "needs_background": "light"
          }
        }
      ]
    },
    {
      "cell_type": "markdown",
      "source": [
        "Categorical feature \"status\" was converted as well with the following values:\n",
        "\n",
        "1. Acquired\n",
        "2. Closed\n",
        "3. Ipo\n",
        "4. Operating\n",
        "\n",
        "\n"
      ],
      "metadata": {
        "id": "IcrZ8GbMBBri"
      }
    },
    {
      "cell_type": "code",
      "source": [
        "cleaned_companies['status1'].value_counts().head(4).plot(kind='bar',figsize=(15,8))\n",
        "plt.title(\"Startup Current Status\",fontsize=20)\n",
        "plt.xlabel(\"Status\",fontsize=18)\n",
        "plt.ylabel(\"Frequency\",fontsize=18)"
      ],
      "metadata": {
        "colab": {
          "base_uri": "https://localhost:8080/",
          "height": 582
        },
        "id": "9B-ERRtOE5LA",
        "outputId": "5e855281-8ffb-4616-96c1-4a331bceee8e"
      },
      "execution_count": null,
      "outputs": [
        {
          "output_type": "execute_result",
          "data": {
            "text/plain": [
              "Text(0, 0.5, 'Frequency')"
            ]
          },
          "metadata": {},
          "execution_count": 122
        },
        {
          "output_type": "display_data",
          "data": {
            "text/plain": [
              "<Figure size 1080x576 with 1 Axes>"
            ],
            "image/png": "[encoded data removed]"
          },
          "metadata": {
            "needs_background": "light"
          }
        }
      ]
    },
    {
      "cell_type": "markdown",
      "source": [
        "## Encoding categorical values"
      ],
      "metadata": {
        "id": "TR_T2v7RCWk8"
      }
    },
    {
      "cell_type": "markdown",
      "source": [
        "Another way we found to manage categorical values is with the process of hot encoding. In this way we can directly manage the features in Python for the modelling. "
      ],
      "metadata": {
        "id": "h11M_hw82ubx"
      }
    },
    {
      "cell_type": "code",
      "source": [
        "cleaned_companies.info()"
      ],
      "metadata": {
        "colab": {
          "base_uri": "https://localhost:8080/"
        },
        "id": "6OpySnk3cL6H",
        "outputId": "2855b534-0637-4515-fc64-a9c4161a4edb"
      },
      "execution_count": null,
      "outputs": [
        {
          "output_type": "stream",
          "name": "stdout",
          "text": [
            "<class 'pandas.core.frame.DataFrame'>\n",
            "RangeIndex: 66368 entries, 0 to 66367\n",
            "Data columns (total 11 columns):\n",
            " #   Column             Non-Null Count  Dtype  \n",
            "---  ------             --------------  -----  \n",
            " 0   permalink          66368 non-null  object \n",
            " 1   name               66367 non-null  object \n",
            " 2   category           63220 non-null  object \n",
            " 3   category_list      66368 non-null  int64  \n",
            " 4   funding_total_usd  66368 non-null  float64\n",
            " 5   status             66368 non-null  int64  \n",
            " 6   status1            66368 non-null  object \n",
            " 7   country_code       66368 non-null  int64  \n",
            " 8   country            59410 non-null  object \n",
            " 9   funding_rounds     66368 non-null  int64  \n",
            " 10  year               51039 non-null  float64\n",
            "dtypes: float64(2), int64(4), object(5)\n",
            "memory usage: 5.6+ MB\n"
          ]
        }
      ]
    },
    {
      "cell_type": "code",
      "source": [
        "df_cmp = cleaned_companies[[\"category_list\",\"funding_total_usd\",\"status\",\"country_code\",\"funding_rounds\",\"year\"]]\n"
      ],
      "metadata": {
        "id": "6AafjLB_i95k"
      },
      "execution_count": null,
      "outputs": []
    },
    {
      "cell_type": "code",
      "source": [
        "df_cmp.head()"
      ],
      "metadata": {
        "colab": {
          "base_uri": "https://localhost:8080/",
          "height": 206
        },
        "id": "eSKZZ4HZi_ei",
        "outputId": "5cc822be-17ec-4549-b3e5-c2a881826b27"
      },
      "execution_count": null,
      "outputs": [
        {
          "output_type": "execute_result",
          "data": {
            "text/plain": [
              "   category_list  funding_total_usd  status  country_code  funding_rounds  \\\n",
              "0             21         10000000.0       4             4               1   \n",
              "1             21           700000.0       4             1               2   \n",
              "2             21          3406878.0       4            11               1   \n",
              "3              6          2000000.0       4             5               1   \n",
              "4              1                0.0       4             1               1   \n",
              "\n",
              "     year  \n",
              "0     NaN  \n",
              "1  2014.0  \n",
              "2     NaN  \n",
              "3  2007.0  \n",
              "4  2010.0  "
            ],
            "text/html": [
              "\n",
              "  <div id=\"df-ad581911-159d-4340-8d78-0c1a44038044\">\n",
              "    <div class=\"colab-df-container\">\n",
              "      <div>\n",
              "<style scoped>\n",
              "    .dataframe tbody tr th:only-of-type {\n",
              "        vertical-align: middle;\n",
              "    }\n",
              "\n",
              "    .dataframe tbody tr th {\n",
              "        vertical-align: top;\n",
              "    }\n",
              "\n",
              "    .dataframe thead th {\n",
              "        text-align: right;\n",
              "    }\n",
              "</style>\n",
              "<table border=\"1\" class=\"dataframe\">\n",
              "  <thead>\n",
              "    <tr style=\"text-align: right;\">\n",
              "      <th></th>\n",
              "      <th>category_list</th>\n",
              "      <th>funding_total_usd</th>\n",
              "      <th>status</th>\n",
              "      <th>country_code</th>\n",
              "      <th>funding_rounds</th>\n",
              "      <th>year</th>\n",
              "    </tr>\n",
              "  </thead>\n",
              "  <tbody>\n",
              "    <tr>\n",
              "      <th>0</th>\n",
              "      <td>21</td>\n",
              "      <td>10000000.0</td>\n",
              "      <td>4</td>\n",
              "      <td>4</td>\n",
              "      <td>1</td>\n",
              "      <td>NaN</td>\n",
              "    </tr>\n",
              "    <tr>\n",
              "      <th>1</th>\n",
              "      <td>21</td>\n",
              "      <td>700000.0</td>\n",
              "      <td>4</td>\n",
              "      <td>1</td>\n",
              "      <td>2</td>\n",
              "      <td>2014.0</td>\n",
              "    </tr>\n",
              "    <tr>\n",
              "      <th>2</th>\n",
              "      <td>21</td>\n",
              "      <td>3406878.0</td>\n",
              "      <td>4</td>\n",
              "      <td>11</td>\n",
              "      <td>1</td>\n",
              "      <td>NaN</td>\n",
              "    </tr>\n",
              "    <tr>\n",
              "      <th>3</th>\n",
              "      <td>6</td>\n",
              "      <td>2000000.0</td>\n",
              "      <td>4</td>\n",
              "      <td>5</td>\n",
              "      <td>1</td>\n",
              "      <td>2007.0</td>\n",
              "    </tr>\n",
              "    <tr>\n",
              "      <th>4</th>\n",
              "      <td>1</td>\n",
              "      <td>0.0</td>\n",
              "      <td>4</td>\n",
              "      <td>1</td>\n",
              "      <td>1</td>\n",
              "      <td>2010.0</td>\n",
              "    </tr>\n",
              "  </tbody>\n",
              "</table>\n",
              "</div>\n",
              "      <button class=\"colab-df-convert\" onclick=\"convertToInteractive('df-ad581911-159d-4340-8d78-0c1a44038044')\"\n",
              "              title=\"Convert this dataframe to an interactive table.\"\n",
              "              style=\"display:none;\">\n",
              "        \n",
              "  <svg xmlns=\"http://www.w3.org/2000/svg\" height=\"24px\"viewBox=\"0 0 24 24\"\n",
              "       width=\"24px\">\n",
              "    <path d=\"M0 0h24v24H0V0z\" fill=\"none\"/>\n",
              "    <path d=\"M18.56 5.44l.94 2.06.94-2.06 2.06-.94-2.06-.94-.94-2.06-.94 2.06-2.06.94zm-11 1L8.5 8.5l.94-2.06 2.06-.94-2.06-.94L8.5 2.5l-.94 2.06-2.06.94zm10 10l.94 2.06.94-2.06 2.06-.94-2.06-.94-.94-2.06-.94 2.06-2.06.94z\"/><path d=\"M17.41 7.96l-1.37-1.37c-.4-.4-.92-.59-1.43-.59-.52 0-1.04.2-1.43.59L10.3 9.45l-7.72 7.72c-.78.78-.78 2.05 0 2.83L4 21.41c.39.39.9.59 1.41.59.51 0 1.02-.2 1.41-.59l7.78-7.78 2.81-2.81c.8-.78.8-2.07 0-2.86zM5.41 20L4 18.59l7.72-7.72 1.47 1.35L5.41 20z\"/>\n",
              "  </svg>\n",
              "      </button>\n",
              "      \n",
              "  <style>\n",
              "    .colab-df-container {\n",
              "      display:flex;\n",
              "      flex-wrap:wrap;\n",
              "      gap: 12px;\n",
              "    }\n",
              "\n",
              "    .colab-df-convert {\n",
              "      background-color: #E8F0FE;\n",
              "      border: none;\n",
              "      border-radius: 50%;\n",
              "      cursor: pointer;\n",
              "      display: none;\n",
              "      fill: #1967D2;\n",
              "      height: 32px;\n",
              "      padding: 0 0 0 0;\n",
              "      width: 32px;\n",
              "    }\n",
              "\n",
              "    .colab-df-convert:hover {\n",
              "      background-color: #E2EBFA;\n",
              "      box-shadow: 0px 1px 2px rgba(60, 64, 67, 0.3), 0px 1px 3px 1px rgba(60, 64, 67, 0.15);\n",
              "      fill: #174EA6;\n",
              "    }\n",
              "\n",
              "    [theme=dark] .colab-df-convert {\n",
              "      background-color: #3B4455;\n",
              "      fill: #D2E3FC;\n",
              "    }\n",
              "\n",
              "    [theme=dark] .colab-df-convert:hover {\n",
              "      background-color: #434B5C;\n",
              "      box-shadow: 0px 1px 3px 1px rgba(0, 0, 0, 0.15);\n",
              "      filter: drop-shadow(0px 1px 2px rgba(0, 0, 0, 0.3));\n",
              "      fill: #FFFFFF;\n",
              "    }\n",
              "  </style>\n",
              "\n",
              "      <script>\n",
              "        const buttonEl =\n",
              "          document.querySelector('#df-ad581911-159d-4340-8d78-0c1a44038044 button.colab-df-convert');\n",
              "        buttonEl.style.display =\n",
              "          google.colab.kernel.accessAllowed ? 'block' : 'none';\n",
              "\n",
              "        async function convertToInteractive(key) {\n",
              "          const element = document.querySelector('#df-ad581911-159d-4340-8d78-0c1a44038044');\n",
              "          const dataTable =\n",
              "            await google.colab.kernel.invokeFunction('convertToInteractive',\n",
              "                                                     [key], {});\n",
              "          if (!dataTable) return;\n",
              "\n",
              "          const docLinkHtml = 'Like what you see? Visit the ' +\n",
              "            '<a target=\"_blank\" href=https://colab.research.google.com/notebooks/data_table.ipynb>data table notebook</a>'\n",
              "            + ' to learn more about interactive tables.';\n",
              "          element.innerHTML = '';\n",
              "          dataTable['output_type'] = 'display_data';\n",
              "          await google.colab.output.renderOutput(dataTable, element);\n",
              "          const docLink = document.createElement('div');\n",
              "          docLink.innerHTML = docLinkHtml;\n",
              "          element.appendChild(docLink);\n",
              "        }\n",
              "      </script>\n",
              "    </div>\n",
              "  </div>\n",
              "  "
            ]
          },
          "metadata": {},
          "execution_count": 125
        }
      ]
    },
    {
      "cell_type": "code",
      "source": [
        "#Encoding companies.country_code \n",
        "df_cmp = cleaned_companies[[\"category_list\",\"funding_total_usd\",\"status\",\"country_code\",\"funding_rounds\",\"year\"]]\n",
        "\n",
        "from sklearn.preprocessing import OneHotEncoder\n",
        "encoder = OneHotEncoder(sparse=False)\n",
        "\n",
        "cat_cols = ['category_list']\n",
        "\n",
        "# Encode Categorical Data\n",
        "df_encoded = pd.DataFrame(encoder.fit_transform(df_cmp[cat_cols]))\n",
        "df_encoded.columns = encoder.get_feature_names(cat_cols)\n",
        "\n",
        "# Replace Categotical Data with Encoded Data\n",
        "df_cmp = df_cmp.drop(cat_cols ,axis=1)\n",
        "df_cmp = pd.concat([df_encoded, df_cmp], axis=1)\n",
        "\n",
        "print('Shape of dataframe:', df_cmp.shape)\n",
        "df_cmp.head()"
      ],
      "metadata": {
        "id": "bliPD1h1tbz7",
        "colab": {
          "base_uri": "https://localhost:8080/",
          "height": 317
        },
        "outputId": "c83bc5c2-d4d4-4e64-d090-ef149d12621f"
      },
      "execution_count": null,
      "outputs": [
        {
          "output_type": "stream",
          "name": "stdout",
          "text": [
            "Shape of dataframe: (66368, 26)\n"
          ]
        },
        {
          "output_type": "execute_result",
          "data": {
            "text/plain": [
              "   category_list_1  category_list_2  category_list_3  category_list_4  \\\n",
              "0              0.0              0.0              0.0              0.0   \n",
              "1              0.0              0.0              0.0              0.0   \n",
              "2              0.0              0.0              0.0              0.0   \n",
              "3              0.0              0.0              0.0              0.0   \n",
              "4              1.0              0.0              0.0              0.0   \n",
              "\n",
              "   category_list_5  category_list_6  category_list_7  category_list_8  \\\n",
              "0              0.0              0.0              0.0              0.0   \n",
              "1              0.0              0.0              0.0              0.0   \n",
              "2              0.0              0.0              0.0              0.0   \n",
              "3              0.0              1.0              0.0              0.0   \n",
              "4              0.0              0.0              0.0              0.0   \n",
              "\n",
              "   category_list_9  category_list_10  ...  category_list_17  category_list_18  \\\n",
              "0              0.0               0.0  ...               0.0               0.0   \n",
              "1              0.0               0.0  ...               0.0               0.0   \n",
              "2              0.0               0.0  ...               0.0               0.0   \n",
              "3              0.0               0.0  ...               0.0               0.0   \n",
              "4              0.0               0.0  ...               0.0               0.0   \n",
              "\n",
              "   category_list_19  category_list_20  category_list_21  funding_total_usd  \\\n",
              "0               0.0               0.0               1.0         10000000.0   \n",
              "1               0.0               0.0               1.0           700000.0   \n",
              "2               0.0               0.0               1.0          3406878.0   \n",
              "3               0.0               0.0               0.0          2000000.0   \n",
              "4               0.0               0.0               0.0                0.0   \n",
              "\n",
              "   status  country_code  funding_rounds    year  \n",
              "0       4             4               1     NaN  \n",
              "1       4             1               2  2014.0  \n",
              "2       4            11               1     NaN  \n",
              "3       4             5               1  2007.0  \n",
              "4       4             1               1  2010.0  \n",
              "\n",
              "[5 rows x 26 columns]"
            ],
            "text/html": [
              "\n",
              "  <div id=\"df-e3657e4e-439f-4ba1-97e0-54bb3401c35b\">\n",
              "    <div class=\"colab-df-container\">\n",
              "      <div>\n",
              "<style scoped>\n",
              "    .dataframe tbody tr th:only-of-type {\n",
              "        vertical-align: middle;\n",
              "    }\n",
              "\n",
              "    .dataframe tbody tr th {\n",
              "        vertical-align: top;\n",
              "    }\n",
              "\n",
              "    .dataframe thead th {\n",
              "        text-align: right;\n",
              "    }\n",
              "</style>\n",
              "<table border=\"1\" class=\"dataframe\">\n",
              "  <thead>\n",
              "    <tr style=\"text-align: right;\">\n",
              "      <th></th>\n",
              "      <th>category_list_1</th>\n",
              "      <th>category_list_2</th>\n",
              "      <th>category_list_3</th>\n",
              "      <th>category_list_4</th>\n",
              "      <th>category_list_5</th>\n",
              "      <th>category_list_6</th>\n",
              "      <th>category_list_7</th>\n",
              "      <th>category_list_8</th>\n",
              "      <th>category_list_9</th>\n",
              "      <th>category_list_10</th>\n",
              "      <th>...</th>\n",
              "      <th>category_list_17</th>\n",
              "      <th>category_list_18</th>\n",
              "      <th>category_list_19</th>\n",
              "      <th>category_list_20</th>\n",
              "      <th>category_list_21</th>\n",
              "      <th>funding_total_usd</th>\n",
              "      <th>status</th>\n",
              "      <th>country_code</th>\n",
              "      <th>funding_rounds</th>\n",
              "      <th>year</th>\n",
              "    </tr>\n",
              "  </thead>\n",
              "  <tbody>\n",
              "    <tr>\n",
              "      <th>0</th>\n",
              "      <td>0.0</td>\n",
              "      <td>0.0</td>\n",
              "      <td>0.0</td>\n",
              "      <td>0.0</td>\n",
              "      <td>0.0</td>\n",
              "      <td>0.0</td>\n",
              "      <td>0.0</td>\n",
              "      <td>0.0</td>\n",
              "      <td>0.0</td>\n",
              "      <td>0.0</td>\n",
              "      <td>...</td>\n",
              "      <td>0.0</td>\n",
              "      <td>0.0</td>\n",
              "      <td>0.0</td>\n",
              "      <td>0.0</td>\n",
              "      <td>1.0</td>\n",
              "      <td>10000000.0</td>\n",
              "      <td>4</td>\n",
              "      <td>4</td>\n",
              "      <td>1</td>\n",
              "      <td>NaN</td>\n",
              "    </tr>\n",
              "    <tr>\n",
              "      <th>1</th>\n",
              "      <td>0.0</td>\n",
              "      <td>0.0</td>\n",
              "      <td>0.0</td>\n",
              "      <td>0.0</td>\n",
              "      <td>0.0</td>\n",
              "      <td>0.0</td>\n",
              "      <td>0.0</td>\n",
              "      <td>0.0</td>\n",
              "      <td>0.0</td>\n",
              "      <td>0.0</td>\n",
              "      <td>...</td>\n",
              "      <td>0.0</td>\n",
              "      <td>0.0</td>\n",
              "      <td>0.0</td>\n",
              "      <td>0.0</td>\n",
              "      <td>1.0</td>\n",
              "      <td>700000.0</td>\n",
              "      <td>4</td>\n",
              "      <td>1</td>\n",
              "      <td>2</td>\n",
              "      <td>2014.0</td>\n",
              "    </tr>\n",
              "    <tr>\n",
              "      <th>2</th>\n",
              "      <td>0.0</td>\n",
              "      <td>0.0</td>\n",
              "      <td>0.0</td>\n",
              "      <td>0.0</td>\n",
              "      <td>0.0</td>\n",
              "      <td>0.0</td>\n",
              "      <td>0.0</td>\n",
              "      <td>0.0</td>\n",
              "      <td>0.0</td>\n",
              "      <td>0.0</td>\n",
              "      <td>...</td>\n",
              "      <td>0.0</td>\n",
              "      <td>0.0</td>\n",
              "      <td>0.0</td>\n",
              "      <td>0.0</td>\n",
              "      <td>1.0</td>\n",
              "      <td>3406878.0</td>\n",
              "      <td>4</td>\n",
              "      <td>11</td>\n",
              "      <td>1</td>\n",
              "      <td>NaN</td>\n",
              "    </tr>\n",
              "    <tr>\n",
              "      <th>3</th>\n",
              "      <td>0.0</td>\n",
              "      <td>0.0</td>\n",
              "      <td>0.0</td>\n",
              "      <td>0.0</td>\n",
              "      <td>0.0</td>\n",
              "      <td>1.0</td>\n",
              "      <td>0.0</td>\n",
              "      <td>0.0</td>\n",
              "      <td>0.0</td>\n",
              "      <td>0.0</td>\n",
              "      <td>...</td>\n",
              "      <td>0.0</td>\n",
              "      <td>0.0</td>\n",
              "      <td>0.0</td>\n",
              "      <td>0.0</td>\n",
              "      <td>0.0</td>\n",
              "      <td>2000000.0</td>\n",
              "      <td>4</td>\n",
              "      <td>5</td>\n",
              "      <td>1</td>\n",
              "      <td>2007.0</td>\n",
              "    </tr>\n",
              "    <tr>\n",
              "      <th>4</th>\n",
              "      <td>1.0</td>\n",
              "      <td>0.0</td>\n",
              "      <td>0.0</td>\n",
              "      <td>0.0</td>\n",
              "      <td>0.0</td>\n",
              "      <td>0.0</td>\n",
              "      <td>0.0</td>\n",
              "      <td>0.0</td>\n",
              "      <td>0.0</td>\n",
              "      <td>0.0</td>\n",
              "      <td>...</td>\n",
              "      <td>0.0</td>\n",
              "      <td>0.0</td>\n",
              "      <td>0.0</td>\n",
              "      <td>0.0</td>\n",
              "      <td>0.0</td>\n",
              "      <td>0.0</td>\n",
              "      <td>4</td>\n",
              "      <td>1</td>\n",
              "      <td>1</td>\n",
              "      <td>2010.0</td>\n",
              "    </tr>\n",
              "  </tbody>\n",
              "</table>\n",
              "<p>5 rows × 26 columns</p>\n",
              "</div>\n",
              "      <button class=\"colab-df-convert\" onclick=\"convertToInteractive('df-e3657e4e-439f-4ba1-97e0-54bb3401c35b')\"\n",
              "              title=\"Convert this dataframe to an interactive table.\"\n",
              "              style=\"display:none;\">\n",
              "        \n",
              "  <svg xmlns=\"http://www.w3.org/2000/svg\" height=\"24px\"viewBox=\"0 0 24 24\"\n",
              "       width=\"24px\">\n",
              "    <path d=\"M0 0h24v24H0V0z\" fill=\"none\"/>\n",
              "    <path d=\"M18.56 5.44l.94 2.06.94-2.06 2.06-.94-2.06-.94-.94-2.06-.94 2.06-2.06.94zm-11 1L8.5 8.5l.94-2.06 2.06-.94-2.06-.94L8.5 2.5l-.94 2.06-2.06.94zm10 10l.94 2.06.94-2.06 2.06-.94-2.06-.94-.94-2.06-.94 2.06-2.06.94z\"/><path d=\"M17.41 7.96l-1.37-1.37c-.4-.4-.92-.59-1.43-.59-.52 0-1.04.2-1.43.59L10.3 9.45l-7.72 7.72c-.78.78-.78 2.05 0 2.83L4 21.41c.39.39.9.59 1.41.59.51 0 1.02-.2 1.41-.59l7.78-7.78 2.81-2.81c.8-.78.8-2.07 0-2.86zM5.41 20L4 18.59l7.72-7.72 1.47 1.35L5.41 20z\"/>\n",
              "  </svg>\n",
              "      </button>\n",
              "      \n",
              "  <style>\n",
              "    .colab-df-container {\n",
              "      display:flex;\n",
              "      flex-wrap:wrap;\n",
              "      gap: 12px;\n",
              "    }\n",
              "\n",
              "    .colab-df-convert {\n",
              "      background-color: #E8F0FE;\n",
              "      border: none;\n",
              "      border-radius: 50%;\n",
              "      cursor: pointer;\n",
              "      display: none;\n",
              "      fill: #1967D2;\n",
              "      height: 32px;\n",
              "      padding: 0 0 0 0;\n",
              "      width: 32px;\n",
              "    }\n",
              "\n",
              "    .colab-df-convert:hover {\n",
              "      background-color: #E2EBFA;\n",
              "      box-shadow: 0px 1px 2px rgba(60, 64, 67, 0.3), 0px 1px 3px 1px rgba(60, 64, 67, 0.15);\n",
              "      fill: #174EA6;\n",
              "    }\n",
              "\n",
              "    [theme=dark] .colab-df-convert {\n",
              "      background-color: #3B4455;\n",
              "      fill: #D2E3FC;\n",
              "    }\n",
              "\n",
              "    [theme=dark] .colab-df-convert:hover {\n",
              "      background-color: #434B5C;\n",
              "      box-shadow: 0px 1px 3px 1px rgba(0, 0, 0, 0.15);\n",
              "      filter: drop-shadow(0px 1px 2px rgba(0, 0, 0, 0.3));\n",
              "      fill: #FFFFFF;\n",
              "    }\n",
              "  </style>\n",
              "\n",
              "      <script>\n",
              "        const buttonEl =\n",
              "          document.querySelector('#df-e3657e4e-439f-4ba1-97e0-54bb3401c35b button.colab-df-convert');\n",
              "        buttonEl.style.display =\n",
              "          google.colab.kernel.accessAllowed ? 'block' : 'none';\n",
              "\n",
              "        async function convertToInteractive(key) {\n",
              "          const element = document.querySelector('#df-e3657e4e-439f-4ba1-97e0-54bb3401c35b');\n",
              "          const dataTable =\n",
              "            await google.colab.kernel.invokeFunction('convertToInteractive',\n",
              "                                                     [key], {});\n",
              "          if (!dataTable) return;\n",
              "\n",
              "          const docLinkHtml = 'Like what you see? Visit the ' +\n",
              "            '<a target=\"_blank\" href=https://colab.research.google.com/notebooks/data_table.ipynb>data table notebook</a>'\n",
              "            + ' to learn more about interactive tables.';\n",
              "          element.innerHTML = '';\n",
              "          dataTable['output_type'] = 'display_data';\n",
              "          await google.colab.output.renderOutput(dataTable, element);\n",
              "          const docLink = document.createElement('div');\n",
              "          docLink.innerHTML = docLinkHtml;\n",
              "          element.appendChild(docLink);\n",
              "        }\n",
              "      </script>\n",
              "    </div>\n",
              "  </div>\n",
              "  "
            ]
          },
          "metadata": {},
          "execution_count": 130
        }
      ]
    },
    {
      "cell_type": "code",
      "source": [
        "corr = df_cmp.corr()\n",
        "# Heatmap\n",
        "plt.figure(figsize = (15,15))\n",
        "cmap = sns.diverging_palette(220, 10, as_cmap=True)\n",
        "sns.heatmap(corr, xticklabels=corr.columns.values, yticklabels=corr.columns.values, cmap=cmap, vmax=.3, center=0, square=True, linewidths=.5, cbar_kws={\"shrink\": .82})\n",
        "plt.title('Heatmap of Correlation Matrix')"
      ],
      "metadata": {
        "colab": {
          "base_uri": "https://localhost:8080/",
          "height": 831
        },
        "id": "XnL3h23zokqM",
        "outputId": "cb640945-d20f-4266-9c86-899fd190e84d"
      },
      "execution_count": null,
      "outputs": [
        {
          "output_type": "execute_result",
          "data": {
            "text/plain": [
              "Text(0.5, 1.0, 'Heatmap of Correlation Matrix')"
            ]
          },
          "metadata": {},
          "execution_count": 131
        },
        {
          "output_type": "display_data",
          "data": {
            "text/plain": [
              "<Figure size 1080x1080 with 2 Axes>"
            ],
            "image/png": "[encoded data removed]"
          },
          "metadata": {
            "needs_background": "light"
          }
        }
      ]
    },
    {
      "cell_type": "markdown",
      "source": [
        "## Predictive Models\n"
      ],
      "metadata": {
        "id": "YoSkkXDl-dty"
      }
    },
    {
      "cell_type": "markdown",
      "source": [
        "The predictive models presented are Random Forest, KNN and Artificial Neural Network"
      ],
      "metadata": {
        "id": "etfMpBk5guPQ"
      }
    },
    {
      "cell_type": "code",
      "source": [
        "#Define variables for models\n",
        "x=cleaned_companies[[\"category_list\",\"funding_total_usd\", \"country_code\",\"funding_rounds\"]]\n",
        "y=cleaned_companies[\"status\"]\n",
        "\n",
        "#Disable warning\n",
        "import warnings\n",
        "warnings.filterwarnings(\"ignore\")\n"
      ],
      "metadata": {
        "id": "B84HpRhFhMN1"
      },
      "execution_count": null,
      "outputs": []
    },
    {
      "cell_type": "code",
      "source": [
        "def evaluate_model(model, x_test, y_test):\n",
        "    from sklearn import metrics\n",
        "\n",
        "    # Predict Test Data \n",
        "    y_pred = model.predict(x_test)\n",
        "\n",
        "    # Calculate accuracy, precision, recall, f1-score, and kappa score\n",
        "    acc = metrics.accuracy_score(y_test, y_pred)\n",
        "    prec = metrics.precision_score(y_test, y_pred,average='micro') #added micro\n",
        "    rec = metrics.recall_score(y_test, y_pred,average='micro')\n",
        "    f1 = metrics.f1_score(y_test, y_pred,average='micro')\n",
        "    kappa = metrics.cohen_kappa_score(y_test, y_pred)\n",
        "\n",
        "    # Calculate area under curve (AUC)\n",
        "    y_pred_proba = model.predict_proba(x_test)[::,1]\n",
        "    #fpr, tpr, _ = metrics.roc_curve(y_test, y_pred_proba) #Removed for compatibility\n",
        "    #auc = metrics.roc_auc_score(y_test, y_pred_proba)\n",
        "\n",
        "    # Display confussion matrix\n",
        "    cm = metrics.confusion_matrix(y_test, y_pred)\n",
        "\n",
        "    disp = metrics.ConfusionMatrixDisplay(cm)\n",
        "    disp.plot()\n",
        "    plt.show()\n",
        "\n",
        "    print(metrics.classification_report(y_test, y_pred))\n",
        "\n",
        "    #return {'acc': acc, 'prec': prec, 'rec': rec, 'f1': f1, 'kappa': kappa, 'fpr': fpr, 'tpr': tpr, 'auc': auc, 'cm': cm}\n",
        "    return {'acc': acc, 'prec': prec, 'rec': rec, 'f1': f1, 'kappa': kappa, 'cm': cm}"
      ],
      "metadata": {
        "id": "BVCA8smZmGqL"
      },
      "execution_count": null,
      "outputs": []
    },
    {
      "cell_type": "markdown",
      "source": [
        "\n",
        "### Random Forest\n"
      ],
      "metadata": {
        "id": "yNYVE2MHBOA1"
      }
    },
    {
      "cell_type": "markdown",
      "source": [
        "Random Forest is one of the most accurate algorithym as it can run efficiently on large databases. Random Forest was one of our options to build predictive models as it can be used for regression taks.  "
      ],
      "metadata": {
        "id": "d50Xt7GLrPxw"
      }
    },
    {
      "cell_type": "code",
      "source": [
        "#Import libraries\n",
        "from sklearn.ensemble import RandomForestRegressor\n",
        "import statistics"
      ],
      "metadata": {
        "id": "uWpjkHS7eO0V"
      },
      "execution_count": null,
      "outputs": []
    },
    {
      "cell_type": "code",
      "source": [
        "#Defining model\n",
        "rf = RandomForestRegressor(n_estimators= 1000, random_state=0, max_features=3)"
      ],
      "metadata": {
        "id": "2SEBkxsCd-1U"
      },
      "execution_count": null,
      "outputs": []
    },
    {
      "cell_type": "code",
      "source": [
        "#Fitting model\n",
        "rf.fit(x,y)"
      ],
      "metadata": {
        "colab": {
          "base_uri": "https://localhost:8080/"
        },
        "id": "GqIPoQd1eY7z",
        "outputId": "b8722968-1269-47fd-dabd-9def52f5a7a4"
      },
      "execution_count": null,
      "outputs": [
        {
          "output_type": "execute_result",
          "data": {
            "text/plain": [
              "RandomForestRegressor(max_features=3, n_estimators=1000, random_state=0)"
            ]
          },
          "metadata": {},
          "execution_count": 137
        }
      ]
    },
    {
      "cell_type": "code",
      "source": [
        "#Measuring model accuracy\n",
        "rfpredictions = rf.predict(x)\n",
        "rferror_rate=abs(rfpredictions-y)\n",
        "rfmape=100*(rferror_rate/y)\n",
        "rfaccuracy = 100 - statistics.mean(rfmape)"
      ],
      "metadata": {
        "id": "pW8SH05uMkfd"
      },
      "execution_count": null,
      "outputs": []
    },
    {
      "cell_type": "code",
      "source": [
        "#Random Forest Accuracy\n",
        "print (\"Random Forest Model's accuracy:%.2f\"%rfaccuracy)"
      ],
      "metadata": {
        "colab": {
          "base_uri": "https://localhost:8080/"
        },
        "id": "raR1EAHqMsnR",
        "outputId": "0e3445a2-b52d-47ac-e0f6-5b36d2f46c71"
      },
      "execution_count": null,
      "outputs": [
        {
          "output_type": "stream",
          "name": "stdout",
          "text": [
            "Random Forest Model's accuracy:76.28\n"
          ]
        }
      ]
    },
    {
      "cell_type": "markdown",
      "source": [
        "**Random Forest focusing only on the top 20 categories**\n",
        "\n",
        "To see how our model would behave or if it would present significant changes by taking the assumption to encompass as \"others\" the categories that weren't on the top 20, we decided to model a Random Forest focusing only on the Top 20 categories. As the results can be seen, the accuracy obtained was 76.10% vs 73.63% for our general model, meaning that our main model is not affected in a large degree by the assumption made. "
      ],
      "metadata": {
        "id": "RaVnu_0NpYGB"
      }
    },
    {
      "cell_type": "code",
      "source": [
        "#Defining variables\n",
        "x_c1=c1[[\"category_list\",\"funding_total_usd\", \"country_code\",\"funding_rounds\"]]\n",
        "y_c1=c1[\"status\"]"
      ],
      "metadata": {
        "id": "IMFeAm2xfJil"
      },
      "execution_count": null,
      "outputs": []
    },
    {
      "cell_type": "code",
      "source": [
        "#Modelling\n",
        "rf.fit(x_c1,y_c1)"
      ],
      "metadata": {
        "colab": {
          "base_uri": "https://localhost:8080/"
        },
        "id": "skZNLZWsfihU",
        "outputId": "e93cc837-9171-428a-f6f9-48df65f74d89"
      },
      "execution_count": null,
      "outputs": [
        {
          "output_type": "execute_result",
          "data": {
            "text/plain": [
              "RandomForestRegressor(max_features=3, n_estimators=1000, random_state=0)"
            ]
          },
          "metadata": {},
          "execution_count": 141
        }
      ]
    },
    {
      "cell_type": "code",
      "source": [
        "rfpredictions1 = rf.predict(x_c1)\n",
        "print(rfpredictions1)"
      ],
      "metadata": {
        "colab": {
          "base_uri": "https://localhost:8080/"
        },
        "id": "IPjS2ZOefxZl",
        "outputId": "a8344531-9139-4b14-d18d-1648a3b93b7e"
      },
      "execution_count": null,
      "outputs": [
        {
          "output_type": "stream",
          "name": "stdout",
          "text": [
            "[3.985      3.11488095 1.88545    ... 3.979      3.99543225 3.99866667]\n"
          ]
        }
      ]
    },
    {
      "cell_type": "code",
      "source": [
        "rferror_rate1=abs(rfpredictions1-y_c1)\n",
        "print(rferror_rate1)"
      ],
      "metadata": {
        "colab": {
          "base_uri": "https://localhost:8080/"
        },
        "id": "GvwZ8oS6kbZf",
        "outputId": "2fa95026-13c5-41ef-aff0-c1e2e7efc48b"
      },
      "execution_count": null,
      "outputs": [
        {
          "output_type": "stream",
          "name": "stdout",
          "text": [
            "58765    0.015000\n",
            "12148    1.114881\n",
            "53810    0.885450\n",
            "53807    0.073000\n",
            "27503    0.462943\n",
            "           ...   \n",
            "32706    0.067000\n",
            "52831    0.765946\n",
            "65940    0.021000\n",
            "63240    0.004568\n",
            "36973    0.001333\n",
            "Name: status, Length: 21312, dtype: float64\n"
          ]
        }
      ]
    },
    {
      "cell_type": "code",
      "source": [
        "rfmape1=100*(rferror_rate1/y_c1)\n",
        "print(rfmape1)"
      ],
      "metadata": {
        "colab": {
          "base_uri": "https://localhost:8080/"
        },
        "id": "7a-sTwbSkpY1",
        "outputId": "cc30f470-77ad-4395-89ba-6f52ea9dd721"
      },
      "execution_count": null,
      "outputs": [
        {
          "output_type": "stream",
          "name": "stdout",
          "text": [
            "58765     0.375000\n",
            "12148    55.744048\n",
            "53810    88.545000\n",
            "53807     1.825000\n",
            "27503    11.573574\n",
            "           ...    \n",
            "32706     1.675000\n",
            "52831    19.148654\n",
            "65940     0.525000\n",
            "63240     0.114194\n",
            "36973     0.033333\n",
            "Name: status, Length: 21312, dtype: float64\n"
          ]
        }
      ]
    },
    {
      "cell_type": "code",
      "source": [
        "#Model accuracy\n",
        "rfaccuracy1 = 100 - statistics.mean(rfmape1)\n",
        "print(rfaccuracy1)"
      ],
      "metadata": {
        "colab": {
          "base_uri": "https://localhost:8080/"
        },
        "id": "I3pgY-jElE1b",
        "outputId": "f98b0a4c-7c8e-40f5-c532-ebfd7febc643"
      },
      "execution_count": null,
      "outputs": [
        {
          "output_type": "stream",
          "name": "stdout",
          "text": [
            "80.3926908411047\n"
          ]
        }
      ]
    },
    {
      "cell_type": "code",
      "source": [
        "print (\"Random Forest Model's accuracy: %.2f\" %rfaccuracy1)"
      ],
      "metadata": {
        "colab": {
          "base_uri": "https://localhost:8080/"
        },
        "id": "tb7Xlh4ngPws",
        "outputId": "430613f4-387e-4946-ffb8-9b383f3fe29f"
      },
      "execution_count": null,
      "outputs": [
        {
          "output_type": "stream",
          "name": "stdout",
          "text": [
            "Random Forest Model's accuracy: 80.39\n"
          ]
        }
      ]
    },
    {
      "cell_type": "markdown",
      "source": [
        "### KNN\n",
        "\"KNN lassify new data by finding k-number of closest neighbor from the training data and then decide the class based on the majority of it's neighbors\". \n",
        "\n",
        "Our objective is to determine if a company is active or not, KNN makes perfect sense since companies with similar behaviour might have a similar outcome.\n",
        "\n",
        "\n"
      ],
      "metadata": {
        "id": "d4HrxP9dzw03"
      }
    },
    {
      "cell_type": "code",
      "source": [
        "# Select Features\n",
        "# Dropped year because nearly 25% is null\n",
        "df_cmp = cleaned_companies[[\"category_list\",\"funding_total_usd\",\"status\",\"country_code\",\"funding_rounds\"]]\n",
        "\n",
        "feature = df_cmp.drop('status', axis=1)\n",
        "\n",
        "# Select Target\n",
        "target = df_cmp['status']\n",
        "\n",
        "# Set Training and Testing Data\n",
        "from sklearn.model_selection import train_test_split\n",
        "X_train, X_test, y_train, y_test = train_test_split(feature , target, \n",
        "                                                    shuffle = True, \n",
        "                                                    test_size=0.2, \n",
        "                                                    random_state=1)\n",
        "\n",
        "# Show the Training and Testing Data\n",
        "print('Shape of training feature:', X_train.shape)\n",
        "print('Shape of testing feature:', X_test.shape)\n",
        "print('Shape of training label:', y_train.shape)\n",
        "print('Shape of training label:', y_test.shape)"
      ],
      "metadata": {
        "id": "tVRRVqMV2OEl",
        "colab": {
          "base_uri": "https://localhost:8080/"
        },
        "outputId": "dabade37-6aa7-4898-c55a-de2c833df0ec"
      },
      "execution_count": null,
      "outputs": [
        {
          "output_type": "stream",
          "name": "stdout",
          "text": [
            "Shape of training feature: (53094, 4)\n",
            "Shape of testing feature: (13274, 4)\n",
            "Shape of training label: (53094,)\n",
            "Shape of training label: (13274,)\n"
          ]
        }
      ]
    },
    {
      "cell_type": "code",
      "source": [
        "X_train.info(),\n",
        "X_train.isnull().sum()"
      ],
      "metadata": {
        "colab": {
          "base_uri": "https://localhost:8080/"
        },
        "id": "tgFvRlufg8cm",
        "outputId": "574fb957-255e-45c5-e98e-d304579d19d8"
      },
      "execution_count": null,
      "outputs": [
        {
          "output_type": "stream",
          "name": "stdout",
          "text": [
            "<class 'pandas.core.frame.DataFrame'>\n",
            "Int64Index: 53094 entries, 12180 to 5192\n",
            "Data columns (total 4 columns):\n",
            " #   Column             Non-Null Count  Dtype  \n",
            "---  ------             --------------  -----  \n",
            " 0   category_list      53094 non-null  int64  \n",
            " 1   funding_total_usd  53094 non-null  float64\n",
            " 2   country_code       53094 non-null  int64  \n",
            " 3   funding_rounds     53094 non-null  int64  \n",
            "dtypes: float64(1), int64(3)\n",
            "memory usage: 2.0 MB\n"
          ]
        },
        {
          "output_type": "execute_result",
          "data": {
            "text/plain": [
              "category_list        0\n",
              "funding_total_usd    0\n",
              "country_code         0\n",
              "funding_rounds       0\n",
              "dtype: int64"
            ]
          },
          "metadata": {},
          "execution_count": 148
        }
      ]
    },
    {
      "cell_type": "code",
      "source": [
        "from sklearn.neighbors import KNeighborsClassifier\n",
        "\n",
        "# Building KNN model \n",
        "knn = KNeighborsClassifier(n_neighbors = 5)\n",
        "knn.fit(X_train, y_train)"
      ],
      "metadata": {
        "colab": {
          "base_uri": "https://localhost:8080/"
        },
        "id": "li_Nn4V023Pf",
        "outputId": "0abc3a13-d7d5-40d5-bbe2-a1d9b0df1604"
      },
      "execution_count": null,
      "outputs": [
        {
          "output_type": "execute_result",
          "data": {
            "text/plain": [
              "KNeighborsClassifier()"
            ]
          },
          "metadata": {},
          "execution_count": 149
        }
      ]
    },
    {
      "cell_type": "code",
      "source": [
        "knn_eval = evaluate_model(knn, X_test, y_test)\n",
        "\n",
        "# Print result\n",
        "print('Accuracy:', knn_eval['acc'])\n",
        "print('Precision:', knn_eval['prec'])\n",
        "print('Recall:', knn_eval['rec'])\n",
        "print('F1 Score:', knn_eval['f1'])\n",
        "print('Cohens Kappa Score:', knn_eval['kappa'])\n",
        "#print('Area Under Curve:', knn_eval['auc'])\n",
        "print('Confusion Matrix:\\n', knn_eval['cm'])"
      ],
      "metadata": {
        "id": "KXLOcoLXl-Lx",
        "colab": {
          "base_uri": "https://localhost:8080/",
          "height": 644
        },
        "outputId": "36796bdb-64bf-4695-e1e9-6d34114570a7"
      },
      "execution_count": null,
      "outputs": [
        {
          "output_type": "display_data",
          "data": {
            "text/plain": [
              "<Figure size 432x288 with 2 Axes>"
            ],
            "image/png": "[encoded data removed]"
          },
          "metadata": {
            "needs_background": "light"
          }
        },
        {
          "output_type": "stream",
          "name": "stdout",
          "text": [
            "              precision    recall  f1-score   support\n",
            "\n",
            "           1       0.21      0.09      0.13      1150\n",
            "           2       0.13      0.03      0.05      1288\n",
            "           3       0.16      0.06      0.09       295\n",
            "           4       0.80      0.94      0.87     10541\n",
            "\n",
            "    accuracy                           0.76     13274\n",
            "   macro avg       0.33      0.28      0.28     13274\n",
            "weighted avg       0.67      0.76      0.71     13274\n",
            "\n",
            "Accuracy: 0.760132590025614\n",
            "Precision: 0.760132590025614\n",
            "Recall: 0.760132590025614\n",
            "F1 Score: 0.760132590025614\n",
            "Cohens Kappa Score: 0.06174010776473915\n",
            "Confusion Matrix:\n",
            " [[ 104   48   16  982]\n",
            " [  46   41    8 1193]\n",
            " [  26    7   18  244]\n",
            " [ 329  215   70 9927]]\n"
          ]
        }
      ]
    },
    {
      "cell_type": "markdown",
      "source": [
        "### Artificial Neural Network\n",
        "We chose this model as we can analyze complex and non-linear relationship between our target and the selected features, giving us the opportunity to explore in a greater way how our target feature is related to the other selected features.\n",
        "\n"
      ],
      "metadata": {
        "id": "KkoMshr5743X"
      }
    },
    {
      "cell_type": "code",
      "source": [
        "#Neural network library\n",
        "from keras.layers import Dense, Activation\n",
        "from keras.models import Sequential"
      ],
      "metadata": {
        "id": "1_IIw65h7YYS"
      },
      "execution_count": null,
      "outputs": []
    },
    {
      "cell_type": "code",
      "source": [
        "#Initialising the NN\n",
        "model = Sequential()"
      ],
      "metadata": {
        "id": "R32arWLr7YYS"
      },
      "execution_count": null,
      "outputs": []
    },
    {
      "cell_type": "code",
      "source": [
        "#Adding the input layer and the first hidden layer\n",
        "model.add(Dense(30, activation = 'tanh',input_dim = 4))\n",
        "\n",
        "#Adding hidden layer 2\n",
        "model.add(Dense(units = 30, activation ='tanh'))\n",
        "#Adding hidden layer 3\n",
        "model.add(Dense(units = 30, activation ='tanh'))\n",
        "#Adding hidden layer 4\n",
        "model.add(Dense(units = 30, activation ='tanh'))\n",
        "#Adding hidden layer 5\n",
        "model.add(Dense(units = 30, activation ='tanh'))\n",
        "#Adding hidden layer 6\n",
        "model.add(Dense(units = 30, activation ='tanh'))\n",
        "#Adding hidden layer 7\n",
        "model.add(Dense(units = 30, activation ='tanh'))\n",
        "#Adding hidden layer 8\n",
        "model.add(Dense(units = 30, activation ='tanh'))\n",
        "#Adding hidden layer 9\n",
        "model.add(Dense(units = 30, activation ='tanh'))\n",
        "#Adding hidden layer 10\n",
        "model.add(Dense(units = 30, activation ='tanh'))\n",
        "#Adding hidden layer 11\n",
        "model.add(Dense(units = 30, activation ='tanh'))\n",
        "#Adding hidden layer 12\n",
        "model.add(Dense(units = 30, activation ='tanh'))\n",
        "#Adding hidden layer 13\n",
        "model.add(Dense(units = 30, activation ='tanh'))\n",
        "#Adding hidden layer 14\n",
        "model.add(Dense(units = 30, activation ='tanh'))\n",
        "#Adding hidden layer 15\n",
        "model.add(Dense(units = 30, activation ='tanh'))\n",
        "#Adding hidden layer 16\n",
        "model.add(Dense(units = 30, activation ='tanh'))\n",
        "\n",
        "#adding output layer\n",
        "model.add(Dense(units=1))"
      ],
      "metadata": {
        "id": "I4qv6AUF7YYT"
      },
      "execution_count": null,
      "outputs": []
    },
    {
      "cell_type": "code",
      "source": [
        "#check for optimizer and metrics\n",
        "model.compile(loss='mean_squared_error', optimizer='adam', metrics =['accuracy'])"
      ],
      "metadata": {
        "id": "rlzvMwOoqBuQ"
      },
      "execution_count": null,
      "outputs": []
    },
    {
      "cell_type": "code",
      "source": [
        "#fitting the data into the neural network. It can be seen that the model converges at about 15 epoch. In order to decrease the run time of the model, the number of epoch can be reduced to 15 "
      ],
      "metadata": {
        "id": "-x2YkZTVFOP-"
      },
      "execution_count": null,
      "outputs": []
    },
    {
      "cell_type": "code",
      "source": [
        "model.fit(x,y, validation_split=0.20, epochs=100, batch_size=10)"
      ],
      "metadata": {
        "colab": {
          "base_uri": "https://localhost:8080/"
        },
        "id": "1RPZUEtMrrzb",
        "outputId": "3623de6c-fcab-4240-968f-d2ee5554b374"
      },
      "execution_count": null,
      "outputs": [
        {
          "output_type": "stream",
          "name": "stdout",
          "text": [
            "Epoch 1/100\n",
            "5310/5310 [==============================] - 17s 3ms/step - loss: 0.9444 - accuracy: 0.0843 - val_loss: 0.9326 - val_accuracy: 0.0810\n",
            "Epoch 2/100\n",
            "5310/5310 [==============================] - 19s 4ms/step - loss: 0.9445 - accuracy: 0.0843 - val_loss: 0.9336 - val_accuracy: 0.0810\n",
            "Epoch 3/100\n",
            "5310/5310 [==============================] - 18s 3ms/step - loss: 0.9451 - accuracy: 0.0843 - val_loss: 0.9301 - val_accuracy: 0.0810\n",
            "Epoch 4/100\n",
            "5310/5310 [==============================] - 18s 3ms/step - loss: 0.9449 - accuracy: 0.0843 - val_loss: 0.9321 - val_accuracy: 0.0810\n",
            "Epoch 5/100\n",
            "5310/5310 [==============================] - 19s 4ms/step - loss: 0.9445 - accuracy: 0.0843 - val_loss: 0.9303 - val_accuracy: 0.0810\n",
            "Epoch 6/100\n",
            "5310/5310 [==============================] - 18s 3ms/step - loss: 0.9444 - accuracy: 0.0843 - val_loss: 0.9378 - val_accuracy: 0.0810\n",
            "Epoch 7/100\n",
            "5310/5310 [==============================] - 17s 3ms/step - loss: 0.9447 - accuracy: 0.0843 - val_loss: 0.9318 - val_accuracy: 0.0810\n",
            "Epoch 8/100\n",
            "5310/5310 [==============================] - 18s 3ms/step - loss: 0.9447 - accuracy: 0.0843 - val_loss: 0.9297 - val_accuracy: 0.0810\n",
            "Epoch 9/100\n",
            "5310/5310 [==============================] - 18s 3ms/step - loss: 0.9449 - accuracy: 0.0843 - val_loss: 0.9286 - val_accuracy: 0.0810\n",
            "Epoch 10/100\n",
            "5310/5310 [==============================] - 17s 3ms/step - loss: 0.9445 - accuracy: 0.0843 - val_loss: 0.9307 - val_accuracy: 0.0810\n",
            "Epoch 11/100\n",
            "5310/5310 [==============================] - 17s 3ms/step - loss: 0.9445 - accuracy: 0.0843 - val_loss: 0.9293 - val_accuracy: 0.0810\n",
            "Epoch 12/100\n",
            "5310/5310 [==============================] - 17s 3ms/step - loss: 0.9449 - accuracy: 0.0843 - val_loss: 0.9308 - val_accuracy: 0.0810\n",
            "Epoch 13/100\n",
            "5310/5310 [==============================] - 18s 3ms/step - loss: 0.9441 - accuracy: 0.0843 - val_loss: 0.9299 - val_accuracy: 0.0810\n",
            "Epoch 14/100\n",
            "5310/5310 [==============================] - 19s 4ms/step - loss: 0.9448 - accuracy: 0.0843 - val_loss: 0.9302 - val_accuracy: 0.0810\n",
            "Epoch 15/100\n",
            "5310/5310 [==============================] - 19s 4ms/step - loss: 0.9454 - accuracy: 0.0843 - val_loss: 0.9290 - val_accuracy: 0.0810\n",
            "Epoch 16/100\n",
            "5310/5310 [==============================] - 19s 4ms/step - loss: 0.9450 - accuracy: 0.0843 - val_loss: 0.9343 - val_accuracy: 0.0810\n",
            "Epoch 17/100\n",
            "5310/5310 [==============================] - 19s 4ms/step - loss: 0.9445 - accuracy: 0.0843 - val_loss: 0.9288 - val_accuracy: 0.0810\n",
            "Epoch 18/100\n",
            "5310/5310 [==============================] - 20s 4ms/step - loss: 0.9448 - accuracy: 0.0843 - val_loss: 0.9329 - val_accuracy: 0.0810\n",
            "Epoch 19/100\n",
            "5310/5310 [==============================] - 22s 4ms/step - loss: 0.9446 - accuracy: 0.0843 - val_loss: 0.9300 - val_accuracy: 0.0810\n",
            "Epoch 20/100\n",
            "5310/5310 [==============================] - 21s 4ms/step - loss: 0.9449 - accuracy: 0.0843 - val_loss: 0.9479 - val_accuracy: 0.0810\n",
            "Epoch 21/100\n",
            "5310/5310 [==============================] - 21s 4ms/step - loss: 0.9448 - accuracy: 0.0843 - val_loss: 0.9286 - val_accuracy: 0.0810\n",
            "Epoch 22/100\n",
            "5310/5310 [==============================] - 21s 4ms/step - loss: 0.9447 - accuracy: 0.0843 - val_loss: 0.9294 - val_accuracy: 0.0810\n",
            "Epoch 23/100\n",
            "5310/5310 [==============================] - 20s 4ms/step - loss: 0.9443 - accuracy: 0.0843 - val_loss: 0.9290 - val_accuracy: 0.0810\n",
            "Epoch 24/100\n",
            "5310/5310 [==============================] - 19s 4ms/step - loss: 0.9441 - accuracy: 0.0843 - val_loss: 0.9443 - val_accuracy: 0.0810\n",
            "Epoch 25/100\n",
            "5310/5310 [==============================] - 19s 4ms/step - loss: 0.9449 - accuracy: 0.0843 - val_loss: 0.9286 - val_accuracy: 0.0810\n",
            "Epoch 26/100\n",
            "5310/5310 [==============================] - 20s 4ms/step - loss: 0.9451 - accuracy: 0.0843 - val_loss: 0.9308 - val_accuracy: 0.0810\n",
            "Epoch 27/100\n",
            "5310/5310 [==============================] - 20s 4ms/step - loss: 0.9448 - accuracy: 0.0843 - val_loss: 0.9304 - val_accuracy: 0.0810\n",
            "Epoch 28/100\n",
            "5310/5310 [==============================] - 25s 5ms/step - loss: 0.9446 - accuracy: 0.0843 - val_loss: 0.9292 - val_accuracy: 0.0810\n",
            "Epoch 29/100\n",
            "5310/5310 [==============================] - 22s 4ms/step - loss: 0.9440 - accuracy: 0.0843 - val_loss: 0.9315 - val_accuracy: 0.0810\n",
            "Epoch 30/100\n",
            "5310/5310 [==============================] - 20s 4ms/step - loss: 0.9450 - accuracy: 0.0843 - val_loss: 0.9294 - val_accuracy: 0.0810\n",
            "Epoch 31/100\n",
            "5310/5310 [==============================] - 22s 4ms/step - loss: 0.9446 - accuracy: 0.0843 - val_loss: 0.9453 - val_accuracy: 0.0810\n",
            "Epoch 32/100\n",
            "5310/5310 [==============================] - 20s 4ms/step - loss: 0.9447 - accuracy: 0.0843 - val_loss: 0.9287 - val_accuracy: 0.0810\n",
            "Epoch 33/100\n",
            "5310/5310 [==============================] - 18s 3ms/step - loss: 0.9452 - accuracy: 0.0843 - val_loss: 0.9359 - val_accuracy: 0.0810\n",
            "Epoch 34/100\n",
            "5310/5310 [==============================] - 21s 4ms/step - loss: 0.9445 - accuracy: 0.0843 - val_loss: 0.9289 - val_accuracy: 0.0810\n",
            "Epoch 35/100\n",
            "5310/5310 [==============================] - 19s 4ms/step - loss: 0.9446 - accuracy: 0.0843 - val_loss: 0.9564 - val_accuracy: 0.0810\n",
            "Epoch 36/100\n",
            "5310/5310 [==============================] - 18s 3ms/step - loss: 0.9448 - accuracy: 0.0843 - val_loss: 0.9346 - val_accuracy: 0.0810\n",
            "Epoch 37/100\n",
            "5310/5310 [==============================] - 20s 4ms/step - loss: 0.9451 - accuracy: 0.0843 - val_loss: 0.9317 - val_accuracy: 0.0810\n",
            "Epoch 38/100\n",
            "5310/5310 [==============================] - 19s 4ms/step - loss: 0.9441 - accuracy: 0.0843 - val_loss: 0.9451 - val_accuracy: 0.0810\n",
            "Epoch 39/100\n",
            "5310/5310 [==============================] - 19s 4ms/step - loss: 0.9451 - accuracy: 0.0843 - val_loss: 0.9352 - val_accuracy: 0.0810\n",
            "Epoch 40/100\n",
            "5310/5310 [==============================] - 19s 4ms/step - loss: 0.9447 - accuracy: 0.0843 - val_loss: 0.9303 - val_accuracy: 0.0810\n",
            "Epoch 41/100\n",
            "5310/5310 [==============================] - 19s 4ms/step - loss: 0.9442 - accuracy: 0.0843 - val_loss: 0.9460 - val_accuracy: 0.0810\n",
            "Epoch 42/100\n",
            "5310/5310 [==============================] - 21s 4ms/step - loss: 0.9449 - accuracy: 0.0843 - val_loss: 0.9355 - val_accuracy: 0.0810\n",
            "Epoch 43/100\n",
            "5310/5310 [==============================] - 19s 4ms/step - loss: 0.9444 - accuracy: 0.0843 - val_loss: 0.9422 - val_accuracy: 0.0810\n",
            "Epoch 44/100\n",
            "5310/5310 [==============================] - 20s 4ms/step - loss: 0.9448 - accuracy: 0.0843 - val_loss: 0.9304 - val_accuracy: 0.0810\n",
            "Epoch 45/100\n",
            "5310/5310 [==============================] - 20s 4ms/step - loss: 0.9442 - accuracy: 0.0843 - val_loss: 0.9340 - val_accuracy: 0.0810\n",
            "Epoch 46/100\n",
            "5310/5310 [==============================] - 19s 4ms/step - loss: 0.9449 - accuracy: 0.0843 - val_loss: 0.9308 - val_accuracy: 0.0810\n",
            "Epoch 47/100\n",
            "5310/5310 [==============================] - 19s 4ms/step - loss: 0.9450 - accuracy: 0.0843 - val_loss: 0.9287 - val_accuracy: 0.0810\n",
            "Epoch 48/100\n",
            "5310/5310 [==============================] - 20s 4ms/step - loss: 0.9443 - accuracy: 0.0843 - val_loss: 0.9286 - val_accuracy: 0.0810\n",
            "Epoch 49/100\n",
            "5310/5310 [==============================] - 22s 4ms/step - loss: 0.9446 - accuracy: 0.0843 - val_loss: 0.9308 - val_accuracy: 0.0810\n",
            "Epoch 50/100\n",
            "5310/5310 [==============================] - 20s 4ms/step - loss: 0.9446 - accuracy: 0.0843 - val_loss: 0.9409 - val_accuracy: 0.0810\n",
            "Epoch 51/100\n",
            "5310/5310 [==============================] - 20s 4ms/step - loss: 0.9448 - accuracy: 0.0843 - val_loss: 0.9286 - val_accuracy: 0.0810\n",
            "Epoch 52/100\n",
            "5310/5310 [==============================] - 21s 4ms/step - loss: 0.9452 - accuracy: 0.0843 - val_loss: 0.9290 - val_accuracy: 0.0810\n",
            "Epoch 53/100\n",
            "5310/5310 [==============================] - 21s 4ms/step - loss: 0.9446 - accuracy: 0.0843 - val_loss: 0.9329 - val_accuracy: 0.0810\n",
            "Epoch 54/100\n",
            "5310/5310 [==============================] - 22s 4ms/step - loss: 0.9452 - accuracy: 0.0843 - val_loss: 0.9298 - val_accuracy: 0.0810\n",
            "Epoch 55/100\n",
            "5310/5310 [==============================] - 23s 4ms/step - loss: 0.9453 - accuracy: 0.0843 - val_loss: 0.9307 - val_accuracy: 0.0810\n",
            "Epoch 56/100\n",
            "5310/5310 [==============================] - 22s 4ms/step - loss: 0.9445 - accuracy: 0.0843 - val_loss: 0.9324 - val_accuracy: 0.0810\n",
            "Epoch 57/100\n",
            "5310/5310 [==============================] - 25s 5ms/step - loss: 0.9444 - accuracy: 0.0843 - val_loss: 0.9310 - val_accuracy: 0.0810\n",
            "Epoch 58/100\n",
            "5310/5310 [==============================] - 20s 4ms/step - loss: 0.9450 - accuracy: 0.0843 - val_loss: 0.9341 - val_accuracy: 0.0810\n",
            "Epoch 59/100\n",
            "5310/5310 [==============================] - 20s 4ms/step - loss: 0.9449 - accuracy: 0.0843 - val_loss: 0.9289 - val_accuracy: 0.0810\n",
            "Epoch 60/100\n",
            "5310/5310 [==============================] - 19s 4ms/step - loss: 0.9455 - accuracy: 0.0843 - val_loss: 0.9725 - val_accuracy: 0.0810\n",
            "Epoch 61/100\n",
            "5310/5310 [==============================] - 19s 4ms/step - loss: 0.9449 - accuracy: 0.0843 - val_loss: 0.9287 - val_accuracy: 0.0810\n",
            "Epoch 62/100\n",
            "5310/5310 [==============================] - 18s 3ms/step - loss: 0.9454 - accuracy: 0.0843 - val_loss: 0.9338 - val_accuracy: 0.0810\n",
            "Epoch 63/100\n",
            "5310/5310 [==============================] - 19s 4ms/step - loss: 0.9448 - accuracy: 0.0843 - val_loss: 0.9528 - val_accuracy: 0.0810\n",
            "Epoch 64/100\n",
            "5310/5310 [==============================] - 21s 4ms/step - loss: 0.9451 - accuracy: 0.0843 - val_loss: 0.9345 - val_accuracy: 0.0810\n",
            "Epoch 65/100\n",
            "5310/5310 [==============================] - 19s 4ms/step - loss: 0.9450 - accuracy: 0.0843 - val_loss: 0.9286 - val_accuracy: 0.0810\n",
            "Epoch 66/100\n",
            "5310/5310 [==============================] - 21s 4ms/step - loss: 0.9444 - accuracy: 0.0843 - val_loss: 0.9346 - val_accuracy: 0.0810\n",
            "Epoch 67/100\n",
            "5310/5310 [==============================] - 21s 4ms/step - loss: 0.9453 - accuracy: 0.0843 - val_loss: 0.9290 - val_accuracy: 0.0810\n",
            "Epoch 68/100\n",
            "5310/5310 [==============================] - 22s 4ms/step - loss: 0.9448 - accuracy: 0.0843 - val_loss: 0.9295 - val_accuracy: 0.0810\n",
            "Epoch 69/100\n",
            "5310/5310 [==============================] - 21s 4ms/step - loss: 0.9453 - accuracy: 0.0843 - val_loss: 0.9312 - val_accuracy: 0.0810\n",
            "Epoch 70/100\n",
            "5310/5310 [==============================] - 21s 4ms/step - loss: 0.9458 - accuracy: 0.0843 - val_loss: 0.9287 - val_accuracy: 0.0810\n",
            "Epoch 71/100\n",
            "5310/5310 [==============================] - 21s 4ms/step - loss: 0.9450 - accuracy: 0.0843 - val_loss: 0.9332 - val_accuracy: 0.0810\n",
            "Epoch 72/100\n",
            "5310/5310 [==============================] - 20s 4ms/step - loss: 0.9453 - accuracy: 0.0843 - val_loss: 0.9309 - val_accuracy: 0.0810\n",
            "Epoch 73/100\n",
            "5310/5310 [==============================] - 20s 4ms/step - loss: 0.9450 - accuracy: 0.0843 - val_loss: 0.9287 - val_accuracy: 0.0810\n",
            "Epoch 74/100\n",
            "5310/5310 [==============================] - 20s 4ms/step - loss: 0.9449 - accuracy: 0.0843 - val_loss: 0.9305 - val_accuracy: 0.0810\n",
            "Epoch 75/100\n",
            "5310/5310 [==============================] - 20s 4ms/step - loss: 0.9447 - accuracy: 0.0843 - val_loss: 0.9346 - val_accuracy: 0.0810\n",
            "Epoch 76/100\n",
            "5310/5310 [==============================] - 19s 4ms/step - loss: 0.9449 - accuracy: 0.0843 - val_loss: 0.9292 - val_accuracy: 0.0810\n",
            "Epoch 77/100\n",
            "5310/5310 [==============================] - 20s 4ms/step - loss: 0.9458 - accuracy: 0.0843 - val_loss: 0.9324 - val_accuracy: 0.0810\n",
            "Epoch 78/100\n",
            "5310/5310 [==============================] - 21s 4ms/step - loss: 0.9451 - accuracy: 0.0843 - val_loss: 0.9386 - val_accuracy: 0.0810\n",
            "Epoch 79/100\n",
            "5310/5310 [==============================] - 21s 4ms/step - loss: 0.9453 - accuracy: 0.0843 - val_loss: 0.9294 - val_accuracy: 0.0810\n",
            "Epoch 80/100\n",
            "5310/5310 [==============================] - 18s 3ms/step - loss: 0.9455 - accuracy: 0.0843 - val_loss: 0.9307 - val_accuracy: 0.0810\n",
            "Epoch 81/100\n",
            "5310/5310 [==============================] - 21s 4ms/step - loss: 0.9454 - accuracy: 0.0843 - val_loss: 0.9292 - val_accuracy: 0.0810\n",
            "Epoch 82/100\n",
            "5310/5310 [==============================] - 19s 4ms/step - loss: 0.9455 - accuracy: 0.0843 - val_loss: 0.9457 - val_accuracy: 0.0810\n",
            "Epoch 83/100\n",
            "5310/5310 [==============================] - 21s 4ms/step - loss: 0.9447 - accuracy: 0.0843 - val_loss: 0.9290 - val_accuracy: 0.0810\n",
            "Epoch 84/100\n",
            "5310/5310 [==============================] - 22s 4ms/step - loss: 0.9453 - accuracy: 0.0843 - val_loss: 0.9326 - val_accuracy: 0.0810\n",
            "Epoch 85/100\n",
            "5310/5310 [==============================] - 21s 4ms/step - loss: 0.9452 - accuracy: 0.0843 - val_loss: 0.9565 - val_accuracy: 0.0810\n",
            "Epoch 86/100\n",
            "5310/5310 [==============================] - 20s 4ms/step - loss: 0.9453 - accuracy: 0.0843 - val_loss: 0.9290 - val_accuracy: 0.0810\n",
            "Epoch 87/100\n",
            "5310/5310 [==============================] - 20s 4ms/step - loss: 0.9450 - accuracy: 0.0843 - val_loss: 0.9312 - val_accuracy: 0.0810\n",
            "Epoch 88/100\n",
            "5310/5310 [==============================] - 20s 4ms/step - loss: 0.9451 - accuracy: 0.0843 - val_loss: 0.9401 - val_accuracy: 0.0810\n",
            "Epoch 89/100\n",
            "5310/5310 [==============================] - 20s 4ms/step - loss: 0.9444 - accuracy: 0.0843 - val_loss: 0.9352 - val_accuracy: 0.0810\n",
            "Epoch 90/100\n",
            "5310/5310 [==============================] - 20s 4ms/step - loss: 0.9457 - accuracy: 0.0843 - val_loss: 0.9320 - val_accuracy: 0.0810\n",
            "Epoch 91/100\n",
            "5310/5310 [==============================] - 21s 4ms/step - loss: 0.9450 - accuracy: 0.0843 - val_loss: 0.9487 - val_accuracy: 0.0810\n",
            "Epoch 92/100\n",
            "5310/5310 [==============================] - 19s 4ms/step - loss: 0.9458 - accuracy: 0.0843 - val_loss: 0.9286 - val_accuracy: 0.0810\n",
            "Epoch 93/100\n",
            "5310/5310 [==============================] - 20s 4ms/step - loss: 0.9450 - accuracy: 0.0843 - val_loss: 0.9295 - val_accuracy: 0.0810\n",
            "Epoch 94/100\n",
            "5310/5310 [==============================] - 20s 4ms/step - loss: 0.9454 - accuracy: 0.0843 - val_loss: 0.9293 - val_accuracy: 0.0810\n",
            "Epoch 95/100\n",
            "5310/5310 [==============================] - 20s 4ms/step - loss: 0.9452 - accuracy: 0.0843 - val_loss: 0.9310 - val_accuracy: 0.0810\n",
            "Epoch 96/100\n",
            "5310/5310 [==============================] - 20s 4ms/step - loss: 0.9452 - accuracy: 0.0843 - val_loss: 0.9288 - val_accuracy: 0.0810\n",
            "Epoch 97/100\n",
            "5310/5310 [==============================] - 20s 4ms/step - loss: 0.9454 - accuracy: 0.0843 - val_loss: 0.9325 - val_accuracy: 0.0810\n",
            "Epoch 98/100\n",
            "5310/5310 [==============================] - 20s 4ms/step - loss: 0.9452 - accuracy: 0.0843 - val_loss: 0.9287 - val_accuracy: 0.0810\n",
            "Epoch 99/100\n",
            "5310/5310 [==============================] - 19s 4ms/step - loss: 0.9456 - accuracy: 0.0843 - val_loss: 0.9287 - val_accuracy: 0.0810\n",
            "Epoch 100/100\n",
            "5310/5310 [==============================] - 18s 3ms/step - loss: 0.9453 - accuracy: 0.0843 - val_loss: 0.9470 - val_accuracy: 0.0810\n"
          ]
        },
        {
          "output_type": "execute_result",
          "data": {
            "text/plain": [
              "<keras.callbacks.History at 0x7f2743190a50>"
            ]
          },
          "metadata": {},
          "execution_count": 161
        }
      ]
    },
    {
      "cell_type": "code",
      "source": [
        "#Fitting the model with 15 epoch\n",
        "model.fit(x,y, validation_split=0.20, epochs=15, batch_size=10)"
      ],
      "metadata": {
        "colab": {
          "base_uri": "https://localhost:8080/"
        },
        "outputId": "188e6631-ec91-4529-acf4-545b70b71ce7",
        "id": "yfhs8NHvGaKI"
      },
      "execution_count": null,
      "outputs": [
        {
          "output_type": "stream",
          "name": "stdout",
          "text": [
            "Epoch 1/15\n",
            "5310/5310 [==============================] - 21s 4ms/step - loss: 0.9449 - accuracy: 0.0843 - val_loss: 0.9302 - val_accuracy: 0.0810\n",
            "Epoch 2/15\n",
            "5310/5310 [==============================] - 20s 4ms/step - loss: 0.9455 - accuracy: 0.0843 - val_loss: 0.9327 - val_accuracy: 0.0810\n",
            "Epoch 3/15\n",
            "5310/5310 [==============================] - 20s 4ms/step - loss: 0.9450 - accuracy: 0.0843 - val_loss: 0.9413 - val_accuracy: 0.0810\n",
            "Epoch 4/15\n",
            "5310/5310 [==============================] - 19s 4ms/step - loss: 0.9453 - accuracy: 0.0843 - val_loss: 0.9318 - val_accuracy: 0.0810\n",
            "Epoch 5/15\n",
            "5310/5310 [==============================] - 20s 4ms/step - loss: 0.9455 - accuracy: 0.0843 - val_loss: 0.9293 - val_accuracy: 0.0810\n",
            "Epoch 6/15\n",
            "5310/5310 [==============================] - 20s 4ms/step - loss: 0.9459 - accuracy: 0.0843 - val_loss: 0.9294 - val_accuracy: 0.0810\n",
            "Epoch 7/15\n",
            "5310/5310 [==============================] - 20s 4ms/step - loss: 0.9459 - accuracy: 0.0843 - val_loss: 0.9291 - val_accuracy: 0.0810\n",
            "Epoch 8/15\n",
            "5310/5310 [==============================] - 19s 4ms/step - loss: 0.9451 - accuracy: 0.0843 - val_loss: 0.9296 - val_accuracy: 0.0810\n",
            "Epoch 9/15\n",
            "5310/5310 [==============================] - 20s 4ms/step - loss: 0.9445 - accuracy: 0.0843 - val_loss: 0.9295 - val_accuracy: 0.0810\n",
            "Epoch 10/15\n",
            "5310/5310 [==============================] - 19s 4ms/step - loss: 0.9454 - accuracy: 0.0843 - val_loss: 0.9289 - val_accuracy: 0.0810\n",
            "Epoch 11/15\n",
            "5310/5310 [==============================] - 19s 4ms/step - loss: 0.9450 - accuracy: 0.0843 - val_loss: 0.9605 - val_accuracy: 0.0810\n",
            "Epoch 12/15\n",
            "5310/5310 [==============================] - 19s 4ms/step - loss: 0.9452 - accuracy: 0.0843 - val_loss: 0.9297 - val_accuracy: 0.0810\n",
            "Epoch 13/15\n",
            "5310/5310 [==============================] - 19s 4ms/step - loss: 0.9446 - accuracy: 0.0843 - val_loss: 0.9398 - val_accuracy: 0.0810\n",
            "Epoch 14/15\n",
            "5310/5310 [==============================] - 19s 4ms/step - loss: 0.9455 - accuracy: 0.0843 - val_loss: 0.9291 - val_accuracy: 0.0810\n",
            "Epoch 15/15\n",
            "5310/5310 [==============================] - 20s 4ms/step - loss: 0.9451 - accuracy: 0.0843 - val_loss: 0.9329 - val_accuracy: 0.0810\n"
          ]
        },
        {
          "output_type": "execute_result",
          "data": {
            "text/plain": [
              "<keras.callbacks.History at 0x7f2745b523d0>"
            ]
          },
          "metadata": {},
          "execution_count": 162
        }
      ]
    },
    {
      "cell_type": "code",
      "source": [
        "#Creating a variable for the prediction\n",
        "predictions = model.predict(x)"
      ],
      "metadata": {
        "id": "c5A0EvOnIEEn"
      },
      "execution_count": null,
      "outputs": []
    },
    {
      "cell_type": "code",
      "source": [
        "#Measuring accuracy\n",
        "_, nn_accuracy = model.evaluate(x, y)"
      ],
      "metadata": {
        "colab": {
          "base_uri": "https://localhost:8080/"
        },
        "id": "TRSDKPG5IMFW",
        "outputId": "720770e0-9815-4fae-9a4b-e55608425ad4"
      },
      "execution_count": null,
      "outputs": [
        {
          "output_type": "stream",
          "name": "stdout",
          "text": [
            "2074/2074 [==============================] - 6s 3ms/step - loss: 0.9421 - accuracy: 0.0836\n"
          ]
        }
      ]
    },
    {
      "cell_type": "code",
      "source": [
        "print('Neural Network Accuracy: %.2f' % (nn_accuracy*100))\n",
        "print('Validation Accuracy: %.2f' % (0.0810*100))"
      ],
      "metadata": {
        "colab": {
          "base_uri": "https://localhost:8080/"
        },
        "id": "1SAr2NelIW-M",
        "outputId": "60d4cc4f-5149-4b28-c9c5-3f785cb1353a"
      },
      "execution_count": null,
      "outputs": [
        {
          "output_type": "stream",
          "name": "stdout",
          "text": [
            "Neural Network Accuracy: 8.36\n",
            "Validation Accuracy: 8.10\n"
          ]
        }
      ]
    },
    {
      "cell_type": "markdown",
      "source": [
        "# Section #5. Challenges"
      ],
      "metadata": {
        "id": "SrMbgFc3ywNs"
      }
    },
    {
      "cell_type": "markdown",
      "source": [
        "\n",
        "\n",
        "*   Working with categorical features: 75% of the fetures selected for modelling were categorical, which presented us with the challenge to find the best way to manage them.However, this lead us to came up with solutions that could allow us to properly work and design models. \n",
        "\n"
      ],
      "metadata": {
        "id": "_wJaLagfCGzp"
      }
    },
    {
      "cell_type": "markdown",
      "source": [
        "\n",
        "\n",
        "*   Low accuracy for the Artificial Neural Network:making a prediction with this model resulted complex and we couldn't find a way to increase the accuracy in this model\n",
        "\n"
      ],
      "metadata": {
        "id": "3tM55kfhYJj5"
      }
    },
    {
      "cell_type": "markdown",
      "source": [
        "\n",
        "\n",
        "*   Model comparison: for Random Forest and Artificial Neural Network we were able to measure accuracy. We faced some challenges with coding, for example we are using the Random Forest to do a regression for prediction, so we couldn't use the function evaluate_model(rf, X_test, y_test) as this function only seemed to work for Random Forest Classifier. For our KNN, the ROC/AUC didn't work because of the selection, but we were able to work around these challenges.\n",
        "\n",
        "\n"
      ],
      "metadata": {
        "id": "G-nvXbOszNZH"
      }
    },
    {
      "cell_type": "markdown",
      "source": [
        "# Section #6: Conclusion & Future Work"
      ],
      "metadata": {
        "id": "dasdv-BuQd_E"
      }
    },
    {
      "cell_type": "markdown",
      "source": [
        "#### Category domain\n",
        "\n",
        "* The category feature had issues like this:\n",
        "\n",
        "```\n",
        "  SaaS|Sales and Marketing|Software                      1\n",
        "  Application Platforms|Service Providers|Services       1\n",
        "  Consulting|Design|User Experience Design               1\n",
        "  FreetoPlay Gaming|Games|MMO Games                      1\n",
        "```\n",
        "\n",
        "\n",
        "\n",
        "\n",
        "We would have liked to convert them to regular data, meaning splitting one row [SaaS|Sales and Marketing|Software] into 3 or 4 rows with 1 category each, but we lacked time and expertise to do it fast."
      ],
      "metadata": {
        "id": "4jLL4QYZ-PlY"
      }
    },
    {
      "cell_type": "markdown",
      "source": [
        "#### Improve accuracy\n",
        "\n",
        "*   Improve accuracy of the Artificial Neural Network model. We would like to explore more about how to make improvements in this model to obtain a better accuracy. \n",
        "\n"
      ],
      "metadata": {
        "id": "QX0GbmmRW0sP"
      }
    },
    {
      "cell_type": "markdown",
      "source": [
        "#### Incorporate acquisitions\n",
        "\n",
        "* The initial idea was to incorporate analysis over the acquisitors, but we focused on the companies themselves, specially towards the target feature \"Status\". We would like to include investors and acquisitors for further predictions.\n"
      ],
      "metadata": {
        "id": "gWY8oqaJeAO-"
      }
    },
    {
      "cell_type": "markdown",
      "source": [
        "# Section #7: Performance Evaluation\n",
        "---"
      ],
      "metadata": {
        "id": "pEL7toHAQi77"
      }
    },
    {
      "cell_type": "markdown",
      "source": [
        "##General\n",
        "\n",
        "\n"
      ],
      "metadata": {
        "id": "uvjabikyQ7Ed"
      }
    },
    {
      "cell_type": "markdown",
      "source": [
        "To test how the models work, we set parameters to test out the results. \n",
        "The parameters are based in the numerical values assigned for the categorical values (see Encoding categorical values for more reference). "
      ],
      "metadata": {
        "id": "xVp7WyGZ1pjG"
      }
    },
    {
      "cell_type": "code",
      "source": [
        "#Define parameters to test models\n",
        "parameter= [[2,500000,1,2]]"
      ],
      "metadata": {
        "id": "o7Ov9qmX2Snx"
      },
      "execution_count": null,
      "outputs": []
    },
    {
      "cell_type": "code",
      "source": [
        "#Making a prediction to test Random Forest Model\n",
        "rftestprediction= rf.predict(parameter)\n",
        "print (\"RF status prediction:%.0f\"%rftestprediction)\n"
      ],
      "metadata": {
        "colab": {
          "base_uri": "https://localhost:8080/"
        },
        "id": "kbbRigy8m8W2",
        "outputId": "f5ffb4ea-ee51-4c16-a8e1-b198cd684b0b"
      },
      "execution_count": null,
      "outputs": [
        {
          "output_type": "stream",
          "name": "stdout",
          "text": [
            "RF status prediction:4\n"
          ]
        }
      ]
    },
    {
      "cell_type": "code",
      "source": [
        "#Making a prediction to test KNN Model\n",
        "knn_prediction=knn.predict(parameter)\n",
        "print(\"KNN prediction: %.0f\" %knn_prediction)"
      ],
      "metadata": {
        "colab": {
          "base_uri": "https://localhost:8080/"
        },
        "id": "SjIg78EWKgdX",
        "outputId": "b932c472-98b6-41a9-da9d-175686472cbb"
      },
      "execution_count": null,
      "outputs": [
        {
          "output_type": "stream",
          "name": "stdout",
          "text": [
            "KNN prediction: 4\n"
          ]
        }
      ]
    },
    {
      "cell_type": "code",
      "source": [
        "#Making a prediction to test Artificial Neural Network Model\n",
        "nn_prediction=model.predict(parameter) \n",
        "print('Neural Network Prediction: %.0f' %nn_prediction)"
      ],
      "metadata": {
        "colab": {
          "base_uri": "https://localhost:8080/"
        },
        "id": "HGMQAz84I8Pm",
        "outputId": "076f459f-3f6a-4258-9795-ddb73a3e4122"
      },
      "execution_count": null,
      "outputs": [
        {
          "output_type": "stream",
          "name": "stdout",
          "text": [
            "Neural Network Prediction: 4\n"
          ]
        }
      ]
    },
    {
      "cell_type": "markdown",
      "source": [
        "Testing out the models with the defined parameters we can see that Random Forest and KNN give the same result as it was expected because they have a similar level of accuracy."
      ],
      "metadata": {
        "id": "scP4svM71ncj"
      }
    },
    {
      "cell_type": "markdown",
      "source": [
        "## Model comparison"
      ],
      "metadata": {
        "id": "ut7_YsKQRSWj"
      }
    },
    {
      "cell_type": "markdown",
      "source": [
        "The performance evaluation was done in-situ, at the end of each model.\n",
        "\n",
        "As a conclusion we can say that for Random Forest and KNN the performance was very similar, close to 80%, which we considered as acceptable.\n",
        "\n",
        "ANN's accuracy was very low, close to 8%, and we didn't have enough time to explore it further, but as first steps we believe two and a half prediction models were great.\n",
        "\n",
        "\n"
      ],
      "metadata": {
        "id": "zbsY5on_cRI5"
      }
    },
    {
      "cell_type": "markdown",
      "source": [
        "<div align='center'><img src='http://web.mangata.blog/652data/team.png' ></div>"
      ],
      "metadata": {
        "id": "C5gKeApanbn4"
      }
    },
    {
      "cell_type": "markdown",
      "source": [
        "# Section #9: References"
      ],
      "metadata": {
        "id": "BbhGdgCbQsWe"
      }
    },
    {
      "cell_type": "markdown",
      "source": [
        "Joins in Pandas: Master the Different Types of Joins in Python\n",
        "\n",
        "> https://www.analyticsvidhya.com/blog/2020/02/joins-in-pandas-master-the-different-types-of-joins-in-python/\n",
        "\n",
        "\n"
      ],
      "metadata": {
        "id": "Pg9wA2ySoesX"
      }
    },
    {
      "cell_type": "markdown",
      "source": [
        "Artificial Neural Network\n",
        "\n",
        "> https://www.analyticsvidhya.com/blog/2021/08/a-walk-through-of-regression-analysis-using-artificial-neural-networks-in-tensorflow/#:~:text=Regression%20using%20Artificial%20Neural%20Networks&text=The%20purpose%20of%20using%20Artificial,the%20complex%20non%2Dlinear%20relationship."
      ],
      "metadata": {
        "id": "noaGSawG4NIq"
      }
    },
    {
      "cell_type": "markdown",
      "source": [
        "Calculating accuracy of random forest for regression task\n",
        "\n",
        "> https://www.codegrepper.com/code-examples/python/formula+for+calculating+accuracy+of+random+forest+for+regression+task"
      ],
      "metadata": {
        "id": "LfsKUbIV4mKf"
      }
    },
    {
      "cell_type": "markdown",
      "source": [
        "Hot Encoding\n",
        "\n",
        "> https://www.educative.io/blog/one-hot-encoding"
      ],
      "metadata": {
        "id": "F0uVbYpZ48Ko"
      }
    },
    {
      "cell_type": "markdown",
      "source": [
        "sklearn.ensemble.RandomForestRegressor\n",
        "\n",
        "> https://scikit-learn.org/stable/modules/generated/sklearn.ensemble.RandomForestRegressor.html"
      ],
      "metadata": {
        "id": "3E8sGvEO5I7C"
      }
    },
    {
      "cell_type": "markdown",
      "source": [
        "K-Nearest Neighbors Algorithm Using Python\n",
        "\n",
        "> https://www.edureka.co/blog/k-nearest-neighbors-algorithm/"
      ],
      "metadata": {
        "id": "BiDjC_kz7gDp"
      }
    }
  ]
}